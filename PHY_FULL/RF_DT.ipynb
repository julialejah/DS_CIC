{
 "cells": [
  {
   "cell_type": "markdown",
   "metadata": {},
   "source": [
    "# VALIDATION OF ML MODELS\n"
   ]
  },
  {
   "cell_type": "code",
   "execution_count": 1,
   "metadata": {},
   "outputs": [],
   "source": [
    "from sklearn.tree import DecisionTreeClassifier\n",
    "from sklearn.ensemble import RandomForestClassifier\n",
    "from sklearn.neighbors import KNeighborsClassifier\n",
    "from sklearn.naive_bayes import GaussianNB\n",
    "from sklearn.ensemble import AdaBoostClassifier\n",
    "from sklearn import svm\n",
    "from sklearn.metrics import classification_report\n",
    "from sklearn.metrics import (precision_score, recall_score,f1_score, accuracy_score,mean_squared_error,mean_absolute_error)\n",
    "import pandas as pd\n",
    "from csv import reader\n",
    "pd.set_option('display.max_columns', 50)\n",
    "import numpy as np\n",
    "from imblearn.over_sampling import SMOTE\n",
    "from sklearn.model_selection import train_test_split\n",
    "import random\n",
    "from sklearn import metrics\n",
    "\n"
   ]
  },
  {
   "cell_type": "code",
   "execution_count": 2,
   "metadata": {},
   "outputs": [],
   "source": [
    "X_smote=pd.read_csv(\"X_smote.csv\",sep=',',dtype=np.float32)\n",
    "y_smote=pd.read_csv(\"y_smote.csv\",sep=',')\n",
    "\n",
    "X_Val=pd.read_csv(\"X_Val.csv\",sep=',',dtype=np.float32)\n",
    "y_Val=pd.read_csv(\"y_Val.csv\",sep=',')\n",
    "\n",
    "X_Test=pd.read_csv(\"X_Test.csv\",sep=',',dtype=np.float32)\n",
    "y_Test=pd.read_csv(\"y_Test.csv\",sep=',')"
   ]
  },
  {
   "cell_type": "code",
   "execution_count": 3,
   "metadata": {},
   "outputs": [
    {
     "name": "stdout",
     "output_type": "stream",
     "text": [
      "['Benign' 'Bot' 'DDoS' 'DoS' 'Bruteforce' 'Infilteration' 'Web_attack'\n",
      " 'Label']\n",
      "Int64Index([], dtype='int64')\n",
      "False\n",
      "(4900912, 78)\n"
     ]
    }
   ],
   "source": [
    "print (pd.unique(y_smote.iloc[:,-1].squeeze()))\n",
    "print(X_smote.index[np.isinf(X_smote).any(1)])\n",
    "print(X_smote.isna().values.any())\n",
    "print (X_smote.shape)"
   ]
  },
  {
   "cell_type": "code",
   "execution_count": 4,
   "metadata": {},
   "outputs": [
    {
     "name": "stderr",
     "output_type": "stream",
     "text": [
      "/usr/local/lib/python3.6/dist-packages/ipykernel_launcher.py:2: DataConversionWarning: A column-vector y was passed when a 1d array was expected. Please change the shape of y to (n_samples,), for example using ravel().\n",
      "  \n"
     ]
    },
    {
     "name": "stdout",
     "output_type": "stream",
     "text": [
      "CPU times: user 49min 8s, sys: 11.6 s, total: 49min 20s\n",
      "Wall time: 6min 35s\n"
     ]
    }
   ],
   "source": [
    "%%time\n",
    "model = RandomForestClassifier(n_jobs=-1)\n",
    "model.fit(X_smote, y_smote)\n",
    "# make predictions\n",
    "expected = y_Val\n",
    "predicted = model.predict(X_Val)"
   ]
  },
  {
   "cell_type": "code",
   "execution_count": 5,
   "metadata": {},
   "outputs": [
    {
     "name": "stdout",
     "output_type": "stream",
     "text": [
      "****************-----VALIDATION---*******************\n",
      "********************RANDOM FOREST *******************\n",
      "               precision    recall  f1-score   support\n",
      "\n",
      "       Benign       0.98      1.00      0.99    121193\n",
      "          Bot       1.00      1.00      1.00     25810\n",
      "   Bruteforce       0.84      0.94      0.89     34583\n",
      "         DDoS       1.00      1.00      1.00    113559\n",
      "          DoS       0.96      0.90      0.93     58945\n",
      "Infilteration       0.96      0.82      0.89     14531\n",
      "        Label       1.00      1.00      1.00         3\n",
      "   Web_attack       1.00      1.00      1.00        84\n",
      "\n",
      "     accuracy                           0.97    368708\n",
      "    macro avg       0.97      0.96      0.96    368708\n",
      " weighted avg       0.97      0.97      0.97    368708\n",
      "\n",
      "0.9696860388166245\n",
      "CPU times: user 28.2 s, sys: 11.5 ms, total: 28.2 s\n",
      "Wall time: 29.3 s\n"
     ]
    }
   ],
   "source": [
    "%%time\n",
    "# summarize the fit of the model\n",
    "print(\"****************-----VALIDATION---*******************\")\n",
    "print(\"********************RANDOM FOREST *******************\")\n",
    "print(classification_report(expected,predicted))\n",
    "print(metrics.accuracy_score(expected,predicted))\n",
    "\n",
    "\n",
    "import sys\n",
    "\n",
    "original_stdout = sys.stdout # Save a reference to the original standard output\n",
    "\n",
    "with open('resultado_RandomForestClassifier.txt', 'w') as f:\n",
    "    sys.stdout = f # Change the standard output to the file we created.\n",
    "    print(classification_report(expected,predicted))\n",
    "    sys.stdout = original_stdout # Reset the standard output to its original value\n"
   ]
  },
  {
   "cell_type": "code",
   "execution_count": 6,
   "metadata": {},
   "outputs": [
    {
     "name": "stdout",
     "output_type": "stream",
     "text": [
      "****************-----TEST---*******************\n",
      "********************RANDOM FOREST *******************\n",
      "               precision    recall  f1-score   support\n",
      "\n",
      "       Benign       0.98      1.00      0.99   1092698\n",
      "          Bot       1.00      1.00      1.00    231692\n",
      "   Bruteforce       0.84      0.94      0.89    308379\n",
      "         DDoS       1.00      1.00      1.00   1023422\n",
      "          DoS       0.96      0.90      0.93    530006\n",
      "Infilteration       0.96      0.82      0.89    131361\n",
      "        Label       1.00      1.00      1.00        53\n",
      "   Web_attack       1.00      1.00      1.00       758\n",
      "\n",
      "     accuracy                           0.97   3318369\n",
      "    macro avg       0.97      0.96      0.96   3318369\n",
      " weighted avg       0.97      0.97      0.97   3318369\n",
      "\n",
      "0.9697239818718172\n",
      "CPU times: user 8min 49s, sys: 3.46 s, total: 8min 52s\n",
      "Wall time: 6min 53s\n"
     ]
    }
   ],
   "source": [
    "%%time\n",
    "# make predictions\n",
    "expected = y_Test\n",
    "predicted = model.predict(X_Test)\n",
    "# summarize the fit of the model\n",
    "print(\"****************-----TEST---*******************\")\n",
    "print(\"********************RANDOM FOREST *******************\")\n",
    "print(classification_report(expected,predicted))\n",
    "print(metrics.accuracy_score(expected,predicted))\n",
    "\n",
    "original_stdout = sys.stdout # Save a reference to the original standard output\n",
    "\n",
    "with open('resultadoTEST_RandomForestClassifier.txt', 'w') as f:\n",
    "    sys.stdout = f # Change the standard output to the file we created.\n",
    "    print(classification_report(expected,predicted))\n",
    "    sys.stdout = original_stdout # Reset the standard output to its original value\n",
    "\n",
    "\n"
   ]
  },
  {
   "cell_type": "code",
   "execution_count": null,
   "metadata": {},
   "outputs": [],
   "source": [
    "%%time\n",
    "model2 = DecisionTreeClassifier()\n",
    "model2.fit(X_smote, y_smote)\n",
    "# make predictions\n",
    "expected = y_Val\n",
    "predicted = model2.predict(X_Val)\n",
    "# summarize the fit of the model\n",
    "print(\"****************-----VALIDATION---*******************\")\n",
    "print(\"********************DECISION TREE *******************\")\n",
    "print(classification_report(expected,predicted))\n",
    "print(metrics.accuracy_score(expected,predicted))\n",
    "\n",
    "original_stdout = sys.stdout # Save a reference to the original standard output\n",
    "\n",
    "with open('resultadoVAL_DecisionTreeClassifier.txt', 'w') as f:\n",
    "    sys.stdout = f # Change the standard output to the file we created.\n",
    "    print(classification_report(expected,predicted))\n",
    "    sys.stdout = original_stdout # Reset the standard output to its original value\n",
    "\n"
   ]
  },
  {
   "cell_type": "code",
   "execution_count": null,
   "metadata": {},
   "outputs": [],
   "source": [
    "%%time\n",
    "# make predictions\n",
    "expected = y_Test\n",
    "predicted = model2.predict(X_Test)\n",
    "# summarize the fit of the model\n",
    "print(\"****************-----TEST---*******************\")\n",
    "print(\"********************DECISION TREE *******************\")\n",
    "print(classification_report(expected,predicted))\n",
    "print(metrics.accuracy_score(expected,predicted))\n",
    "\n",
    "original_stdout = sys.stdout # Save a reference to the original standard output\n",
    "\n",
    "with open('resultadoTEST_DecisionTreeClassifier.txt', 'w') as f:\n",
    "    sys.stdout = f # Change the standard output to the file we created.\n",
    "    print(classification_report(expected,predicted))\n",
    "    sys.stdout = original_stdout # Reset the standard output to its original value\n",
    "\n"
   ]
  },
  {
   "cell_type": "code",
   "execution_count": 15,
   "metadata": {},
   "outputs": [
    {
     "name": "stderr",
     "output_type": "stream",
     "text": [
      "/usr/local/lib/python3.6/dist-packages/sklearn/utils/validation.py:63: DataConversionWarning: A column-vector y was passed when a 1d array was expected. Please change the shape of y to (n_samples, ), for example using ravel().\n",
      "  return f(*args, **kwargs)\n"
     ]
    },
    {
     "name": "stdout",
     "output_type": "stream",
     "text": [
      "**********************---VALIDATION---************************\n",
      "********************ADA BOOST*******************\n"
     ]
    },
    {
     "name": "stderr",
     "output_type": "stream",
     "text": [
      "/usr/local/lib/python3.6/dist-packages/sklearn/metrics/_classification.py:1245: UndefinedMetricWarning: Precision and F-score are ill-defined and being set to 0.0 in labels with no predicted samples. Use `zero_division` parameter to control this behavior.\n",
      "  _warn_prf(average, modifier, msg_start, len(result))\n",
      "/usr/local/lib/python3.6/dist-packages/sklearn/metrics/_classification.py:1245: UndefinedMetricWarning: Precision and F-score are ill-defined and being set to 0.0 in labels with no predicted samples. Use `zero_division` parameter to control this behavior.\n",
      "  _warn_prf(average, modifier, msg_start, len(result))\n",
      "/usr/local/lib/python3.6/dist-packages/sklearn/metrics/_classification.py:1245: UndefinedMetricWarning: Precision and F-score are ill-defined and being set to 0.0 in labels with no predicted samples. Use `zero_division` parameter to control this behavior.\n",
      "  _warn_prf(average, modifier, msg_start, len(result))\n"
     ]
    },
    {
     "name": "stdout",
     "output_type": "stream",
     "text": [
      "                          precision    recall  f1-score   support\n",
      "\n",
      "                  Benign       0.33      1.00      0.50    121193\n",
      "                     Bot       0.00      0.00      0.00     25810\n",
      "        Brute Force -Web       0.00      0.00      0.00        59\n",
      "        Brute Force -XSS       0.00      0.00      0.00        21\n",
      "        DDOS attack-HOIC       0.00      0.00      0.00     61498\n",
      "    DDOS attack-LOIC-UDP       0.71      1.00      0.83       152\n",
      "  DDoS attacks-LOIC-HTTP       0.00      0.00      0.00     51909\n",
      "   DoS attacks-GoldenEye       0.00      0.00      0.00      3841\n",
      "        DoS attacks-Hulk       0.00      0.00      0.00     41406\n",
      "DoS attacks-SlowHTTPTest       0.00      0.00      0.00     12659\n",
      "   DoS attacks-Slowloris       0.00      0.00      0.00      1039\n",
      "          FTP-BruteForce       0.00      0.00      0.00     17583\n",
      "           Infilteration       0.89      0.01      0.01     14531\n",
      "                   Label       0.00      0.00      0.00         3\n",
      "           SQL Injection       0.00      0.00      0.00         4\n",
      "          SSH-Bruteforce       0.00      0.00      0.00     17000\n",
      "\n",
      "                accuracy                           0.33    368708\n",
      "               macro avg       0.12      0.13      0.08    368708\n",
      "            weighted avg       0.14      0.33      0.16    368708\n",
      "\n",
      "0.32937175217245085\n",
      "CPU times: user 1h 20min 57s, sys: 57.5 s, total: 1h 21min 54s\n",
      "Wall time: 1h 30min 51s\n"
     ]
    }
   ],
   "source": [
    "%%time\n",
    "model5 = AdaBoostClassifier(n_estimators=100)\n",
    "model5.fit(X_smote, y_smote)\n",
    "# make predictions\n",
    "predicted = model5.predict(X_Val)\n",
    "expected = y_Val\n",
    "# summarize the fit of the model\n",
    "print(\"**********************---VALIDATION---************************\")\n",
    "print(\"********************ADA BOOST*******************\")\n",
    "print(classification_report(expected,predicted))\n",
    "print(metrics.accuracy_score(expected,predicted))\n",
    "\n",
    "original_stdout = sys.stdout # Save a reference to the original standard output\n",
    "\n",
    "with open('resultadoVAL_DecisionTreeClassifier.txt', 'w') as f:\n",
    "    sys.stdout = f # Change the standard output to the file we created.\n",
    "    print(classification_report(expected,predicted))\n",
    "    sys.stdout = original_stdout # Reset the standard output to its original value\n",
    "\n",
    "\n"
   ]
  },
  {
   "cell_type": "code",
   "execution_count": 16,
   "metadata": {},
   "outputs": [
    {
     "name": "stdout",
     "output_type": "stream",
     "text": [
      "**********************---TEST---************************\n",
      "********************ADA BOOST*******************\n"
     ]
    },
    {
     "name": "stderr",
     "output_type": "stream",
     "text": [
      "/usr/local/lib/python3.6/dist-packages/sklearn/metrics/_classification.py:1245: UndefinedMetricWarning: Precision and F-score are ill-defined and being set to 0.0 in labels with no predicted samples. Use `zero_division` parameter to control this behavior.\n",
      "  _warn_prf(average, modifier, msg_start, len(result))\n",
      "/usr/local/lib/python3.6/dist-packages/sklearn/metrics/_classification.py:1245: UndefinedMetricWarning: Precision and F-score are ill-defined and being set to 0.0 in labels with no predicted samples. Use `zero_division` parameter to control this behavior.\n",
      "  _warn_prf(average, modifier, msg_start, len(result))\n",
      "/usr/local/lib/python3.6/dist-packages/sklearn/metrics/_classification.py:1245: UndefinedMetricWarning: Precision and F-score are ill-defined and being set to 0.0 in labels with no predicted samples. Use `zero_division` parameter to control this behavior.\n",
      "  _warn_prf(average, modifier, msg_start, len(result))\n"
     ]
    },
    {
     "name": "stdout",
     "output_type": "stream",
     "text": [
      "                          precision    recall  f1-score   support\n",
      "\n",
      "                  Benign       0.33      1.00      0.50   1092698\n",
      "                     Bot       0.00      0.00      0.00    231692\n",
      "        Brute Force -Web       0.00      0.00      0.00       493\n",
      "        Brute Force -XSS       0.00      0.00      0.00       188\n",
      "        DDOS attack-HOIC       0.00      0.00      0.00    555555\n",
      "    DDOS attack-LOIC-UDP       0.67      1.00      0.80      1397\n",
      "  DDoS attacks-LOIC-HTTP       0.00      0.00      0.00    466470\n",
      "   DoS attacks-GoldenEye       0.00      0.00      0.00     33524\n",
      "        DoS attacks-Hulk       0.00      0.00      0.00    374394\n",
      "DoS attacks-SlowHTTPTest       0.00      0.00      0.00    113242\n",
      "   DoS attacks-Slowloris       0.00      0.00      0.00      8846\n",
      "          FTP-BruteForce       0.00      0.00      0.00    156352\n",
      "           Infilteration       0.86      0.01      0.02    131361\n",
      "                   Label       0.00      0.00      0.00        53\n",
      "           SQL Injection       0.00      0.00      0.00        77\n",
      "          SSH-Bruteforce       0.00      0.00      0.00    152027\n",
      "\n",
      "                accuracy                           0.33   3318369\n",
      "               macro avg       0.12      0.13      0.08   3318369\n",
      "            weighted avg       0.14      0.33      0.16   3318369\n",
      "\n",
      "0.32997144078913465\n"
     ]
    }
   ],
   "source": [
    "# make predictions\n",
    "predicted = model5.predict(X_Test)\n",
    "expected = y_Test\n",
    "# summarize the fit of the model\n",
    "print(\"**********************---TEST---************************\")\n",
    "print(\"********************ADA BOOST*******************\")\n",
    "print(classification_report(expected,predicted))\n",
    "print(metrics.accuracy_score(expected,predicted))"
   ]
  }
 ],
 "metadata": {
  "kernelspec": {
   "display_name": "Python 3",
   "language": "python",
   "name": "python3"
  },
  "language_info": {
   "codemirror_mode": {
    "name": "ipython",
    "version": 3
   },
   "file_extension": ".py",
   "mimetype": "text/x-python",
   "name": "python",
   "nbconvert_exporter": "python",
   "pygments_lexer": "ipython3",
   "version": "3.6.9"
  }
 },
 "nbformat": 4,
 "nbformat_minor": 2
}
