{
 "cells": [
  {
   "cell_type": "code",
   "execution_count": 2,
   "metadata": {},
   "outputs": [],
   "source": [
    "import pandas as pd\n",
    "from csv import reader\n",
    "pd.set_option('display.max_columns', 50)\n",
    "import numpy as np\n",
    "from imblearn.over_sampling import SMOTE\n",
    "from sklearn.model_selection import train_test_split\n",
    "import random"
   ]
  },
  {
   "cell_type": "code",
   "execution_count": 3,
   "metadata": {
    "scrolled": false
   },
   "outputs": [
    {
     "ename": "KeyboardInterrupt",
     "evalue": "",
     "output_type": "error",
     "traceback": [
      "\u001b[0;31m\u001b[0m",
      "\u001b[0;31mKeyboardInterrupt\u001b[0mTraceback (most recent call last)",
      "\u001b[0;32m<ipython-input-3-1cb5dd0e7160>\u001b[0m in \u001b[0;36m<module>\u001b[0;34m\u001b[0m\n\u001b[1;32m     22\u001b[0m \u001b[0mmuestra\u001b[0m\u001b[0;34m,\u001b[0m\u001b[0mcont\u001b[0m \u001b[0;34m=\u001b[0m \u001b[0mlee_csv\u001b[0m\u001b[0;34m(\u001b[0m\u001b[0;34m'../Replica/Thursday-15-02-2018_TrafficForML_CICFlowMeter'\u001b[0m\u001b[0;34m,\u001b[0m\u001b[0mmuestra\u001b[0m\u001b[0;34m,\u001b[0m\u001b[0mcont\u001b[0m\u001b[0;34m)\u001b[0m\u001b[0;34m\u001b[0m\u001b[0;34m\u001b[0m\u001b[0m\n\u001b[1;32m     23\u001b[0m \u001b[0mmuestra\u001b[0m\u001b[0;34m,\u001b[0m\u001b[0mcont\u001b[0m \u001b[0;34m=\u001b[0m \u001b[0mlee_csv\u001b[0m\u001b[0;34m(\u001b[0m\u001b[0;34m'../Replica/Thursday-22-02-2018_TrafficForML_CICFlowMeter'\u001b[0m\u001b[0;34m,\u001b[0m\u001b[0mmuestra\u001b[0m\u001b[0;34m,\u001b[0m\u001b[0mcont\u001b[0m\u001b[0;34m)\u001b[0m\u001b[0;34m\u001b[0m\u001b[0;34m\u001b[0m\u001b[0m\n\u001b[0;32m---> 24\u001b[0;31m \u001b[0mmuestra\u001b[0m\u001b[0;34m,\u001b[0m\u001b[0mcont\u001b[0m \u001b[0;34m=\u001b[0m \u001b[0mlee_csv\u001b[0m\u001b[0;34m(\u001b[0m\u001b[0;34m'../Replica/Wednesday-14-02-2018_TrafficForML_CICFlowMeter'\u001b[0m\u001b[0;34m,\u001b[0m\u001b[0mmuestra\u001b[0m\u001b[0;34m,\u001b[0m\u001b[0mcont\u001b[0m\u001b[0;34m)\u001b[0m\u001b[0;34m\u001b[0m\u001b[0;34m\u001b[0m\u001b[0m\n\u001b[0m\u001b[1;32m     25\u001b[0m \u001b[0mmuestra\u001b[0m\u001b[0;34m,\u001b[0m\u001b[0mcont\u001b[0m \u001b[0;34m=\u001b[0m \u001b[0mlee_csv\u001b[0m\u001b[0;34m(\u001b[0m\u001b[0;34m'../Replica/Wednesday-21-02-2018_TrafficForML_CICFlowMeter'\u001b[0m\u001b[0;34m,\u001b[0m\u001b[0mmuestra\u001b[0m\u001b[0;34m,\u001b[0m\u001b[0mcont\u001b[0m\u001b[0;34m)\u001b[0m\u001b[0;34m\u001b[0m\u001b[0;34m\u001b[0m\u001b[0m\n\u001b[1;32m     26\u001b[0m \u001b[0mmuestra\u001b[0m\u001b[0;34m,\u001b[0m\u001b[0mcont\u001b[0m \u001b[0;34m=\u001b[0m \u001b[0mlee_csv\u001b[0m\u001b[0;34m(\u001b[0m\u001b[0;34m'../Replica/Wednesday-28-02-2018_TrafficForML_CICFlowMeter'\u001b[0m\u001b[0;34m,\u001b[0m\u001b[0mmuestra\u001b[0m\u001b[0;34m,\u001b[0m\u001b[0mcont\u001b[0m\u001b[0;34m)\u001b[0m\u001b[0;34m\u001b[0m\u001b[0;34m\u001b[0m\u001b[0m\n",
      "\u001b[0;32m<ipython-input-3-1cb5dd0e7160>\u001b[0m in \u001b[0;36mlee_csv\u001b[0;34m(nombre, muestra, cont)\u001b[0m\n\u001b[1;32m      7\u001b[0m         \u001b[0;32mif\u001b[0m \u001b[0mheader\u001b[0m \u001b[0;34m!=\u001b[0m \u001b[0;32mNone\u001b[0m\u001b[0;34m:\u001b[0m\u001b[0;34m\u001b[0m\u001b[0;34m\u001b[0m\u001b[0m\n\u001b[1;32m      8\u001b[0m             \u001b[0;31m# Iterate            over each row after the header in the csv\u001b[0m\u001b[0;34m\u001b[0m\u001b[0;34m\u001b[0m\u001b[0;34m\u001b[0m\u001b[0m\n\u001b[0;32m----> 9\u001b[0;31m             \u001b[0;32mfor\u001b[0m \u001b[0mrow\u001b[0m \u001b[0;32min\u001b[0m \u001b[0mcsv_reader\u001b[0m\u001b[0;34m:\u001b[0m\u001b[0;34m\u001b[0m\u001b[0;34m\u001b[0m\u001b[0m\n\u001b[0m\u001b[1;32m     10\u001b[0m                 \u001b[0;32mif\u001b[0m  \u001b[0mcont\u001b[0m \u001b[0;34m<\u001b[0m \u001b[0;36m2000000\u001b[0m \u001b[0;32mand\u001b[0m \u001b[0mrow\u001b[0m \u001b[0;34m[\u001b[0m\u001b[0;34m-\u001b[0m\u001b[0;36m1\u001b[0m\u001b[0;34m]\u001b[0m \u001b[0;34m==\u001b[0m \u001b[0;34m'Benign'\u001b[0m \u001b[0;32mand\u001b[0m \u001b[0mrandom\u001b[0m\u001b[0;34m.\u001b[0m\u001b[0mrandom\u001b[0m\u001b[0;34m(\u001b[0m\u001b[0;34m)\u001b[0m \u001b[0;34m<\u001b[0m \u001b[0;36m0.1\u001b[0m\u001b[0;34m:\u001b[0m\u001b[0;34m\u001b[0m\u001b[0;34m\u001b[0m\u001b[0m\n\u001b[1;32m     11\u001b[0m                     \u001b[0mmuestra\u001b[0m\u001b[0;34m.\u001b[0m\u001b[0mappend\u001b[0m\u001b[0;34m(\u001b[0m\u001b[0mrow\u001b[0m\u001b[0;34m)\u001b[0m\u001b[0;34m\u001b[0m\u001b[0;34m\u001b[0m\u001b[0m\n",
      "\u001b[0;31mKeyboardInterrupt\u001b[0m: "
     ]
    }
   ],
   "source": [
    "# 10.1007/978-3-030-23502-4_12\n",
    "\n",
    "def lee_csv(nombre,muestra,cont):\n",
    "    with open(nombre+'.csv', 'r') as read_obj: \n",
    "        csv_reader = reader(read_obj)\n",
    "        header = next(csv_reader)\n",
    "        if header != None:\n",
    "            # Iterate            over each row after the header in the csv\n",
    "            for row in csv_reader:\n",
    "                if  cont < 2000000 and row [-1] == 'Benign' and random.random() < 0.1:\n",
    "                    muestra.append(row)\n",
    "                    cont = cont +1\n",
    "                elif row [-1] != 'Benign':\n",
    "                    muestra.append(row)\n",
    "    return muestra, cont\n",
    "\n",
    "cont=0\n",
    "muestra=[]\n",
    "muestra,cont = lee_csv('../Replica/Friday-02-03-2018_TrafficForML_CICFlowMeter',muestra,cont)\n",
    "muestra,cont = lee_csv('../Replica/Friday-16-02-2018_TrafficForML_CICFlowMeter',muestra,cont)\n",
    "muestra,cont = lee_csv('../Replica/Friday-23-02-2018_TrafficForML_CICFlowMeter',muestra,cont)\n",
    "muestra,cont = lee_csv('../Replica/Thursday-15-02-2018_TrafficForML_CICFlowMeter',muestra,cont)\n",
    "muestra,cont = lee_csv('../Replica/Thursday-22-02-2018_TrafficForML_CICFlowMeter',muestra,cont)\n",
    "muestra,cont = lee_csv('../Replica/Wednesday-14-02-2018_TrafficForML_CICFlowMeter',muestra,cont)\n",
    "muestra,cont = lee_csv('../Replica/Wednesday-21-02-2018_TrafficForML_CICFlowMeter',muestra,cont)\n",
    "muestra,cont = lee_csv('../Replica/Wednesday-28-02-2018_TrafficForML_CICFlowMeter',muestra,cont)\n",
    "muestra,cont = lee_csv('../Replica/Thursday-01-03-2018_TrafficForML_CICFlowMeter',muestra,cont)\n",
    "muestra,cont = lee_csv('../Replica/Thuesday-20-02-2018_TrafficForML_CICFlowMeter_80col',muestra,cont)\n",
    "\n",
    "muestraDF = pd.DataFrame (data=muestra,columns=['Dst Port',' Protocol',' Timestamp',' Flow Duration',' Tot Fwd Pkts',' Tot Bwd Pkts',' TotLen Fwd Pkts',' TotLen Bwd Pkts',' Fwd Pkt Len Max',' Fwd Pkt Len Min',' Fwd Pkt Len Mean',' Fwd Pkt Len Std',' Bwd Pkt Len Max',' Bwd Pkt Len Min',' Bwd Pkt Len Mean',' Bwd Pkt Len Std',' Flow Byts/s',' Flow Pkts/s',' Flow IAT Mean',' Flow IAT Std',' Flow IAT Max',' Flow IAT Min',' Fwd IAT Tot',' Fwd IAT Mean',' Fwd IAT Std',' Fwd IAT Max',' Fwd IAT Min',' Bwd IAT Tot',' Bwd IAT Mean',' Bwd IAT Std',' Bwd IAT Max',' Bwd IAT Min',' Fwd PSH Flags',' Bwd PSH Flags',' Fwd URG Flags',' Bwd URG Flags',' Fwd Header Len',' Bwd Header Len',' Fwd Pkts/s',' Bwd Pkts/s',' Pkt Len Min',' Pkt Len Max',' Pkt Len Mean',' Pkt Len Std',' Pkt Len Var',' FIN Flag Cnt',' SYN Flag Cnt',' RST Flag Cnt',' PSH Flag Cnt',' ACK Flag Cnt',' URG Flag Cnt',' CWE Flag Count',' ECE Flag Cnt',' Down/Up Ratio',' Pkt Size Avg',' Fwd Seg Size Avg',' Bwd Seg Size Avg',' Fwd Byts/b Avg',' Fwd Pkts/b Avg', 'Fwd Blk Rate Avg', 'Bwd Byts/b Avg',' Bwd Pkts/b Avg', 'Bwd Blk Rate Avg', 'Subflow Fwd Pkts', 'Subflow Fwd Byts',' Subflow Bwd Pkts', 'Subflow Bwd Byts', 'Init Fwd Win Byts', 'Init Bwd Win Byts', 'Fwd Act Data Pkts', 'Fwd Seg Size Min', 'Active Mean', 'Active Std', 'Active Max',' Active Min', 'Idle Mean', 'Idle Std', 'Idle Max', 'Idle Min', 'Label']);\n",
    "muestraDF.to_csv('DF_undersample.csv', index = False)\n",
    "print(muestraDF.shape)\n",
    "print (pd.unique(muestraDF.iloc[:,-1].squeeze()))"
   ]
  },
  {
   "cell_type": "markdown",
   "metadata": {},
   "source": [
    "#Preprocessing 2\n",
    "\n",
    "After completing the above works, we divide the dataset into training set, test set and validation set, which are 90%, 9% and 1% of the original data respectively. The training set is used for training, the validation set is used for rapid evaluation of the model during training, and the test set is used for final evaluation of the model. In addition, we noticed that there are too many normal network traffic samples in the dataset, which can easily affect the classification preference of the model. **So we under-sampled the normal traffics and only took 2 million records randomly**. "
   ]
  },
  {
   "cell_type": "code",
   "execution_count": null,
   "metadata": {},
   "outputs": [],
   "source": [
    "print(muestraDF.shape)\n",
    "print(muestraDF.isna().values.any())\n",
    "\n",
    "muestraDF=muestraDF.drop(columns=[' Timestamp'],axis=1)\n",
    "print(muestraDF.shape)"
   ]
  },
  {
   "cell_type": "code",
   "execution_count": null,
   "metadata": {},
   "outputs": [],
   "source": [
    "y=muestraDF.iloc[:,-1]\n",
    "X=muestraDF.iloc[:,0:78]\n",
    "X = X.replace([np.inf, -np.inf], np.nan)\n",
    "ds = muestraDF.isin([np.inf, -np.inf])\n",
    "nom_cols=['Dst Port',' Protocol',' Flow Duration',' Tot Fwd Pkts',' Tot Bwd Pkts',' TotLen Fwd Pkts',' TotLen Bwd Pkts',' Fwd Pkt Len Max',' Fwd Pkt Len Min',' Fwd Pkt Len Mean',' Fwd Pkt Len Std',' Bwd Pkt Len Max',' Bwd Pkt Len Min',' Bwd Pkt Len Mean',' Bwd Pkt Len Std',' Flow Byts/s',' Flow Pkts/s',' Flow IAT Mean',' Flow IAT Std',' Flow IAT Max',' Flow IAT Min',' Fwd IAT Tot',' Fwd IAT Mean',' Fwd IAT Std',' Fwd IAT Max',' Fwd IAT Min',' Bwd IAT Tot',' Bwd IAT Mean',' Bwd IAT Std',' Bwd IAT Max',' Bwd IAT Min',' Fwd PSH Flags',' Bwd PSH Flags',' Fwd URG Flags',' Bwd URG Flags',' Fwd Header Len',' Bwd Header Len',' Fwd Pkts/s',' Bwd Pkts/s',' Pkt Len Min',' Pkt Len Max',' Pkt Len Mean',' Pkt Len Std',' Pkt Len Var',' FIN Flag Cnt',' SYN Flag Cnt',' RST Flag Cnt',' PSH Flag Cnt',' ACK Flag Cnt',' URG Flag Cnt',' CWE Flag Count',' ECE Flag Cnt',' Down/Up Ratio',' Pkt Size Avg',' Fwd Seg Size Avg',' Bwd Seg Size Avg',' Fwd Byts/b Avg',' Fwd Pkts/b Avg', 'Fwd Blk Rate Avg', 'Bwd Byts/b Avg',' Bwd Pkts/b Avg', 'Bwd Blk Rate Avg', 'Subflow Fwd Pkts', 'Subflow Fwd Byts',' Subflow Bwd Pkts', 'Subflow Bwd Byts', 'Init Fwd Win Byts', 'Init Bwd Win Byts', 'Fwd Act Data Pkts', 'Fwd Seg Size Min', 'Active Mean', 'Active Std', 'Active Max',' Active Min', 'Idle Mean', 'Idle Std', 'Idle Max','Idle Min']\n",
    "for i in nom_cols:\n",
    "    X[i]=pd.to_numeric(X[i], errors='coerce')\n",
    "    X[i] = X[i].fillna(X[i].mean())\n",
    "print(X.isna().values.any())"
   ]
  },
  {
   "cell_type": "code",
   "execution_count": null,
   "metadata": {},
   "outputs": [],
   "source": [
    "y=y.replace (['DDOS attack-LOIC-UDP', 'DDOS attack-HOIC','DDoS attacks-LOIC-HTTP'],'DDoS')\n",
    "y=y.replace (['Brute Force -Web', 'Brute Force -XSS', 'SQL Injection'],'Web_attack')\n",
    "y=y.replace (['FTP-BruteForce', 'SSH-Bruteforce'],'Bruteforce')\n",
    "y=y.replace (['DoS attacks-GoldenEye', 'DoS attacks-Slowloris', 'DoS attacks-SlowHTTPTest', 'DoS attacks-Hulk'],'DoS')\n",
    "\n",
    "#DDoS\t(DDOS attack-LOIC-UDP', DDOS attack-HOIC',DDoS attacks-LOIC-HTTP)\n",
    "#BOT\t(Bot)\n",
    "#Inf\t(Infilteration)\n",
    "#Web attack\t(Brute Force -Web', Brute Force -XSS', SQL Injection')\n",
    "#BF\t(FTP-BruteForce', SSH-Bruteforce')\n",
    "#DoS (DoS attacks-GoldenEye', DoS attacks-Slowloris', DoS attacks-SlowHTTPTest', DoS attacks-Hulk')\n",
    "print(np.unique(y))"
   ]
  },
  {
   "cell_type": "code",
   "execution_count": null,
   "metadata": {},
   "outputs": [],
   "source": [
    "\n",
    "print (y.shape)\n",
    "print (X.shape)\n",
    "inds=y[y == 'Label'].index\n",
    "y.drop(inds, inplace=True)\n",
    "X.drop(inds, inplace=True)\n",
    "print(np.unique(y))\n",
    "print (y.shape)\n",
    "print (X.shape)\n",
    "print(X.isna().values.any())\n",
    "\n",
    "\n",
    "X_Train, X_2, y_Train, y_2= train_test_split(X, y, test_size=0.1, random_state=1)\n",
    "X_Test, X_Val, y_Test, y_Val = train_test_split(X_Train, y_Train, test_size=0.1, random_state=1) \n",
    "\n",
    "print(X_Train.isna().values.any())\n",
    "\n"
   ]
  },
  {
   "cell_type": "markdown",
   "metadata": {},
   "source": [
    "# Preprocessing 3\n",
    "Furthermore, we over-sampled the samples of Web attack and Infiltration attack by using SMOTE algorithm. Oversampling is only implemented in training set. After dividing the dataset, we shuffle the training set to ensure the loss value change smoothly during training."
   ]
  },
  {
   "cell_type": "code",
   "execution_count": null,
   "metadata": {},
   "outputs": [],
   "source": [
    "\n",
    "X_Train = X_Train.replace([np.inf, -np.inf], np.nan)\n",
    "X_2 = X_2.replace([np.inf, -np.inf], np.nan)\n",
    "X_Test = X_Test.replace([np.inf, -np.inf], np.nan)\n",
    "X_Val = X_Val.replace([np.inf, -np.inf], np.nan)\n",
    "for i in nom_cols:\n",
    "    X_Train[i]=pd.to_numeric(X_Train[i], errors='coerce')\n",
    "    X_Train[i] = X_Train[i].fillna(X_Train[i].mean())\n",
    "    X_2[i]=pd.to_numeric(X_2[i], errors='coerce')\n",
    "    X_2[i] = X_2[i].fillna(X_2[i].mean())\n",
    "    X_Test[i]=pd.to_numeric(X_Test[i], errors='coerce')\n",
    "    X_Test[i] = X_Test[i].fillna(X_Test[i].mean())\n",
    "    X_Val[i]=pd.to_numeric(X_Val[i], errors='coerce')\n",
    "    X_Val[i] = X_Val[i].fillna(X_Val[i].mean())\n",
    "    \n",
    "\n",
    "X_Test.to_csv('X_Test.csv', index = False)\n",
    "y_Test.to_csv('y_Test.csv', index = False)\n",
    "X_Val.to_csv('X_Val.csv', index = False)\n",
    "y_Val.to_csv('y_Val.csv', index = False)\n",
    "\n",
    "    "
   ]
  },
  {
   "cell_type": "code",
   "execution_count": null,
   "metadata": {},
   "outputs": [],
   "source": [
    "from imblearn.over_sampling import SMOTE\n",
    "\n",
    "oversample = SMOTE(sampling_strategy='minority')\n",
    "print(X_Train.isna().values.any())\n",
    "X_smote, y_smote = oversample.fit_resample(X_Train, y_Train)\n",
    "print(type(oversample))\n",
    "print (X_smote.shape)\n",
    "X_smote.to_csv('X_smote.csv', index = False)\n",
    "y_smote.to_csv('y_smote.csv', index = False)"
   ]
  },
  {
   "cell_type": "code",
   "execution_count": null,
   "metadata": {
    "scrolled": false
   },
   "outputs": [],
   "source": [
    "import matplotlib.pyplot as plt\n",
    "plot = y_smote.value_counts().plot(kind='bar',\n",
    "                                            title='Attacks classes',color=(0.2, 0.4, 0.6, 0.6))\n",
    "plt.savefig('Classes_X_Smote.png')"
   ]
  },
  {
   "cell_type": "markdown",
   "metadata": {},
   "source": []
  },
  {
   "cell_type": "markdown",
   "metadata": {},
   "source": [
    "![classes_ysmote.png](Classes_X_Smote.png)"
   ]
  },
  {
   "cell_type": "markdown",
   "metadata": {},
   "source": []
  }
 ],
 "metadata": {
  "kernelspec": {
   "display_name": "Python 3",
   "language": "python",
   "name": "python3"
  },
  "language_info": {
   "codemirror_mode": {
    "name": "ipython",
    "version": 3
   },
   "file_extension": ".py",
   "mimetype": "text/x-python",
   "name": "python",
   "nbconvert_exporter": "python",
   "pygments_lexer": "ipython3",
   "version": "3.6.9"
  }
 },
 "nbformat": 4,
 "nbformat_minor": 2
}
