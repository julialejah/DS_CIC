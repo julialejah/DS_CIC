{
 "cells": [
  {
   "cell_type": "markdown",
   "metadata": {},
   "source": [
    "# Simple neural network for classification with keras\n"
   ]
  },
  {
   "cell_type": "code",
   "execution_count": 6,
   "metadata": {},
   "outputs": [],
   "source": [
    "import pandas as pd\n",
    "from csv import reader\n",
    "import numpy as np\n",
    "\n",
    "\n",
    "from tensorflow.keras.models import Sequential\n",
    "from tensorflow.keras.layers import Dense\n",
    "from tensorflow.keras.utils import to_categorical\n",
    "\n",
    "pd.set_option('display.max_columns', 50)\n",
    "\n"
   ]
  },
  {
   "cell_type": "code",
   "execution_count": 7,
   "metadata": {},
   "outputs": [],
   "source": [
    "X_smote=pd.read_csv(\"X_smote.csv\",sep=',',dtype=np.float32)\n",
    "y_smote=pd.read_csv(\"y_smote.csv\",sep=',')\n",
    "\n",
    "X_Val=pd.read_csv(\"X_Val.csv\",sep=',',dtype=np.float32)\n",
    "y_Val=pd.read_csv(\"y_Val.csv\",sep=',')\n",
    "\n",
    "X_Test=pd.read_csv(\"X_Test.csv\",sep=',',dtype=np.float32)\n",
    "y_Test=pd.read_csv(\"y_Test.csv\",sep=',')"
   ]
  },
  {
   "cell_type": "code",
   "execution_count": 8,
   "metadata": {},
   "outputs": [],
   "source": [
    "feats = X_smote.shape[1]\n",
    "from sklearn.preprocessing import MinMaxScaler\n",
    "scaler = MinMaxScaler()\n",
    "# transform data\n",
    "scaled = scaler.fit_transform(X_smote)"
   ]
  },
  {
   "cell_type": "code",
   "execution_count": null,
   "metadata": {},
   "outputs": [],
   "source": [
    "X_smote = scaled"
   ]
  },
  {
   "cell_type": "code",
   "execution_count": null,
   "metadata": {},
   "outputs": [],
   "source": [
    "from sklearn.preprocessing import LabelBinarizer\n",
    "encoder = LabelBinarizer()\n",
    "y_smote = encoder.fit_transform(y_smote)\n",
    "y_Test = encoder.fit_transform(y_Test)\n",
    "y_Val = encoder.fit_transform(y_Val)\n",
    "print(y_Val.head(5))"
   ]
  },
  {
   "cell_type": "code",
   "execution_count": null,
   "metadata": {},
   "outputs": [],
   "source": [
    "print (pd.unique(y_smote.iloc[:,-1].squeeze()))\n",
    "print(X_smote.index[np.isinf(X_smote).any(1)])\n",
    "print(X_smote.isna().values.any())\n",
    "print (X_smote.shape)"
   ]
  },
  {
   "cell_type": "code",
   "execution_count": null,
   "metadata": {},
   "outputs": [],
   "source": []
  }
 ],
 "metadata": {
  "kernelspec": {
   "display_name": "Python 3",
   "language": "python",
   "name": "python3"
  },
  "language_info": {
   "codemirror_mode": {
    "name": "ipython",
    "version": 3
   },
   "file_extension": ".py",
   "mimetype": "text/x-python",
   "name": "python",
   "nbconvert_exporter": "python",
   "pygments_lexer": "ipython3",
   "version": "3.6.9"
  }
 },
 "nbformat": 4,
 "nbformat_minor": 2
}
