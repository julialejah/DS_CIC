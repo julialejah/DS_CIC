{
  "nbformat": 4,
  "nbformat_minor": 0,
  "metadata": {
    "accelerator": "GPU",
    "colab": {
      "name": "LSTM+atten+Keras_test.ipynb",
      "provenance": [],
      "collapsed_sections": []
    },
    "kernelspec": {
      "display_name": "Python 3",
      "language": "python",
      "name": "python3"
    },
    "language_info": {
      "codemirror_mode": {
        "name": "ipython",
        "version": 3
      },
      "file_extension": ".py",
      "mimetype": "text/x-python",
      "name": "python",
      "nbconvert_exporter": "python",
      "pygments_lexer": "ipython3",
      "version": "3.6.9"
    }
  },
  "cells": [
    {
      "cell_type": "markdown",
      "metadata": {
        "id": "NXd0J45zmcOt"
      },
      "source": [
        "# LSTM + attention mechanism for classification with keras\n"
      ]
    },
    {
      "cell_type": "code",
      "metadata": {
        "colab": {
          "base_uri": "https://localhost:8080/"
        },
        "id": "IssNDT6WZkkx",
        "outputId": "69d7e0d0-07c1-44af-80f1-5f985e415df5"
      },
      "source": [
        "!pip install keras-self-attention"
      ],
      "execution_count": 1,
      "outputs": [
        {
          "output_type": "stream",
          "text": [
            "Requirement already satisfied: keras-self-attention in /usr/local/lib/python3.7/dist-packages (0.50.0)\n",
            "Requirement already satisfied: Keras in /usr/local/lib/python3.7/dist-packages (from keras-self-attention) (2.4.3)\n",
            "Requirement already satisfied: numpy in /usr/local/lib/python3.7/dist-packages (from keras-self-attention) (1.19.5)\n",
            "Requirement already satisfied: scipy>=0.14 in /usr/local/lib/python3.7/dist-packages (from Keras->keras-self-attention) (1.4.1)\n",
            "Requirement already satisfied: h5py in /usr/local/lib/python3.7/dist-packages (from Keras->keras-self-attention) (3.1.0)\n",
            "Requirement already satisfied: pyyaml in /usr/local/lib/python3.7/dist-packages (from Keras->keras-self-attention) (3.13)\n",
            "Requirement already satisfied: cached-property; python_version < \"3.8\" in /usr/local/lib/python3.7/dist-packages (from h5py->Keras->keras-self-attention) (1.5.2)\n"
          ],
          "name": "stdout"
        }
      ]
    },
    {
      "cell_type": "code",
      "metadata": {
        "colab": {
          "base_uri": "https://localhost:8080/"
        },
        "id": "zkdavAqNmcO6",
        "outputId": "6bf161ac-3013-4f71-93c2-3445bc52c45c"
      },
      "source": [
        "import pandas as pd\n",
        "from csv import reader\n",
        "import numpy as np\n",
        "from google.colab import drive\n",
        "\n",
        "\n",
        "drive.mount('/content/gdrive')\n",
        "\n",
        "import tensorflow as tf\n",
        "\n",
        "from tensorflow.keras.models import Sequential\n",
        "from tensorflow.keras.layers import Dense\n",
        "from tensorflow.keras.utils import to_categorical\n",
        "from tensorflow.keras.layers import LSTM\n",
        "from tensorflow.keras.layers import Reshape\n",
        "from tensorflow.keras.layers import RepeatVector\n",
        "from sklearn.model_selection import train_test_split\n",
        "\n",
        "\n",
        "import keras\n",
        "from keras_self_attention import SeqSelfAttention \n",
        "from keras_self_attention import SeqWeightedAttention\n",
        "import keras.backend as K\n",
        "\n",
        "import matplotlib.pyplot as plot\n",
        "\n",
        "pd.set_option('display.max_columns', 50)\n",
        "from keras.layers import Layer\n"
      ],
      "execution_count": 2,
      "outputs": [
        {
          "output_type": "stream",
          "text": [
            "Drive already mounted at /content/gdrive; to attempt to forcibly remount, call drive.mount(\"/content/gdrive\", force_remount=True).\n"
          ],
          "name": "stdout"
        }
      ]
    },
    {
      "cell_type": "code",
      "metadata": {
        "id": "k3D3mPGSo1QF"
      },
      "source": [
        "class attention(Layer):\n",
        "    def __init__(self,**kwargs):\n",
        "        super(attention,self).__init__(**kwargs)\n",
        "\n",
        "    def build(self,input_shape):\n",
        "        self.W=self.add_weight(name=\"att_weight\",shape=(input_shape[-1],1),initializer=\"normal\")\n",
        "        self.b=self.add_weight(name=\"att_bias\",shape=(input_shape[1],1),initializer=\"zeros\")        \n",
        "        super(attention, self).build(input_shape)\n",
        "\n",
        "    def call(self,x):\n",
        "        et=K.squeeze(K.tanh(K.dot(x,self.W)+self.b),axis=-1)\n",
        "        at=K.softmax(et)\n",
        "        at=K.expand_dims(at,axis=-1)\n",
        "        output=x*at\n",
        "        return K.sum(output,axis=1)\n",
        "\n",
        "    def compute_output_shape(self,input_shape):\n",
        "        return (input_shape[0],input_shape[-1])\n",
        "\n",
        "    def get_config(self):\n",
        "        return super(attention,self).get_config()"
      ],
      "execution_count": 3,
      "outputs": []
    },
    {
      "cell_type": "code",
      "metadata": {
        "colab": {
          "base_uri": "https://localhost:8080/",
          "height": 476
        },
        "id": "w6zIm0vBmcO7",
        "outputId": "8f200263-6bae-4795-9ef5-8462c9ea270e"
      },
      "source": [
        "data = pd.read_csv(\"gdrive/My Drive/Doctorado/IDS data/DF_peq_full.csv\",sep=\",\")\n",
        "data.columns=['Dst Port',' Protocol',' Flow Duration',' Tot Fwd Pkts',' Tot Bwd Pkts',' TotLen Fwd Pkts',' TotLen Bwd Pkts',' Fwd Pkt Len Max',' Fwd Pkt Len Min',' Fwd Pkt Len Mean',' Fwd Pkt Len Std',' Bwd Pkt Len Max',' Bwd Pkt Len Min',' Bwd Pkt Len Mean',' Bwd Pkt Len Std',' Flow Byts/s',' Flow Pkts/s',' Flow IAT Mean',' Flow IAT Std',' Flow IAT Max',' Flow IAT Min',' Fwd IAT Tot',' Fwd IAT Mean',' Fwd IAT Std',' Fwd IAT Max',' Fwd IAT Min',' Bwd IAT Tot',' Bwd IAT Mean',' Bwd IAT Std',' Bwd IAT Max',' Bwd IAT Min',' Fwd PSH Flags',' Bwd PSH Flags',' Fwd URG Flags',' Bwd URG Flags',' Fwd Header Len',' Bwd Header Len',' Fwd Pkts/s',' Bwd Pkts/s',' Pkt Len Min',' Pkt Len Max',' Pkt Len Mean',' Pkt Len Std',' Pkt Len Var',' FIN Flag Cnt',' SYN Flag Cnt',' RST Flag Cnt',' PSH Flag Cnt',' ACK Flag Cnt',' URG Flag Cnt',' CWE Flag Count',' ECE Flag Cnt',' Down/Up Ratio',' Pkt Size Avg',' Fwd Seg Size Avg',' Bwd Seg Size Avg',' Fwd Byts/b Avg',' Fwd Pkts/b Avg', 'Fwd Blk Rate Avg', 'Bwd Byts/b Avg',' Bwd Pkts/b Avg', 'Bwd Blk Rate Avg', 'Subflow Fwd Pkts', 'Subflow Fwd Byts',' Subflow Bwd Pkts', 'Subflow Bwd Byts', 'Init Fwd Win Byts', 'Init Bwd Win Byts', 'Fwd Act Data Pkts', 'Fwd Seg Size Min', 'Active Mean', 'Active Std', 'Active Max',' Active Min', 'Idle Mean', 'Idle Std', 'Idle Max','Idle Min','Label']\n",
        "colores={'Benign ': 'cadetblue','Bot': 'powederblue', 'DoS' : 'lightblue', 'Web_attack' :'deepskyblue','Bruteforce' : 'skyblue', 'DDoS' :'steelblue', 'Infilteration':'aliceblue'}\n",
        "print(data['Label'].value_counts())\n",
        "plot = data['Label'].value_counts().plot(kind='bar',\n",
        "                                            title='Cantidad de ataques por clase (entrenamiento)')\n"
      ],
      "execution_count": 4,
      "outputs": [
        {
          "output_type": "stream",
          "text": [
            "Benign           434991\n",
            "DoS              117240\n",
            "DDoS              94616\n",
            "Bruteforce        76190\n",
            "Bot               40885\n",
            "Infilteration     40484\n",
            "Web_attack        16000\n",
            "Name: Label, dtype: int64\n"
          ],
          "name": "stdout"
        },
        {
          "output_type": "display_data",
          "data": {
            "image/png": "[encoded data removed]",
            "text/plain": [
              "<Figure size 432x288 with 1 Axes>"
            ]
          },
          "metadata": {
            "tags": [],
            "needs_background": "light"
          }
        }
      ]
    },
    {
      "cell_type": "code",
      "metadata": {
        "id": "qDgo0nC2mcO9"
      },
      "source": [
        "X, X_Val, y, y_Val = train_test_split(data.iloc[:,0:78], data.iloc[:,-1], test_size=0.33, random_state=42)\n",
        "feats = X.shape[1]"
      ],
      "execution_count": 5,
      "outputs": []
    },
    {
      "cell_type": "code",
      "metadata": {
        "colab": {
          "base_uri": "https://localhost:8080/"
        },
        "id": "ExneYl7dmcO9",
        "outputId": "af8446c2-1aad-4046-e83f-9c699063ec9f"
      },
      "source": [
        "cant_clases=len(pd.unique(y.squeeze()))\n",
        "print(cant_clases)\n",
        "print(X.index[np.isinf(X).any(1)])\n",
        "print(X.isna().values.any())\n",
        "print (X.shape)\n",
        "print(type(feats))"
      ],
      "execution_count": 6,
      "outputs": [
        {
          "output_type": "stream",
          "text": [
            "7\n",
            "Int64Index([], dtype='int64')\n",
            "False\n",
            "(549672, 78)\n",
            "<class 'int'>\n"
          ],
          "name": "stdout"
        }
      ]
    },
    {
      "cell_type": "code",
      "metadata": {
        "id": "ZUDfBB4yoQo0"
      },
      "source": [
        ""
      ],
      "execution_count": 6,
      "outputs": []
    },
    {
      "cell_type": "code",
      "metadata": {
        "colab": {
          "base_uri": "https://localhost:8080/",
          "height": 329
        },
        "id": "6nNDCJK9nl6q",
        "outputId": "431a7454-3689-4492-f44a-936fab6717db"
      },
      "source": [
        "#X_Val=pd.read_csv(\"gdrive/My Drive/Doctorado/IDS data/X_Val.csv\",sep=',',dtype=np.float32)\n",
        "#y_Val=pd.read_csv(\"gdrive/My Drive/Doctorado/IDS data/y_Val.csv\",sep=',')\n",
        "#print (pd.unique(y_Val.squeeze()))\n",
        "#print (y_Val.shape)\n",
        "#print (X_Val.shape)\n",
        "#indices=y_Val[y_Val['Label'] == 'Label'].index\n",
        "#print (indices)\n",
        "\n",
        "#y_Val.drop(indices, inplace=True)\n",
        "#X_Val.drop(indices, inplace=True)\n",
        "\n",
        "plot = y_Val.value_counts().plot(kind='bar',\n",
        "                                            title='Cantidad de ataques por clase (Validación)')"
      ],
      "execution_count": 7,
      "outputs": [
        {
          "output_type": "display_data",
          "data": {
            "image/png": "[encoded data removed]",
            "text/plain": [
              "<Figure size 432x288 with 1 Axes>"
            ]
          },
          "metadata": {
            "tags": [],
            "needs_background": "light"
          }
        }
      ]
    },
    {
      "cell_type": "code",
      "metadata": {
        "colab": {
          "base_uri": "https://localhost:8080/"
        },
        "id": "uGv_16bBmcO-",
        "outputId": "bd7ec041-3156-4bf5-846f-fff02962e5bd"
      },
      "source": [
        "from sklearn.preprocessing import LabelBinarizer\n",
        "encoder = LabelBinarizer()\n",
        "y_enco = encoder.fit_transform(y)\n",
        "y_enc = pd.DataFrame(data=y_enco)\n",
        "print(y_enc.head(2))\n",
        "\n",
        "encoder = LabelBinarizer()\n",
        "y_Val_enco = encoder.fit_transform(y_Val)\n",
        "y_Val_enc = pd.DataFrame(data=y_Val_enco)\n",
        "print(y_Val_enc.head(2))"
      ],
      "execution_count": 8,
      "outputs": [
        {
          "output_type": "stream",
          "text": [
            "   0  1  2  3  4  5  6\n",
            "0  0  0  0  0  1  0  0\n",
            "1  1  0  0  0  0  0  0\n",
            "   0  1  2  3  4  5  6\n",
            "0  1  0  0  0  0  0  0\n",
            "1  1  0  0  0  0  0  0\n"
          ],
          "name": "stdout"
        }
      ]
    },
    {
      "cell_type": "code",
      "metadata": {
        "id": "tb5vSYgk9Xsh"
      },
      "source": [
        "from sklearn.preprocessing import MinMaxScaler\n",
        "scaler = MinMaxScaler()\n",
        "\n",
        "# Create minmax coef\n",
        "scaler = scaler.fit(X)\n",
        "#print(' Min: %f, Max: %f ' % (scaler.data_min_, scaler.data_max_))\n",
        "# transform data\n",
        "#X.drop(X.tail(X.shape[0]%10).index,inplace=True)\n",
        "#X_Val.drop(X_Val.tail(X_Val.shape[0]%10).index,inplace=True)\n",
        "#print(X.shape)\n",
        "#print(X_Val.shape)\n",
        "\n",
        "\n",
        "scaled_X = scaler.transform(X)\n",
        "scaled_X_Val = scaler.transform(X_Val)"
      ],
      "execution_count": 9,
      "outputs": []
    },
    {
      "cell_type": "code",
      "metadata": {
        "colab": {
          "base_uri": "https://localhost:8080/"
        },
        "id": "MU7QP4IGToOh",
        "outputId": "2c8848c5-ec80-4ecc-f61e-68e8cf5b7f56"
      },
      "source": [
        "X=scaled_X.reshape((scaled_X.shape[0], 1, scaled_X.shape[1]))\n",
        "print(X.shape)\n",
        "X_t=scaled_X_Val.reshape((scaled_X_Val.shape[0], 1, scaled_X_Val.shape[1]))\n",
        "print(X_t.shape)"
      ],
      "execution_count": 10,
      "outputs": [
        {
          "output_type": "stream",
          "text": [
            "(549672, 1, 78)\n",
            "(270734, 1, 78)\n"
          ],
          "name": "stdout"
        }
      ]
    },
    {
      "cell_type": "code",
      "metadata": {
        "id": "FxGpOFcGmcPA"
      },
      "source": [
        "def modelo():\n",
        "    model = Sequential()\n",
        "#    model.add(Reshape((10,78)))\n",
        "#    timedistributed (10 registros por cada momento)\n",
        "    model.add(LSTM(256,activation='relu',return_sequences=True,batch_size = 128,input_shape=(10,78)))\n",
        "    model.add(LSTM(256,activation='relu',return_sequences=True))\n",
        "#    concatenar las salidas ? concatenate\n",
        "    model.add(attention())\n",
        "    model.add(Dense(7))\n",
        "    model.add(Dense(20))\n",
        "#   model.add(Dense(cant_clases*2))\n",
        "    model.add(Dense(cant_clases, activation='softmax'))\n",
        "    model.compile(optimizer='adam', loss='categorical_crossentropy', metrics=['accuracy']) #learning rate.\n",
        "    return model"
      ],
      "execution_count": 11,
      "outputs": []
    },
    {
      "cell_type": "code",
      "metadata": {
        "colab": {
          "base_uri": "https://localhost:8080/"
        },
        "id": "4WgnYj51pzS3",
        "outputId": "84313fb8-0b0a-4f2d-eecd-3729cbdb8d98"
      },
      "source": [
        "model = modelo()\n",
        "model.summary()"
      ],
      "execution_count": 12,
      "outputs": [
        {
          "output_type": "stream",
          "text": [
            "WARNING:tensorflow:Layer lstm will not use cuDNN kernels since it doesn't meet the criteria. It will use a generic GPU kernel as fallback when running on GPU.\n",
            "WARNING:tensorflow:Layer lstm_1 will not use cuDNN kernels since it doesn't meet the criteria. It will use a generic GPU kernel as fallback when running on GPU.\n",
            "Model: \"sequential\"\n",
            "_________________________________________________________________\n",
            "Layer (type)                 Output Shape              Param #   \n",
            "=================================================================\n",
            "lstm (LSTM)                  (128, 10, 256)            343040    \n",
            "_________________________________________________________________\n",
            "lstm_1 (LSTM)                (128, 10, 256)            525312    \n",
            "_________________________________________________________________\n",
            "module_wrapper (ModuleWrappe (128, 256)                266       \n",
            "_________________________________________________________________\n",
            "dense (Dense)                (128, 7)                  1799      \n",
            "_________________________________________________________________\n",
            "dense_1 (Dense)              (128, 20)                 160       \n",
            "_________________________________________________________________\n",
            "dense_2 (Dense)              (128, 7)                  147       \n",
            "=================================================================\n",
            "Total params: 870,724\n",
            "Trainable params: 870,724\n",
            "Non-trainable params: 0\n",
            "_________________________________________________________________\n"
          ],
          "name": "stdout"
        }
      ]
    },
    {
      "cell_type": "code",
      "metadata": {
        "colab": {
          "base_uri": "https://localhost:8080/"
        },
        "id": "GhyqGXmEgoki",
        "outputId": "55fa953a-b0f5-46be-b887-8b4b4d7a8713"
      },
      "source": [
        "his=model.fit(X, y_enc, validation_data=(X_t, y_Val_enc), epochs=70, verbose=2,batch_size=128)\n",
        " #especificar batch con batch_input_shape (batch,features,?)"
      ],
      "execution_count": null,
      "outputs": [
        {
          "output_type": "stream",
          "text": [
            "Epoch 1/70\n",
            "WARNING:tensorflow:Model was constructed with shape (128, 10, 78) for input KerasTensor(type_spec=TensorSpec(shape=(128, 10, 78), dtype=tf.float32, name='lstm_input'), name='lstm_input', description=\"created by layer 'lstm_input'\"), but it was called on an input with incompatible shape (None, 1, 78).\n",
            "WARNING:tensorflow:Model was constructed with shape (128, 10, 78) for input KerasTensor(type_spec=TensorSpec(shape=(128, 10, 78), dtype=tf.float32, name='lstm_input'), name='lstm_input', description=\"created by layer 'lstm_input'\"), but it was called on an input with incompatible shape (None, 1, 78).\n",
            "WARNING:tensorflow:Model was constructed with shape (128, 10, 78) for input KerasTensor(type_spec=TensorSpec(shape=(128, 10, 78), dtype=tf.float32, name='lstm_input'), name='lstm_input', description=\"created by layer 'lstm_input'\"), but it was called on an input with incompatible shape (None, 1, 78).\n",
            "4295/4295 - 45s - loss: 0.2947 - accuracy: 0.8941 - val_loss: 0.2283 - val_accuracy: 0.9148\n",
            "Epoch 2/70\n",
            "4295/4295 - 40s - loss: 0.2200 - accuracy: 0.9168 - val_loss: 0.2165 - val_accuracy: 0.9188\n",
            "Epoch 3/70\n",
            "4295/4295 - 39s - loss: 0.2140 - accuracy: 0.9187 - val_loss: 0.2115 - val_accuracy: 0.9201\n",
            "Epoch 4/70\n",
            "4295/4295 - 39s - loss: 0.2105 - accuracy: 0.9202 - val_loss: 0.2065 - val_accuracy: 0.9214\n",
            "Epoch 5/70\n",
            "4295/4295 - 39s - loss: 0.2067 - accuracy: 0.9217 - val_loss: 0.2032 - val_accuracy: 0.9236\n",
            "Epoch 6/70\n",
            "4295/4295 - 39s - loss: 0.2043 - accuracy: 0.9229 - val_loss: 0.2027 - val_accuracy: 0.9234\n",
            "Epoch 7/70\n",
            "4295/4295 - 39s - loss: 0.2024 - accuracy: 0.9237 - val_loss: 0.2072 - val_accuracy: 0.9237\n",
            "Epoch 8/70\n",
            "4295/4295 - 40s - loss: 0.2011 - accuracy: 0.9241 - val_loss: 0.2001 - val_accuracy: 0.9243\n",
            "Epoch 9/70\n",
            "4295/4295 - 40s - loss: 0.1999 - accuracy: 0.9247 - val_loss: 0.1987 - val_accuracy: 0.9279\n",
            "Epoch 10/70\n",
            "4295/4295 - 39s - loss: 0.1987 - accuracy: 0.9254 - val_loss: 0.1972 - val_accuracy: 0.9266\n",
            "Epoch 11/70\n",
            "4295/4295 - 39s - loss: 0.1976 - accuracy: 0.9258 - val_loss: 0.1966 - val_accuracy: 0.9263\n",
            "Epoch 12/70\n",
            "4295/4295 - 39s - loss: 0.1966 - accuracy: 0.9263 - val_loss: 0.1993 - val_accuracy: 0.9256\n",
            "Epoch 13/70\n",
            "4295/4295 - 40s - loss: 0.1956 - accuracy: 0.9265 - val_loss: 0.1947 - val_accuracy: 0.9282\n",
            "Epoch 14/70\n",
            "4295/4295 - 39s - loss: 0.1943 - accuracy: 0.9272 - val_loss: 0.1951 - val_accuracy: 0.9211\n",
            "Epoch 15/70\n",
            "4295/4295 - 39s - loss: 0.1931 - accuracy: 0.9276 - val_loss: 0.1908 - val_accuracy: 0.9292\n",
            "Epoch 16/70\n",
            "4295/4295 - 39s - loss: 0.1928 - accuracy: 0.9277 - val_loss: 0.1913 - val_accuracy: 0.9293\n",
            "Epoch 17/70\n",
            "4295/4295 - 39s - loss: 0.1913 - accuracy: 0.9281 - val_loss: 0.1901 - val_accuracy: 0.9296\n",
            "Epoch 18/70\n",
            "4295/4295 - 38s - loss: 0.1913 - accuracy: 0.9281 - val_loss: 0.1890 - val_accuracy: 0.9297\n",
            "Epoch 19/70\n",
            "4295/4295 - 39s - loss: 0.1908 - accuracy: 0.9281 - val_loss: 0.1895 - val_accuracy: 0.9293\n",
            "Epoch 20/70\n",
            "4295/4295 - 39s - loss: 0.1902 - accuracy: 0.9285 - val_loss: 0.1915 - val_accuracy: 0.9231\n",
            "Epoch 21/70\n",
            "4295/4295 - 40s - loss: 0.1902 - accuracy: 0.9283 - val_loss: 0.1897 - val_accuracy: 0.9284\n",
            "Epoch 22/70\n",
            "4295/4295 - 39s - loss: 0.1895 - accuracy: 0.9284 - val_loss: 0.1887 - val_accuracy: 0.9291\n",
            "Epoch 23/70\n",
            "4295/4295 - 39s - loss: 0.1891 - accuracy: 0.9287 - val_loss: 0.1897 - val_accuracy: 0.9290\n",
            "Epoch 24/70\n",
            "4295/4295 - 39s - loss: 0.1924 - accuracy: 0.9273 - val_loss: 0.1921 - val_accuracy: 0.9282\n",
            "Epoch 25/70\n",
            "4295/4295 - 39s - loss: 0.1922 - accuracy: 0.9274 - val_loss: 0.1944 - val_accuracy: 0.9272\n",
            "Epoch 26/70\n",
            "4295/4295 - 38s - loss: 0.1906 - accuracy: 0.9280 - val_loss: 0.1889 - val_accuracy: 0.9288\n",
            "Epoch 27/70\n",
            "4295/4295 - 39s - loss: 0.1888 - accuracy: 0.9287 - val_loss: 0.1927 - val_accuracy: 0.9277\n",
            "Epoch 28/70\n",
            "4295/4295 - 38s - loss: 0.1884 - accuracy: 0.9288 - val_loss: 0.1871 - val_accuracy: 0.9302\n",
            "Epoch 29/70\n",
            "4295/4295 - 39s - loss: 0.1910 - accuracy: 0.9278 - val_loss: 0.1918 - val_accuracy: 0.9273\n",
            "Epoch 30/70\n",
            "4295/4295 - 38s - loss: 0.1888 - accuracy: 0.9286 - val_loss: 0.1891 - val_accuracy: 0.9286\n",
            "Epoch 31/70\n",
            "4295/4295 - 39s - loss: 0.1878 - accuracy: 0.9290 - val_loss: 0.1899 - val_accuracy: 0.9295\n",
            "Epoch 32/70\n",
            "4295/4295 - 39s - loss: 0.1876 - accuracy: 0.9289 - val_loss: 0.1876 - val_accuracy: 0.9301\n",
            "Epoch 33/70\n",
            "4295/4295 - 39s - loss: 0.1888 - accuracy: 0.9286 - val_loss: 0.1869 - val_accuracy: 0.9301\n",
            "Epoch 34/70\n",
            "4295/4295 - 39s - loss: 0.1879 - accuracy: 0.9290 - val_loss: 0.2111 - val_accuracy: 0.9252\n",
            "Epoch 35/70\n",
            "4295/4295 - 39s - loss: 0.1881 - accuracy: 0.9291 - val_loss: 0.1861 - val_accuracy: 0.9300\n",
            "Epoch 36/70\n",
            "4295/4295 - 39s - loss: 0.1875 - accuracy: 0.9291 - val_loss: 0.1869 - val_accuracy: 0.9294\n",
            "Epoch 37/70\n",
            "4295/4295 - 39s - loss: 0.1867 - accuracy: 0.9294 - val_loss: 0.1864 - val_accuracy: 0.9302\n",
            "Epoch 38/70\n",
            "4295/4295 - 39s - loss: 0.1866 - accuracy: 0.9293 - val_loss: 0.1898 - val_accuracy: 0.9277\n",
            "Epoch 39/70\n",
            "4295/4295 - 39s - loss: 0.1867 - accuracy: 0.9294 - val_loss: 0.1884 - val_accuracy: 0.9302\n",
            "Epoch 40/70\n",
            "4295/4295 - 40s - loss: 0.1873 - accuracy: 0.9291 - val_loss: 0.1926 - val_accuracy: 0.9280\n",
            "Epoch 41/70\n",
            "4295/4295 - 38s - loss: 0.1888 - accuracy: 0.9286 - val_loss: 0.1871 - val_accuracy: 0.9304\n",
            "Epoch 42/70\n",
            "4295/4295 - 38s - loss: 0.1879 - accuracy: 0.9290 - val_loss: 0.1925 - val_accuracy: 0.9282\n",
            "Epoch 43/70\n",
            "4295/4295 - 38s - loss: 0.1874 - accuracy: 0.9291 - val_loss: 0.1865 - val_accuracy: 0.9307\n",
            "Epoch 44/70\n",
            "4295/4295 - 39s - loss: 0.1865 - accuracy: 0.9295 - val_loss: 0.1867 - val_accuracy: 0.9302\n",
            "Epoch 45/70\n"
          ],
          "name": "stdout"
        }
      ]
    },
    {
      "cell_type": "code",
      "metadata": {
        "colab": {
          "background_save": true
        },
        "id": "n355YcClAOEN"
      },
      "source": [
        "model.save('gdrive/My Drive/Doctorado/IDS data/2LSTM_ATT_3Dense.h5')"
      ],
      "execution_count": null,
      "outputs": []
    },
    {
      "cell_type": "code",
      "metadata": {
        "colab": {
          "background_save": true
        },
        "id": "GuOWBxKdK3ZE",
        "outputId": "8b4e256a-dc37-4ffa-98ee-b77df4d5964d"
      },
      "source": [
        "import matplotlib.pyplot as plt\n",
        "\n",
        "\n",
        "plt.plot(his.history['loss' ])\n",
        "plt.plot(his.history[ 'val_loss' ])\n",
        "plt.title( 'model train vs validation loss' )\n",
        "plt.ylabel( 'loss' )\n",
        "plt.xlabel( 'epoch' )\n",
        "plt.legend([ 'train' ,  'validation' ], loc= 'upper_right' )\n",
        "plt.show()\n",
        "\n",
        "plt.plot(his.history['accuracy' ])\n",
        "plt.plot(his.history[ 'val_accuracy' ])\n",
        "plt.title( 'model train vs validation accuracy' )\n",
        "plt.ylabel( 'accuracy' )\n",
        "plt.xlabel( 'epoch' )\n",
        "plt.legend([ 'train' ,  'validation' ], loc= 'upper_right' )\n",
        "plt.show()"
      ],
      "execution_count": null,
      "outputs": [
        {
          "output_type": "stream",
          "text": [
            "/usr/local/lib/python3.7/dist-packages/ipykernel_launcher.py:9: MatplotlibDeprecationWarning: Unrecognized location 'upper_right'. Falling back on 'best'; valid locations are\n",
            "\tbest\n",
            "\tupper right\n",
            "\tupper left\n",
            "\tlower left\n",
            "\tlower right\n",
            "\tright\n",
            "\tcenter left\n",
            "\tcenter right\n",
            "\tlower center\n",
            "\tupper center\n",
            "\tcenter\n",
            "This will raise an exception in 3.3.\n",
            "  if __name__ == '__main__':\n"
          ],
          "name": "stderr"
        },
        {
          "output_type": "display_data",
          "data": {
            "image/png": "[encoded data removed]",
            "text/plain": [
              "<Figure size 432x288 with 1 Axes>"
            ]
          },
          "metadata": {
            "tags": []
          }
        },
        {
          "output_type": "stream",
          "text": [
            "/usr/local/lib/python3.7/dist-packages/ipykernel_launcher.py:17: MatplotlibDeprecationWarning: Unrecognized location 'upper_right'. Falling back on 'best'; valid locations are\n",
            "\tbest\n",
            "\tupper right\n",
            "\tupper left\n",
            "\tlower left\n",
            "\tlower right\n",
            "\tright\n",
            "\tcenter left\n",
            "\tcenter right\n",
            "\tlower center\n",
            "\tupper center\n",
            "\tcenter\n",
            "This will raise an exception in 3.3.\n"
          ],
          "name": "stderr"
        },
        {
          "output_type": "display_data",
          "data": {
            "image/png": "[encoded data removed]",
            "text/plain": [
              "<Figure size 432x288 with 1 Axes>"
            ]
          },
          "metadata": {
            "tags": []
          }
        }
      ]
    },
    {
      "cell_type": "code",
      "metadata": {
        "colab": {
          "background_save": true
        },
        "id": "m_DgxS5OrdX_",
        "outputId": "d3c7f7da-9101-467a-d9b8-4e1b8e9cc4c9"
      },
      "source": [
        "#https://machinelearningmastery.com/how-to-calculate-precision-recall-f1-and-more-for-deep-learning-models/\n",
        "from sklearn.metrics import recall_score\n",
        "from sklearn.metrics import accuracy_score\n",
        "from sklearn.metrics import precision_score\n",
        "from sklearn.metrics import recall_score\n",
        "from sklearn.metrics import f1_score\n",
        "\n",
        "# predict probabilities for test set\n",
        "yhat_probs = model.predict(X_t, verbose=0)\n",
        "# predict crisp classes for test set\n",
        "yhat_classes = model.predict_classes(X_t, verbose=0)\n",
        "\n",
        "yhat_probs = yhat_probs[:, 0]\n",
        "#yhat_classes = yhat_classes[:, 0]\n",
        "\n",
        "# accuracy: (tp + tn) / (p + n)\n",
        "accuracy = accuracy_score(y_Val, yhat_classes)\n",
        "print('Accuracy: %f' % accuracy)\n",
        "# precision tp / (tp + fp)\n",
        "precision = precision_score(y_Val, yhat_classes)\n",
        "print('Precision: %f' % precision)\n",
        "# recall: tp / (tp + fn)\n",
        "recall = recall_score(y_Val, yhat_classes)\n",
        "print('Recall: %f' % recall)\n",
        "# f1: 2 tp / (2 tp + fp + fn)\n",
        "f1 = f1_score(y_Val, yhat_classes)\n",
        "print('F1 score: %f' % f1)"
      ],
      "execution_count": null,
      "outputs": [
        {
          "output_type": "stream",
          "text": [
            "WARNING:tensorflow:Model was constructed with shape (128, 10, 78) for input KerasTensor(type_spec=TensorSpec(shape=(128, 10, 78), dtype=tf.float32, name='lstm_input'), name='lstm_input', description=\"created by layer 'lstm_input'\"), but it was called on an input with incompatible shape (None, 1, 78).\n"
          ],
          "name": "stdout"
        },
        {
          "output_type": "stream",
          "text": [
            "/usr/local/lib/python3.7/dist-packages/tensorflow/python/keras/engine/sequential.py:450: UserWarning: `model.predict_classes()` is deprecated and will be removed after 2021-01-01. Please use instead:* `np.argmax(model.predict(x), axis=-1)`,   if your model does multi-class classification   (e.g. if it uses a `softmax` last-layer activation).* `(model.predict(x) > 0.5).astype(\"int32\")`,   if your model does binary classification   (e.g. if it uses a `sigmoid` last-layer activation).\n",
            "  warnings.warn('`model.predict_classes()` is deprecated and '\n"
          ],
          "name": "stderr"
        },
        {
          "output_type": "stream",
          "text": [
            "Accuracy: 0.000000\n"
          ],
          "name": "stdout"
        },
        {
          "output_type": "error",
          "ename": "ValueError",
          "evalue": "ignored",
          "traceback": [
            "\u001b[0;31m---------------------------------------------------------------------------\u001b[0m",
            "\u001b[0;31mValueError\u001b[0m                                Traceback (most recent call last)",
            "\u001b[0;32m<ipython-input-15-2eb67ef4a4a5>\u001b[0m in \u001b[0;36m<module>\u001b[0;34m()\u001b[0m\n\u001b[1;32m     18\u001b[0m \u001b[0mprint\u001b[0m\u001b[0;34m(\u001b[0m\u001b[0;34m'Accuracy: %f'\u001b[0m \u001b[0;34m%\u001b[0m \u001b[0maccuracy\u001b[0m\u001b[0;34m)\u001b[0m\u001b[0;34m\u001b[0m\u001b[0;34m\u001b[0m\u001b[0m\n\u001b[1;32m     19\u001b[0m \u001b[0;31m# precision tp / (tp + fp)\u001b[0m\u001b[0;34m\u001b[0m\u001b[0;34m\u001b[0m\u001b[0;34m\u001b[0m\u001b[0m\n\u001b[0;32m---> 20\u001b[0;31m \u001b[0mprecision\u001b[0m \u001b[0;34m=\u001b[0m \u001b[0mprecision_score\u001b[0m\u001b[0;34m(\u001b[0m\u001b[0my_Val\u001b[0m\u001b[0;34m,\u001b[0m \u001b[0myhat_classes\u001b[0m\u001b[0;34m)\u001b[0m\u001b[0;34m\u001b[0m\u001b[0;34m\u001b[0m\u001b[0m\n\u001b[0m\u001b[1;32m     21\u001b[0m \u001b[0mprint\u001b[0m\u001b[0;34m(\u001b[0m\u001b[0;34m'Precision: %f'\u001b[0m \u001b[0;34m%\u001b[0m \u001b[0mprecision\u001b[0m\u001b[0;34m)\u001b[0m\u001b[0;34m\u001b[0m\u001b[0;34m\u001b[0m\u001b[0m\n\u001b[1;32m     22\u001b[0m \u001b[0;31m# recall: tp / (tp + fn)\u001b[0m\u001b[0;34m\u001b[0m\u001b[0;34m\u001b[0m\u001b[0;34m\u001b[0m\u001b[0m\n",
            "\u001b[0;32m/usr/local/lib/python3.7/dist-packages/sklearn/metrics/_classification.py\u001b[0m in \u001b[0;36mprecision_score\u001b[0;34m(y_true, y_pred, labels, pos_label, average, sample_weight, zero_division)\u001b[0m\n\u001b[1;32m   1670\u001b[0m                                                  \u001b[0mwarn_for\u001b[0m\u001b[0;34m=\u001b[0m\u001b[0;34m(\u001b[0m\u001b[0;34m'precision'\u001b[0m\u001b[0;34m,\u001b[0m\u001b[0;34m)\u001b[0m\u001b[0;34m,\u001b[0m\u001b[0;34m\u001b[0m\u001b[0;34m\u001b[0m\u001b[0m\n\u001b[1;32m   1671\u001b[0m                                                  \u001b[0msample_weight\u001b[0m\u001b[0;34m=\u001b[0m\u001b[0msample_weight\u001b[0m\u001b[0;34m,\u001b[0m\u001b[0;34m\u001b[0m\u001b[0;34m\u001b[0m\u001b[0m\n\u001b[0;32m-> 1672\u001b[0;31m                                                  zero_division=zero_division)\n\u001b[0m\u001b[1;32m   1673\u001b[0m     \u001b[0;32mreturn\u001b[0m \u001b[0mp\u001b[0m\u001b[0;34m\u001b[0m\u001b[0;34m\u001b[0m\u001b[0m\n\u001b[1;32m   1674\u001b[0m \u001b[0;34m\u001b[0m\u001b[0m\n",
            "\u001b[0;32m/usr/local/lib/python3.7/dist-packages/sklearn/metrics/_classification.py\u001b[0m in \u001b[0;36mprecision_recall_fscore_support\u001b[0;34m(y_true, y_pred, beta, labels, pos_label, average, warn_for, sample_weight, zero_division)\u001b[0m\n\u001b[1;32m   1482\u001b[0m         \u001b[0;32mraise\u001b[0m \u001b[0mValueError\u001b[0m\u001b[0;34m(\u001b[0m\u001b[0;34m\"beta should be >=0 in the F-beta score\"\u001b[0m\u001b[0;34m)\u001b[0m\u001b[0;34m\u001b[0m\u001b[0;34m\u001b[0m\u001b[0m\n\u001b[1;32m   1483\u001b[0m     labels = _check_set_wise_labels(y_true, y_pred, average, labels,\n\u001b[0;32m-> 1484\u001b[0;31m                                     pos_label)\n\u001b[0m\u001b[1;32m   1485\u001b[0m \u001b[0;34m\u001b[0m\u001b[0m\n\u001b[1;32m   1486\u001b[0m     \u001b[0;31m# Calculate tp_sum, pred_sum, true_sum ###\u001b[0m\u001b[0;34m\u001b[0m\u001b[0;34m\u001b[0m\u001b[0;34m\u001b[0m\u001b[0m\n",
            "\u001b[0;32m/usr/local/lib/python3.7/dist-packages/sklearn/metrics/_classification.py\u001b[0m in \u001b[0;36m_check_set_wise_labels\u001b[0;34m(y_true, y_pred, average, labels, pos_label)\u001b[0m\n\u001b[1;32m   1300\u001b[0m \u001b[0;34m\u001b[0m\u001b[0m\n\u001b[1;32m   1301\u001b[0m     \u001b[0my_type\u001b[0m\u001b[0;34m,\u001b[0m \u001b[0my_true\u001b[0m\u001b[0;34m,\u001b[0m \u001b[0my_pred\u001b[0m \u001b[0;34m=\u001b[0m \u001b[0m_check_targets\u001b[0m\u001b[0;34m(\u001b[0m\u001b[0my_true\u001b[0m\u001b[0;34m,\u001b[0m \u001b[0my_pred\u001b[0m\u001b[0;34m)\u001b[0m\u001b[0;34m\u001b[0m\u001b[0;34m\u001b[0m\u001b[0m\n\u001b[0;32m-> 1302\u001b[0;31m     \u001b[0mpresent_labels\u001b[0m \u001b[0;34m=\u001b[0m \u001b[0munique_labels\u001b[0m\u001b[0;34m(\u001b[0m\u001b[0my_true\u001b[0m\u001b[0;34m,\u001b[0m \u001b[0my_pred\u001b[0m\u001b[0;34m)\u001b[0m\u001b[0;34m\u001b[0m\u001b[0;34m\u001b[0m\u001b[0m\n\u001b[0m\u001b[1;32m   1303\u001b[0m     \u001b[0;32mif\u001b[0m \u001b[0maverage\u001b[0m \u001b[0;34m==\u001b[0m \u001b[0;34m'binary'\u001b[0m\u001b[0;34m:\u001b[0m\u001b[0;34m\u001b[0m\u001b[0;34m\u001b[0m\u001b[0m\n\u001b[1;32m   1304\u001b[0m         \u001b[0;32mif\u001b[0m \u001b[0my_type\u001b[0m \u001b[0;34m==\u001b[0m \u001b[0;34m'binary'\u001b[0m\u001b[0;34m:\u001b[0m\u001b[0;34m\u001b[0m\u001b[0;34m\u001b[0m\u001b[0m\n",
            "\u001b[0;32m/usr/local/lib/python3.7/dist-packages/sklearn/utils/multiclass.py\u001b[0m in \u001b[0;36munique_labels\u001b[0;34m(*ys)\u001b[0m\n\u001b[1;32m     98\u001b[0m     \u001b[0;31m# Check that we don't mix string type with number type\u001b[0m\u001b[0;34m\u001b[0m\u001b[0;34m\u001b[0m\u001b[0;34m\u001b[0m\u001b[0m\n\u001b[1;32m     99\u001b[0m     \u001b[0;32mif\u001b[0m \u001b[0;34m(\u001b[0m\u001b[0mlen\u001b[0m\u001b[0;34m(\u001b[0m\u001b[0mset\u001b[0m\u001b[0;34m(\u001b[0m\u001b[0misinstance\u001b[0m\u001b[0;34m(\u001b[0m\u001b[0mlabel\u001b[0m\u001b[0;34m,\u001b[0m \u001b[0mstr\u001b[0m\u001b[0;34m)\u001b[0m \u001b[0;32mfor\u001b[0m \u001b[0mlabel\u001b[0m \u001b[0;32min\u001b[0m \u001b[0mys_labels\u001b[0m\u001b[0;34m)\u001b[0m\u001b[0;34m)\u001b[0m \u001b[0;34m>\u001b[0m \u001b[0;36m1\u001b[0m\u001b[0;34m)\u001b[0m\u001b[0;34m:\u001b[0m\u001b[0;34m\u001b[0m\u001b[0;34m\u001b[0m\u001b[0m\n\u001b[0;32m--> 100\u001b[0;31m         \u001b[0;32mraise\u001b[0m \u001b[0mValueError\u001b[0m\u001b[0;34m(\u001b[0m\u001b[0;34m\"Mix of label input types (string and number)\"\u001b[0m\u001b[0;34m)\u001b[0m\u001b[0;34m\u001b[0m\u001b[0;34m\u001b[0m\u001b[0m\n\u001b[0m\u001b[1;32m    101\u001b[0m \u001b[0;34m\u001b[0m\u001b[0m\n\u001b[1;32m    102\u001b[0m     \u001b[0;32mreturn\u001b[0m \u001b[0mnp\u001b[0m\u001b[0;34m.\u001b[0m\u001b[0marray\u001b[0m\u001b[0;34m(\u001b[0m\u001b[0msorted\u001b[0m\u001b[0;34m(\u001b[0m\u001b[0mys_labels\u001b[0m\u001b[0;34m)\u001b[0m\u001b[0;34m)\u001b[0m\u001b[0;34m\u001b[0m\u001b[0;34m\u001b[0m\u001b[0m\n",
            "\u001b[0;31mValueError\u001b[0m: Mix of label input types (string and number)"
          ]
        }
      ]
    }
  ]
}