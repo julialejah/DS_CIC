{
 "cells": [
  {
   "cell_type": "markdown",
   "metadata": {},
   "source": [
    "# VALIDATION OF ML MODELS\n"
   ]
  },
  {
   "cell_type": "code",
   "execution_count": 1,
   "metadata": {},
   "outputs": [],
   "source": [
    "from sklearn.tree import DecisionTreeClassifier\n",
    "from sklearn.ensemble import RandomForestClassifier\n",
    "from sklearn.neighbors import KNeighborsClassifier\n",
    "from sklearn.naive_bayes import GaussianNB\n",
    "from sklearn.ensemble import AdaBoostClassifier\n",
    "from sklearn import svm\n",
    "from sklearn.svm import OneClassSVM\n",
    "\n",
    "from sklearn.metrics import classification_report\n",
    "from sklearn.metrics import (precision_score, recall_score,f1_score, accuracy_score,mean_squared_error,mean_absolute_error)\n",
    "import pandas as pd\n",
    "from csv import reader\n",
    "pd.set_option('display.max_columns', 50)\n",
    "import numpy as np\n",
    "from imblearn.over_sampling import SMOTE\n",
    "from sklearn.model_selection import train_test_split\n",
    "import random\n",
    "from sklearn import metrics\n",
    "\n"
   ]
  },
  {
   "cell_type": "code",
   "execution_count": 20,
   "metadata": {},
   "outputs": [],
   "source": [
    "X=pd.read_csv(\"X_smote.csv\",sep=',',dtype=np.float32)\n",
    "y=pd.read_csv(\"y_smote.csv\")"
   ]
  },
  {
   "cell_type": "code",
   "execution_count": 10,
   "metadata": {},
   "outputs": [
    {
     "name": "stdout",
     "output_type": "stream",
     "text": [
      "Int64Index([], dtype='int64')\n",
      "False\n",
      "(4900912, 78)\n",
      "(4900912, 1)\n",
      "Index(['Dst Port', ' Protocol', ' Flow Duration', ' Tot Fwd Pkts',\n",
      "       ' Tot Bwd Pkts', ' TotLen Fwd Pkts', ' TotLen Bwd Pkts',\n",
      "       ' Fwd Pkt Len Max', ' Fwd Pkt Len Min', ' Fwd Pkt Len Mean',\n",
      "       ' Fwd Pkt Len Std', ' Bwd Pkt Len Max', ' Bwd Pkt Len Min',\n",
      "       ' Bwd Pkt Len Mean', ' Bwd Pkt Len Std', ' Flow Byts/s', ' Flow Pkts/s',\n",
      "       ' Flow IAT Mean', ' Flow IAT Std', ' Flow IAT Max', ' Flow IAT Min',\n",
      "       ' Fwd IAT Tot', ' Fwd IAT Mean', ' Fwd IAT Std', ' Fwd IAT Max',\n",
      "       ' Fwd IAT Min', ' Bwd IAT Tot', ' Bwd IAT Mean', ' Bwd IAT Std',\n",
      "       ' Bwd IAT Max', ' Bwd IAT Min', ' Fwd PSH Flags', ' Bwd PSH Flags',\n",
      "       ' Fwd URG Flags', ' Bwd URG Flags', ' Fwd Header Len',\n",
      "       ' Bwd Header Len', ' Fwd Pkts/s', ' Bwd Pkts/s', ' Pkt Len Min',\n",
      "       ' Pkt Len Max', ' Pkt Len Mean', ' Pkt Len Std', ' Pkt Len Var',\n",
      "       ' FIN Flag Cnt', ' SYN Flag Cnt', ' RST Flag Cnt', ' PSH Flag Cnt',\n",
      "       ' ACK Flag Cnt', ' URG Flag Cnt', ' CWE Flag Count', ' ECE Flag Cnt',\n",
      "       ' Down/Up Ratio', ' Pkt Size Avg', ' Fwd Seg Size Avg',\n",
      "       ' Bwd Seg Size Avg', ' Fwd Byts/b Avg', ' Fwd Pkts/b Avg',\n",
      "       'Fwd Blk Rate Avg', 'Bwd Byts/b Avg', ' Bwd Pkts/b Avg',\n",
      "       'Bwd Blk Rate Avg', 'Subflow Fwd Pkts', 'Subflow Fwd Byts',\n",
      "       ' Subflow Bwd Pkts', 'Subflow Bwd Byts', 'Init Fwd Win Byts',\n",
      "       'Init Bwd Win Byts', 'Fwd Act Data Pkts', 'Fwd Seg Size Min',\n",
      "       'Active Mean', 'Active Std', 'Active Max', ' Active Min', 'Idle Mean',\n",
      "       'Idle Std', 'Idle Max', 'Idle Min'],\n",
      "      dtype='object')\n"
     ]
    }
   ],
   "source": [
    "print(X.index[np.isinf(X).any(1)])\n",
    "print(X.isna().values.any())\n",
    "print (X.shape)\n",
    "print(y.shape)\n",
    "print(X.columns)"
   ]
  },
  {
   "cell_type": "code",
   "execution_count": 3,
   "metadata": {},
   "outputs": [
    {
     "name": "stdout",
     "output_type": "stream",
     "text": [
      "(4902609, 11)\n"
     ]
    }
   ],
   "source": [
    "nom_cols=[' Flow Duration', ' TotLen Fwd Pkts',\n",
    "          ' TotLen Bwd Pkts', ' Tot Fwd Pkts',' Tot Bwd Pkts',\n",
    "          ' Fwd Pkt Len Mean',' Bwd Pkt Len Mean' , 'Subflow Fwd Pkts', \n",
    "          'Subflow Fwd Byts',' Subflow Bwd Pkts', 'Subflow Bwd Byts' ] #'Dst Port',' Protocol',\n",
    "X_13f = X [nom_cols]\n",
    "print(X_13f.shape)"
   ]
  },
  {
   "cell_type": "code",
   "execution_count": 4,
   "metadata": {},
   "outputs": [
    {
     "name": "stderr",
     "output_type": "stream",
     "text": [
      "/usr/local/lib/python3.6/dist-packages/ipykernel_launcher.py:2: DataConversionWarning: A column-vector y was passed when a 1d array was expected. Please change the shape of y to (n_samples,), for example using ravel().\n",
      "  \n"
     ]
    },
    {
     "name": "stdout",
     "output_type": "stream",
     "text": [
      "CPU times: user 38min 24s, sys: 13.3 s, total: 38min 37s\n",
      "Wall time: 5min 6s\n"
     ]
    },
    {
     "data": {
      "text/plain": [
       "RandomForestClassifier(n_jobs=-1)"
      ]
     },
     "execution_count": 4,
     "metadata": {},
     "output_type": "execute_result"
    }
   ],
   "source": [
    "%%time\n",
    "model = RandomForestClassifier(n_jobs=-1)\n",
    "model.fit(X_13f, y)\n"
   ]
  },
  {
   "cell_type": "code",
   "execution_count": 5,
   "metadata": {},
   "outputs": [],
   "source": [
    "\n",
    "X_Test=pd.read_csv(\"X_Test.csv\",sep=',',dtype=np.float32)\n",
    "y_Test=pd.read_csv(\"y_Test.csv\")\n",
    "X_13f_test = X_Test [nom_cols]\n",
    "\n",
    "# make predictions\n",
    "expected = y_Test\n",
    "predicted = model.predict(X_13f_test)"
   ]
  },
  {
   "cell_type": "code",
   "execution_count": 6,
   "metadata": {
    "scrolled": true
   },
   "outputs": [
    {
     "name": "stdout",
     "output_type": "stream",
     "text": [
      "****************-----VALIDATION---*******************\n",
      "********************RANDOM FOREST 11 feats no prot, port *******************\n",
      "               precision    recall  f1-score   support\n",
      "\n",
      "       Benign       0.95      0.96      0.96   1094088\n",
      "          Bot       0.88      0.98      0.93    231727\n",
      "   Bruteforce       0.77      0.95      0.85    308640\n",
      "         DDoS       0.86      0.95      0.90   1023004\n",
      "          DoS       0.81      0.53      0.64    529698\n",
      "Infilteration       0.95      0.61      0.74    131380\n",
      "   Web_attack       0.03      0.82      0.06       744\n",
      "\n",
      "     accuracy                           0.87   3319281\n",
      "    macro avg       0.75      0.83      0.73   3319281\n",
      " weighted avg       0.88      0.87      0.87   3319281\n",
      "\n",
      "0.8735268270447727\n",
      "CPU times: user 1min 59s, sys: 24.4 ms, total: 1min 59s\n",
      "Wall time: 1min 59s\n"
     ]
    }
   ],
   "source": [
    "%%time\n",
    "# summarize the fit of the model\n",
    "print(\"****************-----VALIDATION---*******************\")\n",
    "print(\"********************RANDOM FOREST 11 feats no prot, port *******************\")\n",
    "print(classification_report(expected,predicted))\n",
    "print(metrics.accuracy_score(expected,predicted))"
   ]
  },
  {
   "cell_type": "code",
   "execution_count": 7,
   "metadata": {},
   "outputs": [
    {
     "data": {
      "image/png": "[encoded data removed]",
      "text/plain": [
       "<Figure size 432x288 with 1 Axes>"
      ]
     },
     "metadata": {
      "needs_background": "light"
     },
     "output_type": "display_data"
    }
   ],
   "source": [
    "import pandas as pd\n",
    "from csv import reader\n",
    "import numpy as np\n",
    "#from google.colab import drive\n",
    "#drive.mount('/content/gdrive')\n",
    "\n",
    "from tensorflow.keras.models import Sequential\n",
    "from tensorflow.keras.layers import Dense\n",
    "from tensorflow.keras.utils import to_categorical\n",
    "from tensorflow.keras.layers import LSTM\n",
    "from keras_self_attention import SeqWeightedAttention\n",
    "\n",
    "\n",
    "import matplotlib.pyplot as plot\n",
    "import os\n",
    "os.environ['TF_FORCE_GPU_ALLOW_GROWTH'] = 'true'\n",
    "\n",
    "pd.set_option('display.max_columns', 50)\n",
    "import tensorflow as tf\n",
    "import keras\n",
    "plot = y.value_counts().plot(kind='bar',title='Clases de ataques')"
   ]
  },
  {
   "cell_type": "code",
   "execution_count": 9,
   "metadata": {},
   "outputs": [
    {
     "name": "stdout",
     "output_type": "stream",
     "text": [
      "   0  1  2  3  4  5  6\n",
      "0  0  0  1  0  0  0  0\n",
      "1  0  0  0  0  1  0  0\n",
      "   0  1  2  3  4  5  6\n",
      "0  0  0  0  0  1  0  0\n",
      "1  0  0  0  0  0  1  0\n"
     ]
    }
   ],
   "source": [
    "from sklearn.preprocessing import LabelBinarizer\n",
    "encoder = LabelBinarizer()\n",
    "y_enco = encoder.fit_transform(y)\n",
    "y_enc = pd.DataFrame(data=y_enco)\n",
    "print(y_enc.head(2))\n",
    "\n",
    "encoder = LabelBinarizer()\n",
    "y_Test_enco = encoder.fit_transform(y_Test)\n",
    "y_Test_enc = pd.DataFrame(data=y_Test_enco)\n",
    "print(y_Test_enc.head(2))"
   ]
  },
  {
   "cell_type": "code",
   "execution_count": 43,
   "metadata": {},
   "outputs": [
    {
     "name": "stdout",
     "output_type": "stream",
     "text": [
      "Model: \"sequential_4\"\n",
      "_________________________________________________________________\n",
      "Layer (type)                 Output Shape              Param #   \n",
      "=================================================================\n",
      "lstm_8 (LSTM)                (None, 1, 256)            274432    \n",
      "_________________________________________________________________\n",
      "lstm_9 (LSTM)                (None, 1, 256)            525312    \n",
      "_________________________________________________________________\n",
      "seq_weighted_attention_4 (Se (None, 256)               257       \n",
      "_________________________________________________________________\n",
      "dense_14 (Dense)             (None, 1)                 257       \n",
      "_________________________________________________________________\n",
      "dense_15 (Dense)             (None, 20)                40        \n",
      "_________________________________________________________________\n",
      "dense_16 (Dense)             (None, 14)                294       \n",
      "_________________________________________________________________\n",
      "dense_17 (Dense)             (None, 7)                 105       \n",
      "=================================================================\n",
      "Total params: 800,697\n",
      "Trainable params: 800,697\n",
      "Non-trainable params: 0\n",
      "_________________________________________________________________\n"
     ]
    },
    {
     "data": {
      "image/png": "[encoded data removed]",
      "text/plain": [
       "<IPython.core.display.Image object>"
      ]
     },
     "execution_count": 43,
     "metadata": {},
     "output_type": "execute_result"
    }
   ],
   "source": [
    "cant_clases = pd.unique(y_Test.squeeze())\n",
    "\n",
    "def modeloB():\n",
    "    model = Sequential()\n",
    "    model.add(LSTM(256,input_shape=(1,11),activation='relu',return_sequences=True))\n",
    "    model.add(LSTM(256,activation='relu',return_sequences=True))\n",
    "    model.add(SeqWeightedAttention())\n",
    "#https://github.com/CyberZHG/keras-self-attention/issues/12\n",
    "    model.add(Dense(1))\n",
    "    model.add(Dense(20))\n",
    "    model.add(Dense(cant_clases.size*2))\n",
    "    model.add(Dense(cant_clases.size, activation='softmax'))\n",
    "    model.compile(optimizer='adam', loss='categorical_crossentropy', metrics=['accuracy'])\n",
    "    return model\n",
    "\n",
    "model1 = modeloB()\n",
    "model1.summary()\n",
    "tf.keras.utils.plot_model(model, to_file='multiple_outputs.png')"
   ]
  },
  {
   "cell_type": "code",
   "execution_count": 41,
   "metadata": {},
   "outputs": [
    {
     "name": "stdout",
     "output_type": "stream",
     "text": [
      "(4902609, 11)\n",
      "(4902609, 1, 11)\n",
      "(3319281, 11)\n",
      "(3319281, 1, 11)\n"
     ]
    }
   ],
   "source": [
    "\n",
    "\n",
    "from sklearn.preprocessing import MinMaxScaler\n",
    "scaler = MinMaxScaler()\n",
    "# transform data\n",
    "scaled_X = scaler.fit_transform(X_13f)\n",
    "scaled_X_Test = scaler.fit_transform(X_13f_test)\n",
    "X_nn=scaled_X.reshape((scaled_X.shape[0], 1, scaled_X.shape[1]))\n",
    "X_t_nn=scaled_X_Test.reshape((scaled_X_Test.shape[0], 1, scaled_X_Test.shape[1]))\n",
    "print (scaled_X.shape)\n",
    "print(X_nn.shape)\n",
    "print (scaled_X_Test.shape)\n",
    "print(X_t_nn.shape)"
   ]
  },
  {
   "cell_type": "code",
   "execution_count": 44,
   "metadata": {
    "scrolled": false
   },
   "outputs": [
    {
     "name": "stdout",
     "output_type": "stream",
     "text": [
      "Epoch 1/70\n",
      "38302/38302 - 551s - loss: 1.1955 - accuracy: 0.5395 - val_loss: 1.2373 - val_accuracy: 0.4944\n",
      "Epoch 2/70\n",
      "38302/38302 - 550s - loss: 1.1331 - accuracy: 0.5707 - val_loss: 1.1550 - val_accuracy: 0.5848\n",
      "Epoch 3/70\n",
      "38302/38302 - 546s - loss: 1.1253 - accuracy: 0.5768 - val_loss: 1.1701 - val_accuracy: 0.5851\n",
      "Epoch 4/70\n",
      "38302/38302 - 551s - loss: 1.1178 - accuracy: 0.5806 - val_loss: 1.1499 - val_accuracy: 0.5849\n",
      "Epoch 5/70\n",
      "38302/38302 - 550s - loss: 1.1153 - accuracy: 0.5813 - val_loss: 1.1474 - val_accuracy: 0.5866\n",
      "Epoch 6/70\n",
      "38302/38302 - 549s - loss: 1.1087 - accuracy: 0.5820 - val_loss: 1.1325 - val_accuracy: 0.5870\n",
      "Epoch 7/70\n",
      "38302/38302 - 548s - loss: 1.0961 - accuracy: 0.5816 - val_loss: 1.1400 - val_accuracy: 0.5625\n",
      "Epoch 8/70\n",
      "38302/38302 - 549s - loss: 1.0367 - accuracy: 0.5828 - val_loss: 0.9913 - val_accuracy: 0.6032\n",
      "Epoch 9/70\n",
      "38302/38302 - 549s - loss: 0.9682 - accuracy: 0.6069 - val_loss: 0.9683 - val_accuracy: 0.6260\n",
      "Epoch 10/70\n",
      "38302/38302 - 551s - loss: 0.9317 - accuracy: 0.6265 - val_loss: 1.1042 - val_accuracy: 0.6174\n",
      "Epoch 11/70\n",
      "38302/38302 - 551s - loss: 0.9137 - accuracy: 0.6353 - val_loss: 0.9077 - val_accuracy: 0.6648\n",
      "Epoch 12/70\n",
      "38302/38302 - 548s - loss: 0.9060 - accuracy: 0.6390 - val_loss: 0.9657 - val_accuracy: 0.6646\n",
      "Epoch 13/70\n",
      "38302/38302 - 550s - loss: 0.8983 - accuracy: 0.6412 - val_loss: 1.0076 - val_accuracy: 0.6354\n",
      "Epoch 14/70\n",
      "38302/38302 - 547s - loss: 0.8993 - accuracy: 0.6431 - val_loss: 0.9185 - val_accuracy: 0.6978\n",
      "Epoch 15/70\n",
      "38302/38302 - 551s - loss: 0.8938 - accuracy: 0.6446 - val_loss: 0.8964 - val_accuracy: 0.6761\n",
      "Epoch 16/70\n",
      "38302/38302 - 551s - loss: 0.8977 - accuracy: 0.6441 - val_loss: 0.9350 - val_accuracy: 0.6377\n",
      "Epoch 17/70\n",
      "38302/38302 - 550s - loss: 0.8878 - accuracy: 0.6482 - val_loss: 0.8885 - val_accuracy: 0.6710\n",
      "Epoch 18/70\n",
      "38302/38302 - 552s - loss: 0.8837 - accuracy: 0.6486 - val_loss: 0.9150 - val_accuracy: 0.6939\n",
      "Epoch 19/70\n",
      "38302/38302 - 550s - loss: 0.8817 - accuracy: 0.6493 - val_loss: 0.8859 - val_accuracy: 0.6720\n",
      "Epoch 20/70\n",
      "38302/38302 - 550s - loss: 0.8778 - accuracy: 0.6501 - val_loss: 0.8981 - val_accuracy: 0.7083\n",
      "Epoch 21/70\n",
      "38302/38302 - 552s - loss: 0.8778 - accuracy: 0.6501 - val_loss: 0.8817 - val_accuracy: 0.6691\n",
      "Epoch 22/70\n",
      "38302/38302 - 551s - loss: 0.8855 - accuracy: 0.6506 - val_loss: 0.9161 - val_accuracy: 0.6907\n",
      "Epoch 23/70\n",
      "38302/38302 - 547s - loss: 0.8756 - accuracy: 0.6522 - val_loss: 0.9139 - val_accuracy: 0.6961\n",
      "Epoch 24/70\n",
      "38302/38302 - 550s - loss: 0.8752 - accuracy: 0.6527 - val_loss: 0.8899 - val_accuracy: 0.6661\n",
      "Epoch 25/70\n",
      "38302/38302 - 551s - loss: 0.8710 - accuracy: 0.6535 - val_loss: 0.8814 - val_accuracy: 0.6656\n",
      "Epoch 26/70\n",
      "38302/38302 - 552s - loss: 0.8762 - accuracy: 0.6533 - val_loss: 0.8799 - val_accuracy: 0.7007\n",
      "Epoch 27/70\n",
      "38302/38302 - 551s - loss: 0.8717 - accuracy: 0.6537 - val_loss: 0.9768 - val_accuracy: 0.6404\n",
      "Epoch 28/70\n",
      "38302/38302 - 549s - loss: 0.8691 - accuracy: 0.6544 - val_loss: 0.8712 - val_accuracy: 0.6718\n",
      "Epoch 29/70\n",
      "38302/38302 - 551s - loss: 0.8754 - accuracy: 0.6543 - val_loss: 0.8948 - val_accuracy: 0.6728\n",
      "Epoch 30/70\n",
      "38302/38302 - 552s - loss: 0.8671 - accuracy: 0.6550 - val_loss: 0.8628 - val_accuracy: 0.6799\n",
      "Epoch 31/70\n",
      "38302/38302 - 551s - loss: 0.8675 - accuracy: 0.6549 - val_loss: 1.0278 - val_accuracy: 0.6174\n",
      "Epoch 32/70\n",
      "38302/38302 - 551s - loss: 0.8640 - accuracy: 0.6558 - val_loss: 0.9055 - val_accuracy: 0.6798\n",
      "Epoch 33/70\n",
      "38302/38302 - 552s - loss: 0.8718 - accuracy: 0.6561 - val_loss: 0.8822 - val_accuracy: 0.6931\n",
      "Epoch 34/70\n",
      "38302/38302 - 551s - loss: 0.8624 - accuracy: 0.6565 - val_loss: 0.8805 - val_accuracy: 0.7069\n",
      "Epoch 35/70\n",
      "38302/38302 - 551s - loss: 0.8870 - accuracy: 0.6564 - val_loss: 0.9323 - val_accuracy: 0.6956\n",
      "Epoch 36/70\n",
      "38302/38302 - 550s - loss: 0.8592 - accuracy: 0.6588 - val_loss: 0.9215 - val_accuracy: 0.6997\n",
      "Epoch 37/70\n",
      "38302/38302 - 552s - loss: 0.8587 - accuracy: 0.6598 - val_loss: 0.9849 - val_accuracy: 0.6460\n",
      "Epoch 38/70\n",
      "38302/38302 - 550s - loss: 0.8563 - accuracy: 0.6630 - val_loss: 1.1120 - val_accuracy: 0.6417\n",
      "Epoch 39/70\n",
      "38302/38302 - 548s - loss: 0.8602 - accuracy: 0.6649 - val_loss: 0.8619 - val_accuracy: 0.6832\n",
      "Epoch 40/70\n",
      "38302/38302 - 551s - loss: 0.8526 - accuracy: 0.6708 - val_loss: 0.8944 - val_accuracy: 0.7084\n",
      "Epoch 41/70\n",
      "38302/38302 - 552s - loss: 0.8582 - accuracy: 0.6731 - val_loss: 0.8734 - val_accuracy: 0.7271\n",
      "Epoch 42/70\n",
      "38302/38302 - 552s - loss: 0.8549 - accuracy: 0.6752 - val_loss: 0.8533 - val_accuracy: 0.6934\n",
      "Epoch 43/70\n",
      "38302/38302 - 552s - loss: 0.8553 - accuracy: 0.6794 - val_loss: 0.8663 - val_accuracy: 0.7249\n",
      "Epoch 44/70\n",
      "38302/38302 - 550s - loss: 0.8571 - accuracy: 0.6798 - val_loss: 0.8799 - val_accuracy: 0.7319\n",
      "Epoch 45/70\n",
      "38302/38302 - 552s - loss: 0.8516 - accuracy: 0.6818 - val_loss: 0.8642 - val_accuracy: 0.7304\n",
      "Epoch 46/70\n",
      "38302/38302 - 552s - loss: 0.8486 - accuracy: 0.6827 - val_loss: 0.8877 - val_accuracy: 0.7199\n",
      "Epoch 47/70\n",
      "38302/38302 - 550s - loss: 0.8514 - accuracy: 0.6829 - val_loss: 0.8507 - val_accuracy: 0.6919\n",
      "Epoch 48/70\n",
      "38302/38302 - 552s - loss: 0.8510 - accuracy: 0.6834 - val_loss: 0.8738 - val_accuracy: 0.7004\n",
      "Epoch 49/70\n",
      "38302/38302 - 552s - loss: 0.8477 - accuracy: 0.6842 - val_loss: 0.8633 - val_accuracy: 0.7285\n",
      "Epoch 50/70\n",
      "38302/38302 - 551s - loss: 0.8456 - accuracy: 0.6847 - val_loss: 0.8622 - val_accuracy: 0.6931\n",
      "Epoch 51/70\n",
      "38302/38302 - 553s - loss: 0.8515 - accuracy: 0.6844 - val_loss: 0.9117 - val_accuracy: 0.7276\n",
      "Epoch 52/70\n",
      "38302/38302 - 552s - loss: 0.8452 - accuracy: 0.6853 - val_loss: 0.8447 - val_accuracy: 0.6913\n",
      "Epoch 53/70\n",
      "38302/38302 - 552s - loss: 0.8525 - accuracy: 0.6853 - val_loss: 0.9771 - val_accuracy: 0.6492\n",
      "Epoch 54/70\n",
      "38302/38302 - 552s - loss: 0.8440 - accuracy: 0.6862 - val_loss: 0.8661 - val_accuracy: 0.7291\n",
      "Epoch 55/70\n",
      "38302/38302 - 551s - loss: 0.8496 - accuracy: 0.6862 - val_loss: 0.8603 - val_accuracy: 0.7362\n",
      "Epoch 56/70\n",
      "38302/38302 - 551s - loss: 0.8475 - accuracy: 0.6860 - val_loss: 0.8841 - val_accuracy: 0.7205\n",
      "Epoch 57/70\n",
      "38302/38302 - 553s - loss: 0.8445 - accuracy: 0.6865 - val_loss: 0.8450 - val_accuracy: 0.6980\n",
      "Epoch 58/70\n",
      "38302/38302 - 551s - loss: 0.8428 - accuracy: 0.6867 - val_loss: 0.8585 - val_accuracy: 0.7268\n",
      "Epoch 59/70\n",
      "38302/38302 - 552s - loss: 0.8429 - accuracy: 0.6871 - val_loss: 0.8831 - val_accuracy: 0.7223\n",
      "Epoch 60/70\n",
      "38302/38302 - 550s - loss: 0.8423 - accuracy: 0.6874 - val_loss: 0.8449 - val_accuracy: 0.7291\n",
      "Epoch 61/70\n",
      "38302/38302 - 550s - loss: 0.8421 - accuracy: 0.6877 - val_loss: 0.8781 - val_accuracy: 0.7171\n",
      "Epoch 62/70\n",
      "38302/38302 - 550s - loss: 0.8476 - accuracy: 0.6868 - val_loss: 0.8560 - val_accuracy: 0.7328\n",
      "Epoch 63/70\n",
      "38302/38302 - 550s - loss: 0.8480 - accuracy: 0.6877 - val_loss: 0.8493 - val_accuracy: 0.7278\n",
      "Epoch 64/70\n",
      "38302/38302 - 555s - loss: 0.8457 - accuracy: 0.6878 - val_loss: 0.8416 - val_accuracy: 0.7143\n",
      "Epoch 65/70\n",
      "38302/38302 - 549s - loss: 0.8455 - accuracy: 0.6877 - val_loss: 0.8975 - val_accuracy: 0.6842\n",
      "Epoch 66/70\n",
      "38302/38302 - 551s - loss: 0.8394 - accuracy: 0.6881 - val_loss: 0.9547 - val_accuracy: 0.7285\n",
      "Epoch 67/70\n",
      "38302/38302 - 552s - loss: 0.8949 - accuracy: 0.6878 - val_loss: 0.9481 - val_accuracy: 0.7321\n",
      "Epoch 68/70\n",
      "38302/38302 - 552s - loss: 0.8709 - accuracy: 0.6887 - val_loss: 0.8352 - val_accuracy: 0.6994\n",
      "Epoch 69/70\n",
      "38302/38302 - 554s - loss: 0.8388 - accuracy: 0.6887 - val_loss: 0.8665 - val_accuracy: 0.7278\n",
      "Epoch 70/70\n",
      "38302/38302 - 554s - loss: 0.8421 - accuracy: 0.6890 - val_loss: 0.8465 - val_accuracy: 0.7334\n"
     ]
    }
   ],
   "source": [
    "import math\n",
    "his=model1.fit(X_nn, y_enc, validation_data=(X_t_nn, y_Test_enc), epochs=70, verbose=2,batch_size=128)"
   ]
  },
  {
   "cell_type": "code",
   "execution_count": 55,
   "metadata": {
    "scrolled": false
   },
   "outputs": [
    {
     "name": "stdout",
     "output_type": "stream",
     "text": [
      "Epoch 1/30\n",
      "38302/38302 - 552s - loss: 0.8523 - accuracy: 0.6706 - val_loss: 0.8730 - val_accuracy: 0.6685\n",
      "Epoch 2/30\n",
      "38302/38302 - 398s - loss: 0.9223 - accuracy: 0.6678 - val_loss: 0.8529 - val_accuracy: 0.6735\n",
      "Epoch 3/30\n",
      "38302/38302 - 517s - loss: 0.8561 - accuracy: 0.6678 - val_loss: 1.2151 - val_accuracy: 0.6695\n",
      "Epoch 4/30\n",
      "38302/38302 - 559s - loss: 1.0321 - accuracy: 0.6680 - val_loss: 1.0667 - val_accuracy: 0.6745\n",
      "Epoch 5/30\n",
      "38302/38302 - 559s - loss: 0.9434 - accuracy: 0.6671 - val_loss: 0.8818 - val_accuracy: 0.7051\n",
      "Epoch 6/30\n",
      "38302/38302 - 557s - loss: 0.8658 - accuracy: 0.6682 - val_loss: 0.8774 - val_accuracy: 0.7084\n",
      "Epoch 7/30\n",
      "38302/38302 - 558s - loss: 0.8457 - accuracy: 0.6682 - val_loss: 0.8623 - val_accuracy: 0.7106\n",
      "Epoch 8/30\n",
      "38302/38302 - 559s - loss: 0.8629 - accuracy: 0.6686 - val_loss: 0.8778 - val_accuracy: 0.7013\n",
      "Epoch 9/30\n",
      "38302/38302 - 560s - loss: 0.8546 - accuracy: 0.6683 - val_loss: 0.8781 - val_accuracy: 0.7029\n",
      "Epoch 10/30\n",
      "38302/38302 - 559s - loss: 0.8732 - accuracy: 0.6682 - val_loss: 0.8546 - val_accuracy: 0.6685\n",
      "Epoch 11/30\n",
      "38302/38302 - 560s - loss: 0.8477 - accuracy: 0.6683 - val_loss: 0.8838 - val_accuracy: 0.7014\n",
      "Epoch 12/30\n",
      "38302/38302 - 559s - loss: 0.8737 - accuracy: 0.6685 - val_loss: 0.8489 - val_accuracy: 0.6725\n",
      "Epoch 13/30\n",
      "38302/38302 - 560s - loss: 0.8463 - accuracy: 0.6689 - val_loss: 0.8922 - val_accuracy: 0.7079\n",
      "Epoch 14/30\n",
      "38302/38302 - 556s - loss: 0.8949 - accuracy: 0.6690 - val_loss: 0.9164 - val_accuracy: 0.6492\n",
      "Epoch 15/30\n",
      "38302/38302 - 559s - loss: 0.8448 - accuracy: 0.6696 - val_loss: 0.9669 - val_accuracy: 0.7064\n",
      "Epoch 16/30\n",
      "38302/38302 - 526s - loss: 0.8456 - accuracy: 0.6688 - val_loss: 0.9081 - val_accuracy: 0.7077\n",
      "Epoch 17/30\n",
      "38302/38302 - 362s - loss: 0.8549 - accuracy: 0.6695 - val_loss: 0.9044 - val_accuracy: 0.7042\n",
      "Epoch 18/30\n",
      "38302/38302 - 362s - loss: 0.8417 - accuracy: 0.6702 - val_loss: 0.8551 - val_accuracy: 0.6804\n",
      "Epoch 19/30\n",
      "38302/38302 - 362s - loss: 0.8418 - accuracy: 0.6702 - val_loss: 0.8689 - val_accuracy: 0.6642\n",
      "Epoch 20/30\n",
      "38302/38302 - 362s - loss: 1.0319 - accuracy: 0.6697 - val_loss: 0.8581 - val_accuracy: 0.6726\n",
      "Epoch 21/30\n",
      "38302/38302 - 362s - loss: 0.8876 - accuracy: 0.6714 - val_loss: 0.8561 - val_accuracy: 0.7130\n",
      "Epoch 22/30\n",
      "38302/38302 - 363s - loss: 0.9160 - accuracy: 0.6707 - val_loss: 0.8637 - val_accuracy: 0.6645\n",
      "Epoch 23/30\n",
      "38302/38302 - 362s - loss: 0.8499 - accuracy: 0.6710 - val_loss: 0.8975 - val_accuracy: 0.7147\n",
      "Epoch 24/30\n",
      "38302/38302 - 551s - loss: 0.8395 - accuracy: 0.6721 - val_loss: 0.8532 - val_accuracy: 0.6661\n",
      "Epoch 25/30\n",
      "38302/38302 - 558s - loss: 0.8903 - accuracy: 0.6711 - val_loss: 1.2410 - val_accuracy: 0.7089\n",
      "Epoch 26/30\n",
      "38302/38302 - 560s - loss: 0.9785 - accuracy: 0.6700 - val_loss: 0.8643 - val_accuracy: 0.6718\n",
      "Epoch 27/30\n",
      "38302/38302 - 560s - loss: 0.8423 - accuracy: 0.6735 - val_loss: 0.8499 - val_accuracy: 0.6713\n",
      "Epoch 28/30\n",
      "38302/38302 - 559s - loss: 0.8379 - accuracy: 0.6731 - val_loss: 0.8481 - val_accuracy: 0.6808\n",
      "Epoch 29/30\n",
      "38302/38302 - 560s - loss: 0.8437 - accuracy: 0.6731 - val_loss: 0.8494 - val_accuracy: 0.6884\n",
      "Epoch 30/30\n",
      "38302/38302 - 560s - loss: 0.8396 - accuracy: 0.6739 - val_loss: 0.8677 - val_accuracy: 0.6885\n"
     ]
    }
   ],
   "source": [
    "his=model1.fit(X_nn, y_enc, validation_data=(X_t_nn, y_Test_enc), epochs=30, verbose=2,batch_size=128)"
   ]
  },
  {
   "cell_type": "code",
   "execution_count": 47,
   "metadata": {
    "scrolled": true
   },
   "outputs": [
    {
     "name": "stderr",
     "output_type": "stream",
     "text": [
      "/usr/local/lib/python3.6/dist-packages/ipykernel_launcher.py:15: MatplotlibDeprecationWarning: Unrecognized location 'upper_right'. Falling back on 'best'; valid locations are\n",
      "\tbest\n",
      "\tupper right\n",
      "\tupper left\n",
      "\tlower left\n",
      "\tlower right\n",
      "\tright\n",
      "\tcenter left\n",
      "\tcenter right\n",
      "\tlower center\n",
      "\tupper center\n",
      "\tcenter\n",
      "This will raise an exception in 3.3.\n",
      "  from ipykernel import kernelapp as app\n"
     ]
    },
    {
     "data": {
      "image/png": "[encoded data removed]",
      "text/plain": [
       "<Figure size 432x288 with 1 Axes>"
      ]
     },
     "metadata": {
      "needs_background": "light"
     },
     "output_type": "display_data"
    },
    {
     "name": "stderr",
     "output_type": "stream",
     "text": [
      "/usr/local/lib/python3.6/dist-packages/ipykernel_launcher.py:23: MatplotlibDeprecationWarning: Unrecognized location 'upper_right'. Falling back on 'best'; valid locations are\n",
      "\tbest\n",
      "\tupper right\n",
      "\tupper left\n",
      "\tlower left\n",
      "\tlower right\n",
      "\tright\n",
      "\tcenter left\n",
      "\tcenter right\n",
      "\tlower center\n",
      "\tupper center\n",
      "\tcenter\n",
      "This will raise an exception in 3.3.\n"
     ]
    },
    {
     "data": {
      "image/png": "[encoded data removed]",
      "text/plain": [
       "<Figure size 432x288 with 1 Axes>"
      ]
     },
     "metadata": {
      "needs_background": "light"
     },
     "output_type": "display_data"
    }
   ],
   "source": [
    "import matplotlib.pyplot as plt\n",
    "\n",
    "from sklearn.metrics import recall_score\n",
    "from sklearn.metrics import accuracy_score\n",
    "from sklearn.metrics import precision_score\n",
    "from sklearn.metrics import recall_score\n",
    "from sklearn.metrics import f1_score\n",
    "\n",
    "\n",
    "plt.plot(his.history['loss' ])\n",
    "plt.plot(his.history[ 'val_loss' ])\n",
    "plt.title( 'model train vs validation loss' )\n",
    "plt.ylabel( 'loss' )\n",
    "plt.xlabel( 'epoch' )\n",
    "plt.legend([ 'train' ,  'validation' ], loc= 'upper_right' )\n",
    "plt.show()\n",
    "\n",
    "plt.plot(his.history['accuracy' ])\n",
    "plt.plot(his.history[ 'val_accuracy' ])\n",
    "plt.title( 'model train vs validation accuracy' )\n",
    "plt.ylabel( 'accuracy' )\n",
    "plt.xlabel( 'epoch' )\n",
    "plt.legend([ 'train' ,  'validation' ], loc= 'upper_right' )\n",
    "plt.show()\n"
   ]
  },
  {
   "cell_type": "code",
   "execution_count": 53,
   "metadata": {},
   "outputs": [],
   "source": [
    "# predict probabilities for test set\n",
    "yhat_probs = model1.predict(X_t_nn, verbose=0)\n",
    "# predict crisp classes for test set\n",
    "yhat_classes = np.argmax(yhat_probs,axis=1)\n",
    "\n",
    "\n",
    "yhat_probs = yhat_probs[:, 0]\n",
    "#yhat_classes = yhat_classes[:, 0]\n",
    "\n",
    "y_Test = y_Test.replace('DDoS',3)\n",
    "y_Test = y_Test.replace('Benign',0)\n",
    "y_Test = y_Test.replace('Bot',1)\n",
    "y_Test = y_Test.replace('Bruteforce',2)\n",
    "y_Test = y_Test.replace('DoS',4)\n",
    "y_Test = y_Test.replace('Infilteration',5)\n",
    "y_Test = y_Test.replace('Web_attack',6)\n",
    "\n"
   ]
  },
  {
   "cell_type": "code",
   "execution_count": 54,
   "metadata": {},
   "outputs": [
    {
     "name": "stdout",
     "output_type": "stream",
     "text": [
      "Accuracy: 0.670560\n"
     ]
    },
    {
     "name": "stderr",
     "output_type": "stream",
     "text": [
      "/usr/local/lib/python3.6/dist-packages/sklearn/metrics/_classification.py:1248: UndefinedMetricWarning: Precision is ill-defined and being set to 0.0 in labels with no predicted samples. Use `zero_division` parameter to control this behavior.\n",
      "  _warn_prf(average, modifier, msg_start, len(result))\n"
     ]
    },
    {
     "name": "stdout",
     "output_type": "stream",
     "text": [
      "Precision: 0.289584\n",
      "Recall: 0.419347\n",
      "F1 score: 0.315531\n"
     ]
    }
   ],
   "source": [
    "y_Test_n=y_Test.to_numpy()\n",
    "# accuracy: (tp + tn) / (p + n)\n",
    "accuracy = accuracy_score(y_Test_n, yhat_classes)\n",
    "print('Accuracy: %f' % accuracy)\n",
    "# precision tp / (tp + fp)\n",
    "precision = precision_score(y_Test_n, yhat_classes,average='macro')\n",
    "print('Precision: %f' % precision)\n",
    "# recall: tp / (tp + fn)\n",
    "recall = recall_score(y_Test_n, yhat_classes,average='macro')\n",
    "print('Recall: %f' % recall)\n",
    "# f1: 2 tp / (2 tp + fp + fn)\n",
    "f1 = f1_score(y_Test_n, yhat_classes,average='macro')\n",
    "print('F1 score: %f' % f1)"
   ]
  },
  {
   "cell_type": "code",
   "execution_count": 32,
   "metadata": {},
   "outputs": [
    {
     "name": "stdout",
     "output_type": "stream",
     "text": [
      "Epoch 1/70\n",
      "38302/38302 - 591s - loss: 0.1516 - accuracy: 0.9551 - val_loss: 0.1957 - val_accuracy: 0.9412\n",
      "Epoch 2/70\n",
      "38302/38302 - 589s - loss: 0.1520 - accuracy: 0.9553 - val_loss: 0.2411 - val_accuracy: 0.9399\n",
      "Epoch 3/70\n",
      "38302/38302 - 588s - loss: 0.1518 - accuracy: 0.9551 - val_loss: 0.1976 - val_accuracy: 0.9412\n",
      "Epoch 4/70\n",
      "38302/38302 - 590s - loss: 0.1514 - accuracy: 0.9553 - val_loss: 0.1981 - val_accuracy: 0.9418\n",
      "Epoch 5/70\n",
      "38302/38302 - 575s - loss: 0.1514 - accuracy: 0.9553 - val_loss: 0.1935 - val_accuracy: 0.9426\n",
      "Epoch 6/70\n"
     ]
    },
    {
     "ename": "KeyboardInterrupt",
     "evalue": "",
     "output_type": "error",
     "traceback": [
      "\u001b[0;31m\u001b[0m",
      "\u001b[0;31mKeyboardInterrupt\u001b[0mTraceback (most recent call last)",
      "\u001b[0;32m<ipython-input-32-5fd284f0a110>\u001b[0m in \u001b[0;36m<module>\u001b[0;34m\u001b[0m\n\u001b[0;32m----> 1\u001b[0;31m \u001b[0mhis2\u001b[0m\u001b[0;34m=\u001b[0m\u001b[0mmodel\u001b[0m\u001b[0;34m.\u001b[0m\u001b[0mfit\u001b[0m\u001b[0;34m(\u001b[0m\u001b[0mX_nn\u001b[0m\u001b[0;34m,\u001b[0m \u001b[0my_enc\u001b[0m\u001b[0;34m,\u001b[0m \u001b[0mvalidation_data\u001b[0m\u001b[0;34m=\u001b[0m\u001b[0;34m(\u001b[0m\u001b[0mX_t_nn\u001b[0m\u001b[0;34m,\u001b[0m \u001b[0my_Test_enc\u001b[0m\u001b[0;34m)\u001b[0m\u001b[0;34m,\u001b[0m \u001b[0mepochs\u001b[0m\u001b[0;34m=\u001b[0m\u001b[0;36m70\u001b[0m\u001b[0;34m,\u001b[0m \u001b[0mverbose\u001b[0m\u001b[0;34m=\u001b[0m\u001b[0;36m2\u001b[0m\u001b[0;34m,\u001b[0m\u001b[0mbatch_size\u001b[0m\u001b[0;34m=\u001b[0m\u001b[0;36m128\u001b[0m\u001b[0;34m)\u001b[0m\u001b[0;34m\u001b[0m\u001b[0;34m\u001b[0m\u001b[0m\n\u001b[0m",
      "\u001b[0;32m/usr/local/lib/python3.6/dist-packages/keras/engine/training.py\u001b[0m in \u001b[0;36mfit\u001b[0;34m(self, x, y, batch_size, epochs, verbose, callbacks, validation_split, validation_data, shuffle, class_weight, sample_weight, initial_epoch, steps_per_epoch, validation_steps, validation_batch_size, validation_freq, max_queue_size, workers, use_multiprocessing)\u001b[0m\n\u001b[1;32m   1182\u001b[0m                 _r=1):\n\u001b[1;32m   1183\u001b[0m               \u001b[0mcallbacks\u001b[0m\u001b[0;34m.\u001b[0m\u001b[0mon_train_batch_begin\u001b[0m\u001b[0;34m(\u001b[0m\u001b[0mstep\u001b[0m\u001b[0;34m)\u001b[0m\u001b[0;34m\u001b[0m\u001b[0;34m\u001b[0m\u001b[0m\n\u001b[0;32m-> 1184\u001b[0;31m               \u001b[0mtmp_logs\u001b[0m \u001b[0;34m=\u001b[0m \u001b[0mself\u001b[0m\u001b[0;34m.\u001b[0m\u001b[0mtrain_function\u001b[0m\u001b[0;34m(\u001b[0m\u001b[0miterator\u001b[0m\u001b[0;34m)\u001b[0m\u001b[0;34m\u001b[0m\u001b[0;34m\u001b[0m\u001b[0m\n\u001b[0m\u001b[1;32m   1185\u001b[0m               \u001b[0;32mif\u001b[0m \u001b[0mdata_handler\u001b[0m\u001b[0;34m.\u001b[0m\u001b[0mshould_sync\u001b[0m\u001b[0;34m:\u001b[0m\u001b[0;34m\u001b[0m\u001b[0;34m\u001b[0m\u001b[0m\n\u001b[1;32m   1186\u001b[0m                 \u001b[0mcontext\u001b[0m\u001b[0;34m.\u001b[0m\u001b[0masync_wait\u001b[0m\u001b[0;34m(\u001b[0m\u001b[0;34m)\u001b[0m\u001b[0;34m\u001b[0m\u001b[0;34m\u001b[0m\u001b[0m\n",
      "\u001b[0;32m/usr/local/lib/python3.6/dist-packages/tensorflow/python/eager/def_function.py\u001b[0m in \u001b[0;36m__call__\u001b[0;34m(self, *args, **kwds)\u001b[0m\n\u001b[1;32m    883\u001b[0m \u001b[0;34m\u001b[0m\u001b[0m\n\u001b[1;32m    884\u001b[0m       \u001b[0;32mwith\u001b[0m \u001b[0mOptionalXlaContext\u001b[0m\u001b[0;34m(\u001b[0m\u001b[0mself\u001b[0m\u001b[0;34m.\u001b[0m\u001b[0m_jit_compile\u001b[0m\u001b[0;34m)\u001b[0m\u001b[0;34m:\u001b[0m\u001b[0;34m\u001b[0m\u001b[0;34m\u001b[0m\u001b[0m\n\u001b[0;32m--> 885\u001b[0;31m         \u001b[0mresult\u001b[0m \u001b[0;34m=\u001b[0m \u001b[0mself\u001b[0m\u001b[0;34m.\u001b[0m\u001b[0m_call\u001b[0m\u001b[0;34m(\u001b[0m\u001b[0;34m*\u001b[0m\u001b[0margs\u001b[0m\u001b[0;34m,\u001b[0m \u001b[0;34m**\u001b[0m\u001b[0mkwds\u001b[0m\u001b[0;34m)\u001b[0m\u001b[0;34m\u001b[0m\u001b[0;34m\u001b[0m\u001b[0m\n\u001b[0m\u001b[1;32m    886\u001b[0m \u001b[0;34m\u001b[0m\u001b[0m\n\u001b[1;32m    887\u001b[0m       \u001b[0mnew_tracing_count\u001b[0m \u001b[0;34m=\u001b[0m \u001b[0mself\u001b[0m\u001b[0;34m.\u001b[0m\u001b[0mexperimental_get_tracing_count\u001b[0m\u001b[0;34m(\u001b[0m\u001b[0;34m)\u001b[0m\u001b[0;34m\u001b[0m\u001b[0;34m\u001b[0m\u001b[0m\n",
      "\u001b[0;32m/usr/local/lib/python3.6/dist-packages/tensorflow/python/eager/def_function.py\u001b[0m in \u001b[0;36m_call\u001b[0;34m(self, *args, **kwds)\u001b[0m\n\u001b[1;32m    915\u001b[0m       \u001b[0;31m# In this case we have created variables on the first call, so we run the\u001b[0m\u001b[0;34m\u001b[0m\u001b[0;34m\u001b[0m\u001b[0;34m\u001b[0m\u001b[0m\n\u001b[1;32m    916\u001b[0m       \u001b[0;31m# defunned version which is guaranteed to never create variables.\u001b[0m\u001b[0;34m\u001b[0m\u001b[0;34m\u001b[0m\u001b[0;34m\u001b[0m\u001b[0m\n\u001b[0;32m--> 917\u001b[0;31m       \u001b[0;32mreturn\u001b[0m \u001b[0mself\u001b[0m\u001b[0;34m.\u001b[0m\u001b[0m_stateless_fn\u001b[0m\u001b[0;34m(\u001b[0m\u001b[0;34m*\u001b[0m\u001b[0margs\u001b[0m\u001b[0;34m,\u001b[0m \u001b[0;34m**\u001b[0m\u001b[0mkwds\u001b[0m\u001b[0;34m)\u001b[0m  \u001b[0;31m# pylint: disable=not-callable\u001b[0m\u001b[0;34m\u001b[0m\u001b[0;34m\u001b[0m\u001b[0m\n\u001b[0m\u001b[1;32m    918\u001b[0m     \u001b[0;32melif\u001b[0m \u001b[0mself\u001b[0m\u001b[0;34m.\u001b[0m\u001b[0m_stateful_fn\u001b[0m \u001b[0;32mis\u001b[0m \u001b[0;32mnot\u001b[0m \u001b[0;32mNone\u001b[0m\u001b[0;34m:\u001b[0m\u001b[0;34m\u001b[0m\u001b[0;34m\u001b[0m\u001b[0m\n\u001b[1;32m    919\u001b[0m       \u001b[0;31m# Release the lock early so that multiple threads can perform the call\u001b[0m\u001b[0;34m\u001b[0m\u001b[0;34m\u001b[0m\u001b[0;34m\u001b[0m\u001b[0m\n",
      "\u001b[0;32m/usr/local/lib/python3.6/dist-packages/tensorflow/python/eager/function.py\u001b[0m in \u001b[0;36m__call__\u001b[0;34m(self, *args, **kwargs)\u001b[0m\n\u001b[1;32m   3038\u001b[0m        filtered_flat_args) = self._maybe_define_function(args, kwargs)\n\u001b[1;32m   3039\u001b[0m     return graph_function._call_flat(\n\u001b[0;32m-> 3040\u001b[0;31m         filtered_flat_args, captured_inputs=graph_function.captured_inputs)  # pylint: disable=protected-access\n\u001b[0m\u001b[1;32m   3041\u001b[0m \u001b[0;34m\u001b[0m\u001b[0m\n\u001b[1;32m   3042\u001b[0m   \u001b[0;34m@\u001b[0m\u001b[0mproperty\u001b[0m\u001b[0;34m\u001b[0m\u001b[0;34m\u001b[0m\u001b[0m\n",
      "\u001b[0;32m/usr/local/lib/python3.6/dist-packages/tensorflow/python/eager/function.py\u001b[0m in \u001b[0;36m_call_flat\u001b[0;34m(self, args, captured_inputs, cancellation_manager)\u001b[0m\n\u001b[1;32m   1962\u001b[0m       \u001b[0;31m# No tape is watching; skip to running the function.\u001b[0m\u001b[0;34m\u001b[0m\u001b[0;34m\u001b[0m\u001b[0;34m\u001b[0m\u001b[0m\n\u001b[1;32m   1963\u001b[0m       return self._build_call_outputs(self._inference_function.call(\n\u001b[0;32m-> 1964\u001b[0;31m           ctx, args, cancellation_manager=cancellation_manager))\n\u001b[0m\u001b[1;32m   1965\u001b[0m     forward_backward = self._select_forward_and_backward_functions(\n\u001b[1;32m   1966\u001b[0m         \u001b[0margs\u001b[0m\u001b[0;34m,\u001b[0m\u001b[0;34m\u001b[0m\u001b[0;34m\u001b[0m\u001b[0m\n",
      "\u001b[0;32m/usr/local/lib/python3.6/dist-packages/tensorflow/python/eager/function.py\u001b[0m in \u001b[0;36mcall\u001b[0;34m(self, ctx, args, cancellation_manager)\u001b[0m\n\u001b[1;32m    594\u001b[0m               \u001b[0minputs\u001b[0m\u001b[0;34m=\u001b[0m\u001b[0margs\u001b[0m\u001b[0;34m,\u001b[0m\u001b[0;34m\u001b[0m\u001b[0;34m\u001b[0m\u001b[0m\n\u001b[1;32m    595\u001b[0m               \u001b[0mattrs\u001b[0m\u001b[0;34m=\u001b[0m\u001b[0mattrs\u001b[0m\u001b[0;34m,\u001b[0m\u001b[0;34m\u001b[0m\u001b[0;34m\u001b[0m\u001b[0m\n\u001b[0;32m--> 596\u001b[0;31m               ctx=ctx)\n\u001b[0m\u001b[1;32m    597\u001b[0m         \u001b[0;32melse\u001b[0m\u001b[0;34m:\u001b[0m\u001b[0;34m\u001b[0m\u001b[0;34m\u001b[0m\u001b[0m\n\u001b[1;32m    598\u001b[0m           outputs = execute.execute_with_cancellation(\n",
      "\u001b[0;32m/usr/local/lib/python3.6/dist-packages/tensorflow/python/eager/execute.py\u001b[0m in \u001b[0;36mquick_execute\u001b[0;34m(op_name, num_outputs, inputs, attrs, ctx, name)\u001b[0m\n\u001b[1;32m     58\u001b[0m     \u001b[0mctx\u001b[0m\u001b[0;34m.\u001b[0m\u001b[0mensure_initialized\u001b[0m\u001b[0;34m(\u001b[0m\u001b[0;34m)\u001b[0m\u001b[0;34m\u001b[0m\u001b[0;34m\u001b[0m\u001b[0m\n\u001b[1;32m     59\u001b[0m     tensors = pywrap_tfe.TFE_Py_Execute(ctx._handle, device_name, op_name,\n\u001b[0;32m---> 60\u001b[0;31m                                         inputs, attrs, num_outputs)\n\u001b[0m\u001b[1;32m     61\u001b[0m   \u001b[0;32mexcept\u001b[0m \u001b[0mcore\u001b[0m\u001b[0;34m.\u001b[0m\u001b[0m_NotOkStatusException\u001b[0m \u001b[0;32mas\u001b[0m \u001b[0me\u001b[0m\u001b[0;34m:\u001b[0m\u001b[0;34m\u001b[0m\u001b[0;34m\u001b[0m\u001b[0m\n\u001b[1;32m     62\u001b[0m     \u001b[0;32mif\u001b[0m \u001b[0mname\u001b[0m \u001b[0;32mis\u001b[0m \u001b[0;32mnot\u001b[0m \u001b[0;32mNone\u001b[0m\u001b[0;34m:\u001b[0m\u001b[0;34m\u001b[0m\u001b[0;34m\u001b[0m\u001b[0m\n",
      "\u001b[0;31mKeyboardInterrupt\u001b[0m: "
     ]
    }
   ],
   "source": [
    "his2=model.fit(X_nn, y_enc, validation_data=(X_t_nn, y_Test_enc), epochs=70, verbose=2,batch_size=128)"
   ]
  },
  {
   "cell_type": "code",
   "execution_count": 33,
   "metadata": {},
   "outputs": [
    {
     "name": "stdout",
     "output_type": "stream",
     "text": [
      "(4902609, 1, 78)\n"
     ]
    }
   ],
   "source": [
    "print(X_nn.shape)"
   ]
  },
  {
   "cell_type": "code",
   "execution_count": null,
   "metadata": {},
   "outputs": [],
   "source": []
  },
  {
   "cell_type": "code",
   "execution_count": 15,
   "metadata": {
    "scrolled": true
   },
   "outputs": [
    {
     "name": "stdout",
     "output_type": "stream",
     "text": [
      "****************-----VALIDATION---*******************\n",
      "********************RANDOM FOREST *******************\n",
      "               precision    recall  f1-score   support\n",
      "\n",
      "       Benign       0.97      0.99      0.98   1092698\n",
      "          Bot       1.00      1.00      1.00    231692\n",
      "   Bruteforce       0.84      0.94      0.89    308379\n",
      "         DDoS       0.86      0.95      0.90   1023422\n",
      "          DoS       0.81      0.59      0.68    530006\n",
      "Infilteration       0.95      0.77      0.85    131361\n",
      "        Label       1.00      1.00      1.00        53\n",
      "   Web_attack       0.92      0.61      0.73       758\n",
      "\n",
      "     accuracy                           0.90   3318369\n",
      "    macro avg       0.92      0.86      0.88   3318369\n",
      " weighted avg       0.90      0.90      0.90   3318369\n",
      "\n",
      "0.901036623714843\n",
      "CPU times: user 2min, sys: 4.67 ms, total: 2min\n",
      "Wall time: 2min\n"
     ]
    }
   ],
   "source": [
    "%%time\n",
    "# summarize the fit of the model\n",
    "print(\"****************-----VALIDATION---*******************\")\n",
    "print(\"********************RANDOM FOREST *******************\")\n",
    "print(classification_report(expected,predicted))\n",
    "print(metrics.accuracy_score(expected,predicted))"
   ]
  },
  {
   "cell_type": "code",
   "execution_count": 16,
   "metadata": {},
   "outputs": [
    {
     "name": "stderr",
     "output_type": "stream",
     "text": [
      "/usr/local/lib/python3.6/dist-packages/ipykernel_launcher.py:2: DataConversionWarning: A column-vector y was passed when a 1d array was expected. Please change the shape of y to (n_samples,), for example using ravel().\n",
      "  \n",
      "UsageError: Line magic function `%%time` not found.\n"
     ]
    }
   ],
   "source": [
    "%%time\n",
    "modelTotal = RandomForestClassifier(n_jobs=-1)\n",
    "modelTotal.fit(X, y)\n",
    "# make predictions\n",
    "predictedTotal = modelTotal.predict(X_Test)\n"
   ]
  },
  {
   "cell_type": "code",
   "execution_count": 17,
   "metadata": {},
   "outputs": [
    {
     "name": "stdout",
     "output_type": "stream",
     "text": [
      "****************-----VALIDATION TOTAL---*******************\n",
      "**********************RANDOM FOREST*********************\n",
      "               precision    recall  f1-score   support\n",
      "\n",
      "       Benign       0.98      1.00      0.99   1092698\n",
      "          Bot       1.00      1.00      1.00    231692\n",
      "   Bruteforce       0.84      0.94      0.89    308379\n",
      "         DDoS       1.00      1.00      1.00   1023422\n",
      "          DoS       0.96      0.90      0.93    530006\n",
      "Infilteration       0.96      0.82      0.89    131361\n",
      "        Label       1.00      1.00      1.00        53\n",
      "   Web_attack       1.00      1.00      1.00       758\n",
      "\n",
      "     accuracy                           0.97   3318369\n",
      "    macro avg       0.97      0.96      0.96   3318369\n",
      " weighted avg       0.97      0.97      0.97   3318369\n",
      "\n"
     ]
    }
   ],
   "source": [
    "# summarize the fit of the model\n",
    "print(\"****************-----VALIDATION TOTAL---*******************\")\n",
    "print(\"**********************RANDOM FOREST*********************\")\n",
    "print(classification_report(expected,predictedTotal))"
   ]
  },
  {
   "cell_type": "code",
   "execution_count": 28,
   "metadata": {},
   "outputs": [
    {
     "ename": "AttributeError",
     "evalue": "'StandardScaler' object has no attribute 'shape'",
     "output_type": "error",
     "traceback": [
      "\u001b[0;31m\u001b[0m",
      "\u001b[0;31mAttributeError\u001b[0mTraceback (most recent call last)",
      "\u001b[0;32m<ipython-input-28-ea750b03380f>\u001b[0m in \u001b[0;36m<module>\u001b[0;34m\u001b[0m\n\u001b[0;32m----> 1\u001b[0;31m \u001b[0mprint\u001b[0m\u001b[0;34m(\u001b[0m\u001b[0;34m(\u001b[0m\u001b[0mX_s\u001b[0m\u001b[0;34m.\u001b[0m\u001b[0mshape\u001b[0m\u001b[0;34m)\u001b[0m\u001b[0;34m)\u001b[0m\u001b[0;34m\u001b[0m\u001b[0;34m\u001b[0m\u001b[0m\n\u001b[0m",
      "\u001b[0;31mAttributeError\u001b[0m: 'StandardScaler' object has no attribute 'shape'"
     ]
    }
   ],
   "source": [
    "print((X_s.shape))"
   ]
  },
  {
   "cell_type": "code",
   "execution_count": 29,
   "metadata": {},
   "outputs": [
    {
     "ename": "ValueError",
     "evalue": "Expected 2D array, got scalar array instead:\narray=StandardScaler().\nReshape your data either using array.reshape(-1, 1) if your data has a single feature or array.reshape(1, -1) if it contains a single sample.",
     "output_type": "error",
     "traceback": [
      "\u001b[0;31m\u001b[0m",
      "\u001b[0;31mValueError\u001b[0mTraceback (most recent call last)",
      "\u001b[0;32m<timed exec>\u001b[0m in \u001b[0;36m<module>\u001b[0;34m\u001b[0m\n",
      "\u001b[0;32m/usr/local/lib/python3.6/dist-packages/sklearn/base.py\u001b[0m in \u001b[0;36mfit_transform\u001b[0;34m(self, X, y, **fit_params)\u001b[0m\n\u001b[1;32m    700\u001b[0m         \u001b[0;32melse\u001b[0m\u001b[0;34m:\u001b[0m\u001b[0;34m\u001b[0m\u001b[0;34m\u001b[0m\u001b[0m\n\u001b[1;32m    701\u001b[0m             \u001b[0;31m# fit method of arity 2 (supervised transformation)\u001b[0m\u001b[0;34m\u001b[0m\u001b[0;34m\u001b[0m\u001b[0;34m\u001b[0m\u001b[0m\n\u001b[0;32m--> 702\u001b[0;31m             \u001b[0;32mreturn\u001b[0m \u001b[0mself\u001b[0m\u001b[0;34m.\u001b[0m\u001b[0mfit\u001b[0m\u001b[0;34m(\u001b[0m\u001b[0mX\u001b[0m\u001b[0;34m,\u001b[0m \u001b[0my\u001b[0m\u001b[0;34m,\u001b[0m \u001b[0;34m**\u001b[0m\u001b[0mfit_params\u001b[0m\u001b[0;34m)\u001b[0m\u001b[0;34m.\u001b[0m\u001b[0mtransform\u001b[0m\u001b[0;34m(\u001b[0m\u001b[0mX\u001b[0m\u001b[0;34m)\u001b[0m\u001b[0;34m\u001b[0m\u001b[0;34m\u001b[0m\u001b[0m\n\u001b[0m\u001b[1;32m    703\u001b[0m \u001b[0;34m\u001b[0m\u001b[0m\n\u001b[1;32m    704\u001b[0m \u001b[0;34m\u001b[0m\u001b[0m\n",
      "\u001b[0;32m/usr/local/lib/python3.6/dist-packages/sklearn/feature_selection/_univariate_selection.py\u001b[0m in \u001b[0;36mfit\u001b[0;34m(self, X, y)\u001b[0m\n\u001b[1;32m    343\u001b[0m         \"\"\"\n\u001b[1;32m    344\u001b[0m         X, y = self._validate_data(X, y, accept_sparse=['csr', 'csc'],\n\u001b[0;32m--> 345\u001b[0;31m                                    multi_output=True)\n\u001b[0m\u001b[1;32m    346\u001b[0m \u001b[0;34m\u001b[0m\u001b[0m\n\u001b[1;32m    347\u001b[0m         \u001b[0;32mif\u001b[0m \u001b[0;32mnot\u001b[0m \u001b[0mcallable\u001b[0m\u001b[0;34m(\u001b[0m\u001b[0mself\u001b[0m\u001b[0;34m.\u001b[0m\u001b[0mscore_func\u001b[0m\u001b[0;34m)\u001b[0m\u001b[0;34m:\u001b[0m\u001b[0;34m\u001b[0m\u001b[0;34m\u001b[0m\u001b[0m\n",
      "\u001b[0;32m/usr/local/lib/python3.6/dist-packages/sklearn/base.py\u001b[0m in \u001b[0;36m_validate_data\u001b[0;34m(self, X, y, reset, validate_separately, **check_params)\u001b[0m\n\u001b[1;32m    431\u001b[0m                 \u001b[0my\u001b[0m \u001b[0;34m=\u001b[0m \u001b[0mcheck_array\u001b[0m\u001b[0;34m(\u001b[0m\u001b[0my\u001b[0m\u001b[0;34m,\u001b[0m \u001b[0;34m**\u001b[0m\u001b[0mcheck_y_params\u001b[0m\u001b[0;34m)\u001b[0m\u001b[0;34m\u001b[0m\u001b[0;34m\u001b[0m\u001b[0m\n\u001b[1;32m    432\u001b[0m             \u001b[0;32melse\u001b[0m\u001b[0;34m:\u001b[0m\u001b[0;34m\u001b[0m\u001b[0;34m\u001b[0m\u001b[0m\n\u001b[0;32m--> 433\u001b[0;31m                 \u001b[0mX\u001b[0m\u001b[0;34m,\u001b[0m \u001b[0my\u001b[0m \u001b[0;34m=\u001b[0m \u001b[0mcheck_X_y\u001b[0m\u001b[0;34m(\u001b[0m\u001b[0mX\u001b[0m\u001b[0;34m,\u001b[0m \u001b[0my\u001b[0m\u001b[0;34m,\u001b[0m \u001b[0;34m**\u001b[0m\u001b[0mcheck_params\u001b[0m\u001b[0;34m)\u001b[0m\u001b[0;34m\u001b[0m\u001b[0;34m\u001b[0m\u001b[0m\n\u001b[0m\u001b[1;32m    434\u001b[0m             \u001b[0mout\u001b[0m \u001b[0;34m=\u001b[0m \u001b[0mX\u001b[0m\u001b[0;34m,\u001b[0m \u001b[0my\u001b[0m\u001b[0;34m\u001b[0m\u001b[0;34m\u001b[0m\u001b[0m\n\u001b[1;32m    435\u001b[0m \u001b[0;34m\u001b[0m\u001b[0m\n",
      "\u001b[0;32m/usr/local/lib/python3.6/dist-packages/sklearn/utils/validation.py\u001b[0m in \u001b[0;36minner_f\u001b[0;34m(*args, **kwargs)\u001b[0m\n\u001b[1;32m     61\u001b[0m             \u001b[0mextra_args\u001b[0m \u001b[0;34m=\u001b[0m \u001b[0mlen\u001b[0m\u001b[0;34m(\u001b[0m\u001b[0margs\u001b[0m\u001b[0;34m)\u001b[0m \u001b[0;34m-\u001b[0m \u001b[0mlen\u001b[0m\u001b[0;34m(\u001b[0m\u001b[0mall_args\u001b[0m\u001b[0;34m)\u001b[0m\u001b[0;34m\u001b[0m\u001b[0;34m\u001b[0m\u001b[0m\n\u001b[1;32m     62\u001b[0m             \u001b[0;32mif\u001b[0m \u001b[0mextra_args\u001b[0m \u001b[0;34m<=\u001b[0m \u001b[0;36m0\u001b[0m\u001b[0;34m:\u001b[0m\u001b[0;34m\u001b[0m\u001b[0;34m\u001b[0m\u001b[0m\n\u001b[0;32m---> 63\u001b[0;31m                 \u001b[0;32mreturn\u001b[0m \u001b[0mf\u001b[0m\u001b[0;34m(\u001b[0m\u001b[0;34m*\u001b[0m\u001b[0margs\u001b[0m\u001b[0;34m,\u001b[0m \u001b[0;34m**\u001b[0m\u001b[0mkwargs\u001b[0m\u001b[0;34m)\u001b[0m\u001b[0;34m\u001b[0m\u001b[0;34m\u001b[0m\u001b[0m\n\u001b[0m\u001b[1;32m     64\u001b[0m \u001b[0;34m\u001b[0m\u001b[0m\n\u001b[1;32m     65\u001b[0m             \u001b[0;31m# extra_args > 0\u001b[0m\u001b[0;34m\u001b[0m\u001b[0;34m\u001b[0m\u001b[0;34m\u001b[0m\u001b[0m\n",
      "\u001b[0;32m/usr/local/lib/python3.6/dist-packages/sklearn/utils/validation.py\u001b[0m in \u001b[0;36mcheck_X_y\u001b[0;34m(X, y, accept_sparse, accept_large_sparse, dtype, order, copy, force_all_finite, ensure_2d, allow_nd, multi_output, ensure_min_samples, ensure_min_features, y_numeric, estimator)\u001b[0m\n\u001b[1;32m    876\u001b[0m                     \u001b[0mensure_min_samples\u001b[0m\u001b[0;34m=\u001b[0m\u001b[0mensure_min_samples\u001b[0m\u001b[0;34m,\u001b[0m\u001b[0;34m\u001b[0m\u001b[0;34m\u001b[0m\u001b[0m\n\u001b[1;32m    877\u001b[0m                     \u001b[0mensure_min_features\u001b[0m\u001b[0;34m=\u001b[0m\u001b[0mensure_min_features\u001b[0m\u001b[0;34m,\u001b[0m\u001b[0;34m\u001b[0m\u001b[0;34m\u001b[0m\u001b[0m\n\u001b[0;32m--> 878\u001b[0;31m                     estimator=estimator)\n\u001b[0m\u001b[1;32m    879\u001b[0m     \u001b[0;32mif\u001b[0m \u001b[0mmulti_output\u001b[0m\u001b[0;34m:\u001b[0m\u001b[0;34m\u001b[0m\u001b[0;34m\u001b[0m\u001b[0m\n\u001b[1;32m    880\u001b[0m         y = check_array(y, accept_sparse='csr', force_all_finite=True,\n",
      "\u001b[0;32m/usr/local/lib/python3.6/dist-packages/sklearn/utils/validation.py\u001b[0m in \u001b[0;36minner_f\u001b[0;34m(*args, **kwargs)\u001b[0m\n\u001b[1;32m     61\u001b[0m             \u001b[0mextra_args\u001b[0m \u001b[0;34m=\u001b[0m \u001b[0mlen\u001b[0m\u001b[0;34m(\u001b[0m\u001b[0margs\u001b[0m\u001b[0;34m)\u001b[0m \u001b[0;34m-\u001b[0m \u001b[0mlen\u001b[0m\u001b[0;34m(\u001b[0m\u001b[0mall_args\u001b[0m\u001b[0;34m)\u001b[0m\u001b[0;34m\u001b[0m\u001b[0;34m\u001b[0m\u001b[0m\n\u001b[1;32m     62\u001b[0m             \u001b[0;32mif\u001b[0m \u001b[0mextra_args\u001b[0m \u001b[0;34m<=\u001b[0m \u001b[0;36m0\u001b[0m\u001b[0;34m:\u001b[0m\u001b[0;34m\u001b[0m\u001b[0;34m\u001b[0m\u001b[0m\n\u001b[0;32m---> 63\u001b[0;31m                 \u001b[0;32mreturn\u001b[0m \u001b[0mf\u001b[0m\u001b[0;34m(\u001b[0m\u001b[0;34m*\u001b[0m\u001b[0margs\u001b[0m\u001b[0;34m,\u001b[0m \u001b[0;34m**\u001b[0m\u001b[0mkwargs\u001b[0m\u001b[0;34m)\u001b[0m\u001b[0;34m\u001b[0m\u001b[0;34m\u001b[0m\u001b[0m\n\u001b[0m\u001b[1;32m     64\u001b[0m \u001b[0;34m\u001b[0m\u001b[0m\n\u001b[1;32m     65\u001b[0m             \u001b[0;31m# extra_args > 0\u001b[0m\u001b[0;34m\u001b[0m\u001b[0;34m\u001b[0m\u001b[0;34m\u001b[0m\u001b[0m\n",
      "\u001b[0;32m/usr/local/lib/python3.6/dist-packages/sklearn/utils/validation.py\u001b[0m in \u001b[0;36mcheck_array\u001b[0;34m(array, accept_sparse, accept_large_sparse, dtype, order, copy, force_all_finite, ensure_2d, allow_nd, ensure_min_samples, ensure_min_features, estimator)\u001b[0m\n\u001b[1;32m    689\u001b[0m                     \u001b[0;34m\"Reshape your data either using array.reshape(-1, 1) if \"\u001b[0m\u001b[0;34m\u001b[0m\u001b[0;34m\u001b[0m\u001b[0m\n\u001b[1;32m    690\u001b[0m                     \u001b[0;34m\"your data has a single feature or array.reshape(1, -1) \"\u001b[0m\u001b[0;34m\u001b[0m\u001b[0;34m\u001b[0m\u001b[0m\n\u001b[0;32m--> 691\u001b[0;31m                     \"if it contains a single sample.\".format(array))\n\u001b[0m\u001b[1;32m    692\u001b[0m             \u001b[0;31m# If input is 1D raise error\u001b[0m\u001b[0;34m\u001b[0m\u001b[0;34m\u001b[0m\u001b[0;34m\u001b[0m\u001b[0m\n\u001b[1;32m    693\u001b[0m             \u001b[0;32mif\u001b[0m \u001b[0marray\u001b[0m\u001b[0;34m.\u001b[0m\u001b[0mndim\u001b[0m \u001b[0;34m==\u001b[0m \u001b[0;36m1\u001b[0m\u001b[0;34m:\u001b[0m\u001b[0;34m\u001b[0m\u001b[0;34m\u001b[0m\u001b[0m\n",
      "\u001b[0;31mValueError\u001b[0m: Expected 2D array, got scalar array instead:\narray=StandardScaler().\nReshape your data either using array.reshape(-1, 1) if your data has a single feature or array.reshape(1, -1) if it contains a single sample."
     ]
    }
   ],
   "source": [
    "%%time\n",
    "X=pd.read_csv(\"X_smote.csv\",sep=',',dtype=np.float32)\n",
    "y=pd.read_csv(\"y_smote.csv\")\n",
    "from sklearn.feature_selection import SelectKBest, chi2\n",
    "from sklearn.preprocessing import StandardScaler\n"
   ]
  },
  {
   "cell_type": "code",
   "execution_count": 37,
   "metadata": {},
   "outputs": [],
   "source": [
    "\n",
    "from sklearn.preprocessing import MinMaxScaler\n",
    "scaler = MinMaxScaler()\n",
    "X_s= scaler.fit_transform(np.array(X.values))"
   ]
  },
  {
   "cell_type": "code",
   "execution_count": 44,
   "metadata": {},
   "outputs": [
    {
     "ename": "NameError",
     "evalue": "name 'dataValues' is not defined",
     "output_type": "error",
     "traceback": [
      "\u001b[0;31m\u001b[0m",
      "\u001b[0;31mNameError\u001b[0mTraceback (most recent call last)",
      "\u001b[0;32m<ipython-input-44-c4bcb755ab93>\u001b[0m in \u001b[0;36m<module>\u001b[0;34m\u001b[0m\n\u001b[1;32m      1\u001b[0m \u001b[0mbestfeat\u001b[0m \u001b[0;34m=\u001b[0m \u001b[0mSelectKBest\u001b[0m\u001b[0;34m(\u001b[0m\u001b[0mchi2\u001b[0m\u001b[0;34m,\u001b[0m \u001b[0mk\u001b[0m\u001b[0;34m=\u001b[0m\u001b[0;36m20\u001b[0m\u001b[0;34m)\u001b[0m\u001b[0;34m\u001b[0m\u001b[0;34m\u001b[0m\u001b[0m\n\u001b[1;32m      2\u001b[0m \u001b[0mfit\u001b[0m \u001b[0;34m=\u001b[0m \u001b[0mbestfeat\u001b[0m\u001b[0;34m.\u001b[0m\u001b[0mfit\u001b[0m\u001b[0;34m(\u001b[0m\u001b[0mX_s\u001b[0m\u001b[0;34m,\u001b[0m \u001b[0my\u001b[0m\u001b[0;34m)\u001b[0m\u001b[0;34m\u001b[0m\u001b[0;34m\u001b[0m\u001b[0m\n\u001b[0;32m----> 3\u001b[0;31m \u001b[0mfeat_importances\u001b[0m \u001b[0;34m=\u001b[0m \u001b[0mpd\u001b[0m\u001b[0;34m.\u001b[0m\u001b[0mSeries\u001b[0m\u001b[0;34m(\u001b[0m\u001b[0mfit\u001b[0m\u001b[0;34m.\u001b[0m\u001b[0mscores_\u001b[0m\u001b[0;34m,\u001b[0m \u001b[0mindex\u001b[0m\u001b[0;34m=\u001b[0m\u001b[0mdataValues\u001b[0m\u001b[0;34m.\u001b[0m\u001b[0mcolumns\u001b[0m\u001b[0;34m)\u001b[0m\u001b[0;34m\u001b[0m\u001b[0;34m\u001b[0m\u001b[0m\n\u001b[0m\u001b[1;32m      4\u001b[0m \u001b[0mtopFeatures\u001b[0m \u001b[0;34m=\u001b[0m \u001b[0mfeat_importances\u001b[0m\u001b[0;34m.\u001b[0m\u001b[0mnlargest\u001b[0m\u001b[0;34m(\u001b[0m\u001b[0;36m50\u001b[0m\u001b[0;34m)\u001b[0m\u001b[0;34m.\u001b[0m\u001b[0mcopy\u001b[0m\u001b[0;34m(\u001b[0m\u001b[0;34m)\u001b[0m\u001b[0;34m.\u001b[0m\u001b[0mindex\u001b[0m\u001b[0;34m.\u001b[0m\u001b[0mvaluesp\u001b[0m\u001b[0;34m\u001b[0m\u001b[0;34m\u001b[0m\u001b[0m\n\u001b[1;32m      5\u001b[0m \u001b[0;34m\u001b[0m\u001b[0m\n",
      "\u001b[0;31mNameError\u001b[0m: name 'dataValues' is not defined"
     ]
    }
   ],
   "source": [
    "\n",
    "\n",
    "bestfeat = SelectKBest(chi2, k=20)\n",
    "fit = bestfeat.fit(X_s, y)\n"
   ]
  },
  {
   "cell_type": "code",
   "execution_count": 60,
   "metadata": {},
   "outputs": [
    {
     "name": "stdout",
     "output_type": "stream",
     "text": [
      "0    URG Flag Cnt  score:  1.00\n",
      "1    RST Flag Cnt  score:  0.99\n",
      "2    ECE Flag Cnt  score:  0.99\n",
      "3    Bwd Pkts/s  score:  0.89\n",
      "4   Init Bwd Win Byts  score:  0.84\n",
      "5   Dst Port  score:  0.76\n",
      "6    ACK Flag Cnt  score:  0.69\n",
      "7   Init Fwd Win Byts  score:  0.67\n",
      "8    Flow Pkts/s  score:  0.62\n",
      "9   Fwd Seg Size Min  score:  0.43\n",
      "10    Bwd IAT Tot  score:  0.33\n",
      "11    PSH Flag Cnt  score:  0.32\n",
      "12    Flow Duration  score:  0.29\n",
      "13    Fwd IAT Tot  score:  0.29\n",
      "14    Fwd Pkts/s  score:  0.28\n",
      "15    Fwd PSH Flags  score:  0.27\n",
      "16    SYN Flag Cnt  score:  0.27\n",
      "17    Protocol  score:  0.18\n",
      "18    Bwd Pkt Len Min  score:  0.13\n",
      "19    Flow IAT Min  score:  0.11\n",
      "20    Flow IAT Max  score:  0.11\n",
      "21    Fwd IAT Max  score:  0.11\n",
      "22    Bwd Pkt Len Mean  score:  0.11\n",
      "23    Bwd Seg Size Avg  score:  0.11\n",
      "24    Flow IAT Mean  score:  0.10\n",
      "25    Fwd IAT Min  score:  0.10\n",
      "26    Bwd Pkt Len Std  score:  0.09\n",
      "27    Fwd IAT Mean  score:  0.09\n",
      "28   Idle Min  score:  0.09\n",
      "29   Idle Mean  score:  0.09\n",
      "30   Idle Max  score:  0.09\n",
      "31    Bwd IAT Max  score:  0.09\n",
      "32    Pkt Size Avg  score:  0.07\n",
      "33    Fwd IAT Std  score:  0.07\n",
      "34    Pkt Len Mean  score:  0.06\n",
      "35    Fwd URG Flags  score:  0.06\n",
      "36    CWE Flag Count  score:  0.06\n",
      "37    Fwd Pkt Len Min  score:  0.05\n",
      "38    Pkt Len Min  score:  0.05\n",
      "39    Flow IAT Std  score:  0.04\n",
      "40    Pkt Len Std  score:  0.03\n",
      "41    Bwd IAT Std  score:  0.03\n",
      "42    Fwd Pkt Len Std  score:  0.03\n",
      "43    Bwd IAT Mean  score:  0.03\n",
      "44    Bwd Pkt Len Max  score:  0.02\n",
      "45    FIN Flag Cnt  score:  0.02\n",
      "46    Fwd Pkt Len Max  score:  0.02\n",
      "47    Bwd IAT Min  score:  0.02\n",
      "48    Pkt Len Max  score:  0.02\n",
      "49    Fwd Pkt Len Mean  score:  0.02\n"
     ]
    }
   ],
   "source": [
    "feat_importances = pd.Series(fit.scores_)\n",
    "topFeatures = feat_importances.nlargest(50).copy().index.values\n",
    "impor =  feat_importances.sort_values(ascending=True)\n",
    "impor =  (impor-impor.min())/(impor.max()-impor.min())\n",
    "c=0\n",
    "for i in topFeatures:\n",
    "    print ( c,\" \",X.columns[i],\" score: \",\"{:.2f}\".format(impor[i]))\n",
    "    c=c+1\n"
   ]
  },
  {
   "cell_type": "code",
   "execution_count": null,
   "metadata": {},
   "outputs": [],
   "source": [
    "%%time\n",
    "from sklearn.svm import OneClassSVM\n",
    "model = RandomForestClassifier(n_jobs=-1)\n",
    "model.fit(X_13f, y)\n"
   ]
  },
  {
   "cell_type": "code",
   "execution_count": 50,
   "metadata": {},
   "outputs": [
    {
     "name": "stdout",
     "output_type": "stream",
     "text": [
      " URG Flag Cnt\n",
      " RST Flag Cnt\n",
      " ECE Flag Cnt\n",
      " Bwd Pkts/s\n",
      "Init Bwd Win Byts\n",
      "Dst Port\n",
      " ACK Flag Cnt\n",
      "Init Fwd Win Byts\n",
      " Flow Pkts/s\n",
      "Fwd Seg Size Min\n",
      " Bwd IAT Tot\n",
      " PSH Flag Cnt\n",
      " Flow Duration\n",
      " Fwd IAT Tot\n",
      " Fwd Pkts/s\n"
     ]
    }
   ],
   "source": [
    " \n"
   ]
  },
  {
   "cell_type": "code",
   "execution_count": null,
   "metadata": {},
   "outputs": [],
   "source": [
    "%%time\n",
    "import sys\n",
    "\n",
    "original_stdout = sys.stdout # Save a reference to the original standard output\n",
    "\n",
    "with open('resultado_RandomForestClassifier.txt', 'w') as f:\n",
    "    sys.stdout = f # Change the standard output to the file we created.\n",
    "    print(classification_report(expected,predicted))\n",
    "    sys.stdout = original_stdout # Reset the standard output to its original value\n"
   ]
  },
  {
   "cell_type": "code",
   "execution_count": null,
   "metadata": {},
   "outputs": [],
   "source": [
    "%%time\n",
    "clf = OneClassSVM(gamma='auto')\n",
    "model_ocs=clf.fit(X_ben)\n"
   ]
  },
  {
   "cell_type": "code",
   "execution_count": null,
   "metadata": {},
   "outputs": [],
   "source": [
    "pred_ben = clf.predict(X_ben)\n",
    "print (pred_ben)"
   ]
  },
  {
   "cell_type": "code",
   "execution_count": null,
   "metadata": {},
   "outputs": [],
   "source": [
    "X_Val=pd.read_csv(\"../Clustering/X_Val.csv\",sep=',',dtype=np.float32)"
   ]
  },
  {
   "cell_type": "code",
   "execution_count": null,
   "metadata": {},
   "outputs": [],
   "source": [
    "pred_val = clf.predict(X_Val)\n",
    "print (pred_val)"
   ]
  },
  {
   "cell_type": "code",
   "execution_count": 6,
   "metadata": {},
   "outputs": [
    {
     "name": "stdout",
     "output_type": "stream",
     "text": [
      "****************-----TEST---*******************\n",
      "********************RANDOM FOREST *******************\n",
      "               precision    recall  f1-score   support\n",
      "\n",
      "       Benign       0.98      1.00      0.99   1092698\n",
      "          Bot       1.00      1.00      1.00    231692\n",
      "   Bruteforce       0.84      0.94      0.89    308379\n",
      "         DDoS       1.00      1.00      1.00   1023422\n",
      "          DoS       0.96      0.90      0.93    530006\n",
      "Infilteration       0.96      0.82      0.89    131361\n",
      "        Label       1.00      1.00      1.00        53\n",
      "   Web_attack       1.00      1.00      1.00       758\n",
      "\n",
      "     accuracy                           0.97   3318369\n",
      "    macro avg       0.97      0.96      0.96   3318369\n",
      " weighted avg       0.97      0.97      0.97   3318369\n",
      "\n",
      "0.9697239818718172\n",
      "CPU times: user 8min 49s, sys: 3.46 s, total: 8min 52s\n",
      "Wall time: 6min 53s\n"
     ]
    }
   ],
   "source": [
    "%%time\n",
    "# make predictions\n",
    "expected = y_Test\n",
    "predicted = model.predict(X_Test)\n",
    "# summarize the fit of the model\n",
    "print(\"****************-----TEST---*******************\")\n",
    "print(\"********************RANDOM FOREST *******************\")\n",
    "print(classification_report(expected,predicted))\n",
    "print(metrics.accuracy_score(expected,predicted))\n",
    "\n",
    "original_stdout = sys.stdout # Save a reference to the original standard output\n",
    "\n",
    "with open('resultadoTEST_RandomForestClassifier.txt', 'w') as f:\n",
    "    sys.stdout = f # Change the standard output to the file we created.\n",
    "    print(classification_report(expected,predicted))\n",
    "    sys.stdout = original_stdout # Reset the standard output to its original value\n",
    "\n",
    "\n"
   ]
  },
  {
   "cell_type": "code",
   "execution_count": null,
   "metadata": {},
   "outputs": [],
   "source": [
    "%%time\n",
    "model2 = DecisionTreeClassifier()\n",
    "model2.fit(X_smote, y_smote)\n",
    "# make predictions\n",
    "expected = y_Val\n",
    "predicted = model2.predict(X_Val)\n",
    "# summarize the fit of the model\n",
    "print(\"****************-----VALIDATION---*******************\")\n",
    "print(\"********************DECISION TREE *******************\")\n",
    "print(classification_report(expected,predicted))\n",
    "print(metrics.accuracy_score(expected,predicted))\n",
    "\n",
    "original_stdout = sys.stdout # Save a reference to the original standard output\n",
    "\n",
    "with open('resultadoVAL_DecisionTreeClassifier.txt', 'w') as f:\n",
    "    sys.stdout = f # Change the standard output to the file we created.\n",
    "    print(classification_report(expected,predicted))\n",
    "    sys.stdout = original_stdout # Reset the standard output to its original value\n",
    "\n"
   ]
  },
  {
   "cell_type": "code",
   "execution_count": null,
   "metadata": {},
   "outputs": [],
   "source": [
    "%%time\n",
    "# make predictions\n",
    "expected = y_Test\n",
    "predicted = model2.predict(X_Test)\n",
    "# summarize the fit of the model\n",
    "print(\"****************-----TEST---*******************\")\n",
    "print(\"********************DECISION TREE *******************\")\n",
    "print(classification_report(expected,predicted))\n",
    "print(metrics.accuracy_score(expected,predicted))\n",
    "\n",
    "original_stdout = sys.stdout # Save a reference to the original standard output\n",
    "\n",
    "with open('resultadoTEST_DecisionTreeClassifier.txt', 'w') as f:\n",
    "    sys.stdout = f # Change the standard output to the file we created.\n",
    "    print(classification_report(expected,predicted))\n",
    "    sys.stdout = original_stdout # Reset the standard output to its original value\n",
    "\n"
   ]
  },
  {
   "cell_type": "code",
   "execution_count": 15,
   "metadata": {},
   "outputs": [
    {
     "name": "stderr",
     "output_type": "stream",
     "text": [
      "/usr/local/lib/python3.6/dist-packages/sklearn/utils/validation.py:63: DataConversionWarning: A column-vector y was passed when a 1d array was expected. Please change the shape of y to (n_samples, ), for example using ravel().\n",
      "  return f(*args, **kwargs)\n"
     ]
    },
    {
     "name": "stdout",
     "output_type": "stream",
     "text": [
      "**********************---VALIDATION---************************\n",
      "********************ADA BOOST*******************\n"
     ]
    },
    {
     "name": "stderr",
     "output_type": "stream",
     "text": [
      "/usr/local/lib/python3.6/dist-packages/sklearn/metrics/_classification.py:1245: UndefinedMetricWarning: Precision and F-score are ill-defined and being set to 0.0 in labels with no predicted samples. Use `zero_division` parameter to control this behavior.\n",
      "  _warn_prf(average, modifier, msg_start, len(result))\n",
      "/usr/local/lib/python3.6/dist-packages/sklearn/metrics/_classification.py:1245: UndefinedMetricWarning: Precision and F-score are ill-defined and being set to 0.0 in labels with no predicted samples. Use `zero_division` parameter to control this behavior.\n",
      "  _warn_prf(average, modifier, msg_start, len(result))\n",
      "/usr/local/lib/python3.6/dist-packages/sklearn/metrics/_classification.py:1245: UndefinedMetricWarning: Precision and F-score are ill-defined and being set to 0.0 in labels with no predicted samples. Use `zero_division` parameter to control this behavior.\n",
      "  _warn_prf(average, modifier, msg_start, len(result))\n"
     ]
    },
    {
     "name": "stdout",
     "output_type": "stream",
     "text": [
      "                          precision    recall  f1-score   support\n",
      "\n",
      "                  Benign       0.33      1.00      0.50    121193\n",
      "                     Bot       0.00      0.00      0.00     25810\n",
      "        Brute Force -Web       0.00      0.00      0.00        59\n",
      "        Brute Force -XSS       0.00      0.00      0.00        21\n",
      "        DDOS attack-HOIC       0.00      0.00      0.00     61498\n",
      "    DDOS attack-LOIC-UDP       0.71      1.00      0.83       152\n",
      "  DDoS attacks-LOIC-HTTP       0.00      0.00      0.00     51909\n",
      "   DoS attacks-GoldenEye       0.00      0.00      0.00      3841\n",
      "        DoS attacks-Hulk       0.00      0.00      0.00     41406\n",
      "DoS attacks-SlowHTTPTest       0.00      0.00      0.00     12659\n",
      "   DoS attacks-Slowloris       0.00      0.00      0.00      1039\n",
      "          FTP-BruteForce       0.00      0.00      0.00     17583\n",
      "           Infilteration       0.89      0.01      0.01     14531\n",
      "                   Label       0.00      0.00      0.00         3\n",
      "           SQL Injection       0.00      0.00      0.00         4\n",
      "          SSH-Bruteforce       0.00      0.00      0.00     17000\n",
      "\n",
      "                accuracy                           0.33    368708\n",
      "               macro avg       0.12      0.13      0.08    368708\n",
      "            weighted avg       0.14      0.33      0.16    368708\n",
      "\n",
      "0.32937175217245085\n",
      "CPU times: user 1h 20min 57s, sys: 57.5 s, total: 1h 21min 54s\n",
      "Wall time: 1h 30min 51s\n"
     ]
    }
   ],
   "source": [
    "%%time\n",
    "model5 = AdaBoostClassifier(n_estimators=100)\n",
    "model5.fit(X_smote, y_smote)\n",
    "# make predictions\n",
    "predicted = model5.predict(X_Val)\n",
    "expected = y_Val\n",
    "# summarize the fit of the model\n",
    "print(\"**********************---VALIDATION---************************\")\n",
    "print(\"********************ADA BOOST*******************\")\n",
    "print(classification_report(expected,predicted))\n",
    "print(metrics.accuracy_score(expected,predicted))\n",
    "\n",
    "original_stdout = sys.stdout # Save a reference to the original standard output\n",
    "\n",
    "with open('resultadoVAL_DecisionTreeClassifier.txt', 'w') as f:\n",
    "    sys.stdout = f # Change the standard output to the file we created.\n",
    "    print(classification_report(expected,predicted))\n",
    "    sys.stdout = original_stdout # Reset the standard output to its original value\n",
    "\n",
    "\n"
   ]
  },
  {
   "cell_type": "code",
   "execution_count": 16,
   "metadata": {},
   "outputs": [
    {
     "name": "stdout",
     "output_type": "stream",
     "text": [
      "**********************---TEST---************************\n",
      "********************ADA BOOST*******************\n"
     ]
    },
    {
     "name": "stderr",
     "output_type": "stream",
     "text": [
      "/usr/local/lib/python3.6/dist-packages/sklearn/metrics/_classification.py:1245: UndefinedMetricWarning: Precision and F-score are ill-defined and being set to 0.0 in labels with no predicted samples. Use `zero_division` parameter to control this behavior.\n",
      "  _warn_prf(average, modifier, msg_start, len(result))\n",
      "/usr/local/lib/python3.6/dist-packages/sklearn/metrics/_classification.py:1245: UndefinedMetricWarning: Precision and F-score are ill-defined and being set to 0.0 in labels with no predicted samples. Use `zero_division` parameter to control this behavior.\n",
      "  _warn_prf(average, modifier, msg_start, len(result))\n",
      "/usr/local/lib/python3.6/dist-packages/sklearn/metrics/_classification.py:1245: UndefinedMetricWarning: Precision and F-score are ill-defined and being set to 0.0 in labels with no predicted samples. Use `zero_division` parameter to control this behavior.\n",
      "  _warn_prf(average, modifier, msg_start, len(result))\n"
     ]
    },
    {
     "name": "stdout",
     "output_type": "stream",
     "text": [
      "                          precision    recall  f1-score   support\n",
      "\n",
      "                  Benign       0.33      1.00      0.50   1092698\n",
      "                     Bot       0.00      0.00      0.00    231692\n",
      "        Brute Force -Web       0.00      0.00      0.00       493\n",
      "        Brute Force -XSS       0.00      0.00      0.00       188\n",
      "        DDOS attack-HOIC       0.00      0.00      0.00    555555\n",
      "    DDOS attack-LOIC-UDP       0.67      1.00      0.80      1397\n",
      "  DDoS attacks-LOIC-HTTP       0.00      0.00      0.00    466470\n",
      "   DoS attacks-GoldenEye       0.00      0.00      0.00     33524\n",
      "        DoS attacks-Hulk       0.00      0.00      0.00    374394\n",
      "DoS attacks-SlowHTTPTest       0.00      0.00      0.00    113242\n",
      "   DoS attacks-Slowloris       0.00      0.00      0.00      8846\n",
      "          FTP-BruteForce       0.00      0.00      0.00    156352\n",
      "           Infilteration       0.86      0.01      0.02    131361\n",
      "                   Label       0.00      0.00      0.00        53\n",
      "           SQL Injection       0.00      0.00      0.00        77\n",
      "          SSH-Bruteforce       0.00      0.00      0.00    152027\n",
      "\n",
      "                accuracy                           0.33   3318369\n",
      "               macro avg       0.12      0.13      0.08   3318369\n",
      "            weighted avg       0.14      0.33      0.16   3318369\n",
      "\n",
      "0.32997144078913465\n"
     ]
    }
   ],
   "source": [
    "# make predictions\n",
    "predicted = model5.predict(X_Test)\n",
    "expected = y_Test\n",
    "# summarize the fit of the model\n",
    "print(\"**********************---TEST---************************\")\n",
    "print(\"********************ADA BOOST*******************\")\n",
    "print(classification_report(expected,predicted))\n",
    "print(metrics.accuracy_score(expected,predicted))"
   ]
  }
 ],
 "metadata": {
  "kernelspec": {
   "display_name": "Python 3",
   "language": "python",
   "name": "python3"
  },
  "language_info": {
   "codemirror_mode": {
    "name": "ipython",
    "version": 3
   },
   "file_extension": ".py",
   "mimetype": "text/x-python",
   "name": "python",
   "nbconvert_exporter": "python",
   "pygments_lexer": "ipython3",
   "version": "3.6.9"
  }
 },
 "nbformat": 4,
 "nbformat_minor": 2
}
