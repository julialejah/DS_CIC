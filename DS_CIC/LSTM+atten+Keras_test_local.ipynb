{
 "cells": [
  {
   "cell_type": "markdown",
   "metadata": {
    "id": "NXd0J45zmcOt"
   },
   "source": [
    "# LSTM + attention mechanism for classification with keras\n"
   ]
  },
  {
   "cell_type": "code",
   "execution_count": 1,
   "metadata": {
    "colab": {
     "base_uri": "https://localhost:8080/"
    },
    "id": "zkdavAqNmcO6",
    "outputId": "6bf161ac-3013-4f71-93c2-3445bc52c45c"
   },
   "outputs": [
    {
     "name": "stdout",
     "output_type": "stream",
     "text": [
      "2.2.0\n",
      "2.3.0-tf\n"
     ]
    }
   ],
   "source": [
    "import pandas as pd\n",
    "from csv import reader\n",
    "import numpy as np\n",
    "#from google.colab import drive\n",
    "#drive.mount('/content/gdrive')\n",
    "\n",
    "import tensorflow as tf\n",
    "\n",
    "from tensorflow.keras.models import Sequential\n",
    "from tensorflow.keras.layers import Dense\n",
    "from tensorflow.keras.utils import to_categorical\n",
    "from tensorflow.keras.layers import LSTM\n",
    "from tensorflow.keras.layers import Reshape\n",
    "from tensorflow.keras.layers import RepeatVector\n",
    "from sklearn.model_selection import train_test_split\n",
    "from imblearn.over_sampling import SMOTE\n",
    "from tensorflow.keras.optimizers import Adam\n",
    "\n",
    "\n",
    "\n",
    "import tensorflow.keras\n",
    "import tensorflow.keras.backend as K\n",
    "\n",
    "import matplotlib.pyplot as plot\n",
    "\n",
    "pd.set_option('display.max_columns', 50)\n",
    "from tensorflow.keras.layers import Layer\n",
    "\n",
    "import os\n",
    "os.environ['TF_FORCE_GPU_ALLOW_GROWTH'] = 'true'\n",
    "print(tf.__version__)\n",
    "import tensorflow.keras\n",
    "print(tensorflow.keras.__version__)\n"
   ]
  },
  {
   "cell_type": "code",
   "execution_count": 2,
   "metadata": {
    "id": "k3D3mPGSo1QF"
   },
   "outputs": [],
   "source": [
    "class attention(Layer):\n",
    "    def __init__(self,**kwargs):\n",
    "        super(attention,self).__init__(**kwargs)\n",
    "\n",
    "    def build(self,input_shape):\n",
    "        self.W=self.add_weight(name=\"att_weight\",shape=(input_shape[-1],1),initializer=\"normal\")\n",
    "        self.b=self.add_weight(name=\"att_bias\",shape=(input_shape[1],1),initializer=\"zeros\")        \n",
    "        super(attention, self).build(input_shape)\n",
    "\n",
    "    def call(self,x):\n",
    "        et=K.squeeze(K.tanh(K.dot(x,self.W)+self.b),axis=-1)\n",
    "        at=K.softmax(et)\n",
    "        at=K.expand_dims(at,axis=-1)\n",
    "        output=x*at\n",
    "        return K.sum(output,axis=1)\n",
    "\n",
    "    def compute_output_shape(self,input_shape):\n",
    "        return (input_shape[0],input_shape[-1])\n",
    "\n",
    "    def get_config(self):\n",
    "        return super(attention,self).get_config()"
   ]
  },
  {
   "cell_type": "code",
   "execution_count": 3,
   "metadata": {},
   "outputs": [
    {
     "name": "stderr",
     "output_type": "stream",
     "text": [
      "/usr/local/lib/python3.6/dist-packages/IPython/core/interactiveshell.py:3063: DtypeWarning: Columns (0,1,3,4,5,6,7,8,9,10,11,12,13,14,15,16,17,18,19,20,21,22,23,24,25,26,27,28,29,30,31,32,33,34,35,36,37,38,39,40,41,42,43,44,45,46,47,48,49,50,51,52,53,54,55,56,57,58,59,60,61,62,63,64,65,66,67,68,69,70,71,72,73,74,75,76,77,78) have mixed types.Specify dtype option on import or set low_memory=False.\n",
      "  interactivity=interactivity, compiler=compiler, result=result)\n"
     ]
    },
    {
     "name": "stdout",
     "output_type": "stream",
     "text": [
      "['Benign' 'Bot' 'DoS attacks-SlowHTTPTest' 'DoS attacks-Hulk' 'Label'\n",
      " 'Brute Force -Web' 'Brute Force -XSS' 'SQL Injection'\n",
      " 'DoS attacks-GoldenEye' 'DoS attacks-Slowloris' 'FTP-BruteForce'\n",
      " 'SSH-Bruteforce' 'DDOS attack-LOIC-UDP' 'DDOS attack-HOIC'\n",
      " 'Infilteration' 'DDoS attacks-LOIC-HTTP']\n",
      "(4096753, 80)\n",
      "True\n",
      "(4096753, 79)\n"
     ]
    },
    {
     "data": {
      "image/png": "[encoded data removed]",
      "text/plain": [
       "<Figure size 432x288 with 1 Axes>"
      ]
     },
     "metadata": {
      "needs_background": "light"
     },
     "output_type": "display_data"
    }
   ],
   "source": [
    "muestraDF=pd.read_csv(\"DF_undersample.csv\",sep=',')\n",
    "print (pd.unique(muestraDF.iloc[:,-1].squeeze()))\n",
    "print(muestraDF.shape)\n",
    "print(muestraDF.isna().values.any())\n",
    "muestraDF=muestraDF.drop(columns=[' Timestamp'],axis=1)\n",
    "print(muestraDF.shape)\n",
    "plot = muestraDF['Label'].value_counts().plot(kind='bar',\n",
    "                                            title='Clases de ataques')\n",
    "\n"
   ]
  },
  {
   "cell_type": "code",
   "execution_count": 5,
   "metadata": {},
   "outputs": [
    {
     "name": "stdout",
     "output_type": "stream",
     "text": [
      "(4096694, 79)\n",
      "['Benign' 'Bot' 'DoS attacks-SlowHTTPTest' 'DoS attacks-Hulk'\n",
      " 'Brute Force -Web' 'Brute Force -XSS' 'SQL Injection'\n",
      " 'DoS attacks-GoldenEye' 'DoS attacks-Slowloris' 'FTP-BruteForce'\n",
      " 'SSH-Bruteforce' 'DDOS attack-LOIC-UDP' 'DDOS attack-HOIC'\n",
      " 'Infilteration' 'DDoS attacks-LOIC-HTTP']\n",
      "False\n",
      "Dst Port            int64\n",
      " Protocol           int64\n",
      " Flow Duration      int64\n",
      " Tot Fwd Pkts       int64\n",
      " Tot Bwd Pkts       int64\n",
      "                   ...   \n",
      " Active Min       float64\n",
      "Idle Mean         float64\n",
      "Idle Std          float64\n",
      "Idle Max          float64\n",
      "Idle Min          float64\n",
      "Length: 78, dtype: object\n"
     ]
    },
    {
     "data": {
      "text/plain": [
       "Int64Index([     66,     105,     110,     116,   32494,   32513,   43093,\n",
       "              43128,   43137,   43138,\n",
       "            ...\n",
       "            4085176, 4085198, 4085904, 4087502, 4087517, 4087536, 4087881,\n",
       "            4089289, 4089296, 4089457],\n",
       "           dtype='int64', length=10561)"
      ]
     },
     "execution_count": 5,
     "metadata": {},
     "output_type": "execute_result"
    }
   ],
   "source": [
    "muestraDF.drop(muestraDF.loc[muestraDF['Label']=='Label'].index, inplace=True)\n",
    "print(muestraDF.shape)\n",
    "y=muestraDF.iloc[:,-1]\n",
    "print (pd.unique(y.squeeze()))\n",
    "X=muestraDF.iloc[:,0:78]\n",
    "X = X.replace([np.inf, -np.inf], np.nan)\n",
    "nom_cols=['Dst Port',' Protocol',' Flow Duration',' Tot Fwd Pkts',' Tot Bwd Pkts',' TotLen Fwd Pkts',' TotLen Bwd Pkts',' Fwd Pkt Len Max',' Fwd Pkt Len Min',' Fwd Pkt Len Mean',' Fwd Pkt Len Std',' Bwd Pkt Len Max',' Bwd Pkt Len Min',' Bwd Pkt Len Mean',' Bwd Pkt Len Std',' Flow Byts/s',' Flow Pkts/s',' Flow IAT Mean',' Flow IAT Std',' Flow IAT Max',' Flow IAT Min',' Fwd IAT Tot',' Fwd IAT Mean',' Fwd IAT Std',' Fwd IAT Max',' Fwd IAT Min',' Bwd IAT Tot',' Bwd IAT Mean',' Bwd IAT Std',' Bwd IAT Max',' Bwd IAT Min',' Fwd PSH Flags',' Bwd PSH Flags',' Fwd URG Flags',' Bwd URG Flags',' Fwd Header Len',' Bwd Header Len',' Fwd Pkts/s',' Bwd Pkts/s',' Pkt Len Min',' Pkt Len Max',' Pkt Len Mean',' Pkt Len Std',' Pkt Len Var',' FIN Flag Cnt',' SYN Flag Cnt',' RST Flag Cnt',' PSH Flag Cnt',' ACK Flag Cnt',' URG Flag Cnt',' CWE Flag Count',' ECE Flag Cnt',' Down/Up Ratio',' Pkt Size Avg',' Fwd Seg Size Avg',' Bwd Seg Size Avg',' Fwd Byts/b Avg',' Fwd Pkts/b Avg', 'Fwd Blk Rate Avg', 'Bwd Byts/b Avg',' Bwd Pkts/b Avg', 'Bwd Blk Rate Avg', 'Subflow Fwd Pkts', 'Subflow Fwd Byts',' Subflow Bwd Pkts', 'Subflow Bwd Byts', 'Init Fwd Win Byts', 'Init Bwd Win Byts', 'Fwd Act Data Pkts', 'Fwd Seg Size Min', 'Active Mean', 'Active Std', 'Active Max',' Active Min', 'Idle Mean', 'Idle Std', 'Idle Max','Idle Min']\n",
    "for i in nom_cols:\n",
    "    X[i]=pd.to_numeric(X[i], errors='coerce')\n",
    "    X[i] = X[i].fillna(X[i].mean())\n",
    "print(X.isna().values.any())\n",
    "print(X.dtypes)\n",
    "X.index[np.isinf(X).any(1)]"
   ]
  },
  {
   "cell_type": "code",
   "execution_count": 6,
   "metadata": {},
   "outputs": [
    {
     "name": "stdout",
     "output_type": "stream",
     "text": [
      "False\n"
     ]
    },
    {
     "data": {
      "text/plain": [
       "Int64Index([], dtype='int64')"
      ]
     },
     "execution_count": 6,
     "metadata": {},
     "output_type": "execute_result"
    }
   ],
   "source": [
    "X = X.replace([np.inf, -np.inf], np.nan)\n",
    "for i in nom_cols:\n",
    "    X[i]=pd.to_numeric(X[i], errors='coerce')\n",
    "    X[i] = X[i].fillna(X[i].mean())\n",
    "\n",
    "X.index[np.isinf(X).any(1)]\n",
    "print(X.isna().values.any())\n",
    "X.index[np.isinf(X).any(1)]\n"
   ]
  },
  {
   "cell_type": "code",
   "execution_count": 7,
   "metadata": {},
   "outputs": [
    {
     "name": "stdout",
     "output_type": "stream",
     "text": [
      "['Benign' 'Bot' 'DoS' 'Web_attack' 'Bruteforce' 'DDoS' 'Infilteration']\n",
      "Int64Index([], dtype='int64')\n",
      "False\n",
      "(4096694, 78)\n",
      "(4111766, 78)\n"
     ]
    },
    {
     "data": {
      "image/png": "[encoded data removed]",
      "text/plain": [
       "<Figure size 432x288 with 1 Axes>"
      ]
     },
     "metadata": {
      "needs_background": "light"
     },
     "output_type": "display_data"
    }
   ],
   "source": [
    "y=y.replace (['DDOS attack-LOIC-UDP', 'DDOS attack-HOIC','DDoS attacks-LOIC-HTTP'],'DDoS')\n",
    "y=y.replace (['Brute Force -Web', 'Brute Force -XSS', 'SQL Injection'],'Web_attack')\n",
    "y=y.replace (['FTP-BruteForce', 'SSH-Bruteforce'],'Bruteforce')\n",
    "y=y.replace (['DoS attacks-GoldenEye', 'DoS attacks-Slowloris', 'DoS attacks-SlowHTTPTest', 'DoS attacks-Hulk'],'DoS')\n",
    "\n",
    "plot = y.value_counts().plot(kind='bar',\n",
    "                                            title='Clases de ataques')\n",
    "\n",
    "\n",
    "feats = X.shape[1]\n",
    "print (pd.unique(y.squeeze()))\n",
    "print(X.index[np.isinf(X).any(1)])\n",
    "print(X.isna().values.any())\n",
    "print (X.shape)\n",
    "\n",
    "sm = SMOTE(sampling_strategy = {'Web_attack':16000})\n",
    "X_smote, y_smote = sm.fit_resample(X, y)\n",
    "print(X_smote.shape)\n"
   ]
  },
  {
   "cell_type": "code",
   "execution_count": 12,
   "metadata": {},
   "outputs": [
    {
     "name": "stdout",
     "output_type": "stream",
     "text": [
      "(5444225, 78)\n"
     ]
    },
    {
     "data": {
      "image/png": "[encoded data removed]",
      "text/plain": [
       "<Figure size 432x288 with 1 Axes>"
      ]
     },
     "metadata": {
      "needs_background": "light"
     },
     "output_type": "display_data"
    }
   ],
   "source": [
    "sm = SMOTE(sampling_strategy = 'minority')\n",
    "X_smote, y_smote = sm.fit_resample(X, y)\n",
    "print(X_smote.shape)\n",
    "plot = pd.DataFrame(data=y_smote).value_counts().plot(kind='bar',\n",
    "                                            title='Clases de ataques')"
   ]
  },
  {
   "cell_type": "code",
   "execution_count": 13,
   "metadata": {},
   "outputs": [
    {
     "name": "stdout",
     "output_type": "stream",
     "text": [
      "False\n",
      "False\n",
      "False\n"
     ]
    }
   ],
   "source": [
    "X_Train, X_2, y_Train, y_2= train_test_split(X, y, test_size=0.1, random_state=1)\n",
    "X_Test, X_Val, y_Test, y_Val = train_test_split(X_Train, y_Train, test_size=0.1, random_state=1) \n",
    "\n",
    "print(X_Train.isna().values.any())\n",
    "print(X_Test.isna().values.any())\n",
    "print(X_Val.isna().values.any())\n"
   ]
  },
  {
   "cell_type": "code",
   "execution_count": null,
   "metadata": {},
   "outputs": [],
   "source": [
    "\n",
    "#X_Val=pd.read_csv(\"X_Val.csv\",sep=',',dtype=np.float32)\n",
    "#y_Val=pd.read_csv(\"y_Val.csv\",sep=',')\n",
    "print (pd.unique(y_Val.squeeze()))\n",
    "print (y_Val.shape)\n",
    "print (X_Val.shape)\n",
    "cant_clases = pd.unique(y_Val.squeeze())\n",
    "\n",
    "print (cant_clases)"
   ]
  },
  {
   "cell_type": "code",
   "execution_count": 18,
   "metadata": {},
   "outputs": [],
   "source": [
    "cant_clases = pd.unique(y_Val.squeeze())\n"
   ]
  },
  {
   "cell_type": "code",
   "execution_count": 14,
   "metadata": {
    "colab": {
     "base_uri": "https://localhost:8080/"
    },
    "id": "uGv_16bBmcO-",
    "outputId": "bd7ec041-3156-4bf5-846f-fff02962e5bd"
   },
   "outputs": [
    {
     "name": "stdout",
     "output_type": "stream",
     "text": [
      "   0  1  2  3  4  5  6\n",
      "0  0  0  0  1  0  0  0\n",
      "1  1  0  0  0  0  0  0\n",
      "   0  1  2  3  4  5  6\n",
      "0  0  0  0  1  0  0  0\n",
      "1  0  0  0  1  0  0  0\n"
     ]
    }
   ],
   "source": [
    "from sklearn.preprocessing import LabelBinarizer\n",
    "encoder = LabelBinarizer()\n",
    "y_enco = encoder.fit_transform(y_Train)\n",
    "y_enc = pd.DataFrame(data=y_enco)\n",
    "print(y_enc.head(2))\n",
    "\n",
    "encoder = LabelBinarizer()\n",
    "y_Val_enco = encoder.fit_transform(y_Val)\n",
    "y_Val_enc = pd.DataFrame(data=y_Val_enco)\n",
    "print(y_Val_enc.head(2))"
   ]
  },
  {
   "cell_type": "code",
   "execution_count": 15,
   "metadata": {
    "id": "tb5vSYgk9Xsh"
   },
   "outputs": [],
   "source": [
    "from sklearn.preprocessing import MinMaxScaler\n",
    "scaler = MinMaxScaler()\n",
    "\n",
    "# Create minmax coef\n",
    "scaler = scaler.fit(X_Train)\n",
    "#print(' Min: %f, Max: %f ' % (scaler.data_min_, scaler.data_max_))\n",
    "# transform data\n",
    "#X.drop(X.tail(X.shape[0]%10).index,inplace=True)\n",
    "#X_Val.drop(X_Val.tail(X_Val.shape[0]%10).index,inplace=True)\n",
    "#print(X.shape)\n",
    "#print(X_Val.shape)\n",
    "\n",
    "\n",
    "scaled_X = scaler.transform(X_Train)\n",
    "scaled_X_Val = scaler.transform(X_Val)"
   ]
  },
  {
   "cell_type": "code",
   "execution_count": 16,
   "metadata": {
    "id": "FxGpOFcGmcPA"
   },
   "outputs": [],
   "source": [
    "def arch():\n",
    "    model = Sequential()\n",
    "    model.add(LSTM(256,input_shape=(1,78),activation='relu',return_sequences=True))\n",
    "    model.add(LSTM(256,activation='relu',return_sequences=True))\n",
    "    model.add(attention())\n",
    "    model.add(Dense(cant_clases.size))\n",
    "    model.add(Dense(20))\n",
    "    model.add(Dense(cant_clases.size*2))\n",
    "    model.add(Dense(cant_clases.size, activation='softmax'))\n",
    "    opt = Adam(learning_rate=0.00005)\n",
    "    model.compile(optimizer=opt, loss='categorical_crossentropy', metrics=['accuracy'],)\n",
    "    return model"
   ]
  },
  {
   "cell_type": "code",
   "execution_count": 19,
   "metadata": {
    "colab": {
     "base_uri": "https://localhost:8080/"
    },
    "id": "4WgnYj51pzS3",
    "outputId": "84313fb8-0b0a-4f2d-eecd-3729cbdb8d98"
   },
   "outputs": [
    {
     "name": "stdout",
     "output_type": "stream",
     "text": [
      "WARNING:tensorflow:Layer lstm_2 will not use cuDNN kernel since it doesn't meet the cuDNN kernel criteria. It will use generic GPU kernel as fallback when running on GPU\n",
      "WARNING:tensorflow:Layer lstm_3 will not use cuDNN kernel since it doesn't meet the cuDNN kernel criteria. It will use generic GPU kernel as fallback when running on GPU\n",
      "Model: \"sequential_1\"\n",
      "_________________________________________________________________\n",
      "Layer (type)                 Output Shape              Param #   \n",
      "=================================================================\n",
      "lstm_2 (LSTM)                (None, 1, 256)            343040    \n",
      "_________________________________________________________________\n",
      "lstm_3 (LSTM)                (None, 1, 256)            525312    \n",
      "_________________________________________________________________\n",
      "attention_1 (attention)      (None, 256)               257       \n",
      "_________________________________________________________________\n",
      "dense (Dense)                (None, 7)                 1799      \n",
      "_________________________________________________________________\n",
      "dense_1 (Dense)              (None, 20)                160       \n",
      "_________________________________________________________________\n",
      "dense_2 (Dense)              (None, 14)                294       \n",
      "_________________________________________________________________\n",
      "dense_3 (Dense)              (None, 7)                 105       \n",
      "=================================================================\n",
      "Total params: 870,967\n",
      "Trainable params: 870,967\n",
      "Non-trainable params: 0\n",
      "_________________________________________________________________\n"
     ]
    }
   ],
   "source": [
    "model = arch()\n",
    "model.summary()"
   ]
  },
  {
   "cell_type": "code",
   "execution_count": 20,
   "metadata": {
    "colab": {
     "base_uri": "https://localhost:8080/"
    },
    "id": "MU7QP4IGToOh",
    "outputId": "2c8848c5-ec80-4ecc-f61e-68e8cf5b7f56"
   },
   "outputs": [
    {
     "name": "stdout",
     "output_type": "stream",
     "text": [
      "(3687024, 1, 78)\n",
      "(368703, 1, 78)\n"
     ]
    }
   ],
   "source": [
    "X=scaled_X.reshape((scaled_X.shape[0], 1, scaled_X.shape[1]))\n",
    "print(X.shape)\n",
    "X_t=scaled_X_Val.reshape((scaled_X_Val.shape[0], 1, scaled_X_Val.shape[1]))\n",
    "print(X_t.shape)\n"
   ]
  },
  {
   "cell_type": "code",
   "execution_count": null,
   "metadata": {
    "colab": {
     "base_uri": "https://localhost:8080/"
    },
    "id": "GhyqGXmEgoki",
    "outputId": "55fa953a-b0f5-46be-b887-8b4b4d7a8713"
   },
   "outputs": [
    {
     "name": "stdout",
     "output_type": "stream",
     "text": [
      "Epoch 1/70\n",
      "28805/28805 - 326s - loss: 0.2643 - accuracy: 0.9052 - val_loss: 0.1674 - val_accuracy: 0.9364\n",
      "Epoch 2/70\n",
      "28805/28805 - 328s - loss: 0.1622 - accuracy: 0.9370 - val_loss: 0.1590 - val_accuracy: 0.9387\n",
      "Epoch 3/70\n",
      "28805/28805 - 327s - loss: 0.1562 - accuracy: 0.9395 - val_loss: 0.1541 - val_accuracy: 0.9405\n",
      "Epoch 4/70\n",
      "28805/28805 - 327s - loss: 0.1533 - accuracy: 0.9403 - val_loss: 0.1541 - val_accuracy: 0.9403\n",
      "Epoch 5/70\n",
      "28805/28805 - 328s - loss: 0.1516 - accuracy: 0.9407 - val_loss: 0.1532 - val_accuracy: 0.9408\n",
      "Epoch 6/70\n",
      "28805/28805 - 327s - loss: 0.1503 - accuracy: 0.9411 - val_loss: 0.1504 - val_accuracy: 0.9407\n",
      "Epoch 7/70\n",
      "28805/28805 - 326s - loss: 0.1493 - accuracy: 0.9414 - val_loss: 0.1495 - val_accuracy: 0.9413\n",
      "Epoch 8/70\n",
      "28805/28805 - 327s - loss: 0.1485 - accuracy: 0.9417 - val_loss: 0.1497 - val_accuracy: 0.9413\n",
      "Epoch 9/70\n",
      "28805/28805 - 327s - loss: 0.1478 - accuracy: 0.9419 - val_loss: 0.1478 - val_accuracy: 0.9416\n",
      "Epoch 10/70\n",
      "28805/28805 - 327s - loss: 0.1472 - accuracy: 0.9421 - val_loss: 0.1476 - val_accuracy: 0.9416\n",
      "Epoch 11/70\n",
      "28805/28805 - 327s - loss: 0.1468 - accuracy: 0.9422 - val_loss: 0.1467 - val_accuracy: 0.9416\n",
      "Epoch 12/70\n",
      "28805/28805 - 327s - loss: 0.1463 - accuracy: 0.9424 - val_loss: 0.1466 - val_accuracy: 0.9420\n",
      "Epoch 13/70\n",
      "28805/28805 - 327s - loss: 0.1460 - accuracy: 0.9424 - val_loss: 0.1473 - val_accuracy: 0.9417\n",
      "Epoch 14/70\n",
      "28805/28805 - 326s - loss: 0.1457 - accuracy: 0.9426 - val_loss: 0.1465 - val_accuracy: 0.9367\n",
      "Epoch 15/70\n",
      "28805/28805 - 327s - loss: 0.1454 - accuracy: 0.9426 - val_loss: 0.1469 - val_accuracy: 0.9423\n",
      "Epoch 16/70\n",
      "28805/28805 - 327s - loss: 0.1452 - accuracy: 0.9427 - val_loss: 0.1463 - val_accuracy: 0.9423\n",
      "Epoch 17/70\n",
      "28805/28805 - 327s - loss: 0.1450 - accuracy: 0.9428 - val_loss: 0.1456 - val_accuracy: 0.9435\n",
      "Epoch 18/70\n",
      "28805/28805 - 327s - loss: 0.1448 - accuracy: 0.9429 - val_loss: 0.1453 - val_accuracy: 0.9423\n",
      "Epoch 19/70\n",
      "28805/28805 - 327s - loss: 0.1446 - accuracy: 0.9429 - val_loss: 0.1456 - val_accuracy: 0.9421\n",
      "Epoch 20/70\n",
      "28805/28805 - 327s - loss: 0.1444 - accuracy: 0.9430 - val_loss: 0.1448 - val_accuracy: 0.9429\n",
      "Epoch 21/70\n",
      "28805/28805 - 327s - loss: 0.1442 - accuracy: 0.9431 - val_loss: 0.1465 - val_accuracy: 0.9435\n",
      "Epoch 22/70\n",
      "28805/28805 - 327s - loss: 0.1440 - accuracy: 0.9431 - val_loss: 0.1445 - val_accuracy: 0.9432\n",
      "Epoch 23/70\n",
      "28805/28805 - 327s - loss: 0.1439 - accuracy: 0.9432 - val_loss: 0.1457 - val_accuracy: 0.9421\n",
      "Epoch 24/70\n",
      "28805/28805 - 327s - loss: 0.1437 - accuracy: 0.9433 - val_loss: 0.1440 - val_accuracy: 0.9422\n",
      "Epoch 25/70\n",
      "28805/28805 - 326s - loss: 0.1435 - accuracy: 0.9433 - val_loss: 0.1436 - val_accuracy: 0.9430\n",
      "Epoch 26/70\n",
      "28805/28805 - 326s - loss: 0.1434 - accuracy: 0.9434 - val_loss: 0.1439 - val_accuracy: 0.9437\n",
      "Epoch 27/70\n",
      "28805/28805 - 326s - loss: 0.1432 - accuracy: 0.9434 - val_loss: 0.1436 - val_accuracy: 0.9437\n",
      "Epoch 28/70\n",
      "28805/28805 - 326s - loss: 0.1430 - accuracy: 0.9435 - val_loss: 0.1441 - val_accuracy: 0.9439\n",
      "Epoch 29/70\n"
     ]
    }
   ],
   "source": [
    "his=model.fit(X, y_enc, validation_data=(X_t, y_Val_enc), epochs=70, verbose=2,batch_size=128)\n",
    " #especificar batch con batch_input_shape (batch,features,?)"
   ]
  },
  {
   "cell_type": "code",
   "execution_count": null,
   "metadata": {
    "colab": {
     "background_save": true
    },
    "id": "n355YcClAOEN"
   },
   "outputs": [],
   "source": [
    "model.save('2LSTM_ATT_3Dense_21jul2021.h5')"
   ]
  },
  {
   "cell_type": "code",
   "execution_count": null,
   "metadata": {
    "colab": {
     "background_save": true
    },
    "id": "GuOWBxKdK3ZE",
    "outputId": "8b4e256a-dc37-4ffa-98ee-b77df4d5964d"
   },
   "outputs": [],
   "source": [
    "import matplotlib.pyplot as plt\n",
    "\n",
    "\n",
    "plt.plot(his.history['loss' ])\n",
    "plt.plot(his.history[ 'val_loss' ])\n",
    "plt.title( 'model train vs validation loss' )\n",
    "plt.ylabel( 'loss' )\n",
    "plt.xlabel( 'epoch' )\n",
    "plt.legend([ 'train' ,  'validation' ], loc= 'upper_right' )\n",
    "plt.show()\n",
    "\n",
    "plt.plot(his.history['accuracy' ])\n",
    "plt.plot(his.history[ 'val_accuracy' ])\n",
    "plt.title( 'model train vs validation accuracy' )\n",
    "plt.ylabel( 'accuracy' )\n",
    "plt.xlabel( 'epoch' )\n",
    "plt.legend([ 'train' ,  'validation' ], loc= 'upper_right' )\n",
    "plt.show()"
   ]
  },
  {
   "cell_type": "code",
   "execution_count": null,
   "metadata": {
    "colab": {
     "background_save": true
    },
    "id": "m_DgxS5OrdX_",
    "outputId": "d3c7f7da-9101-467a-d9b8-4e1b8e9cc4c9"
   },
   "outputs": [],
   "source": [
    "#https://machinelearningmastery.com/how-to-calculate-precision-recall-f1-and-more-for-deep-learning-models/\n",
    "from sklearn.metrics import recall_score\n",
    "from sklearn.metrics import accuracy_score\n",
    "from sklearn.metrics import precision_score\n",
    "from sklearn.metrics import recall_score\n",
    "from sklearn.metrics import f1_score\n",
    "\n",
    "# predict probabilities for test set\n",
    "yhat_probs = model.predict(X_t, verbose=0)\n",
    "# predict crisp classes for test set\n",
    "yhat_classes = model.predict_classes(X_t, verbose=0)\n",
    "\n",
    "yhat_probs = yhat_probs[:, 0]\n",
    "#yhat_classes = yhat_classes[:, 0]\n",
    "\n",
    "# accuracy: (tp + tn) / (p + n)\n",
    "accuracy = accuracy_score(y_Val, yhat_classes)\n",
    "print('Accuracy: %f' % accuracy)\n",
    "# precision tp / (tp + fp)\n",
    "precision = precision_score(y_Val, yhat_classes)\n",
    "print('Precision: %f' % precision)\n",
    "# recall: tp / (tp + fn)\n",
    "recall = recall_score(y_Val, yhat_classes)\n",
    "print('Recall: %f' % recall)\n",
    "# f1: 2 tp / (2 tp + fp + fn)\n",
    "f1 = f1_score(y_Val, yhat_classes)\n",
    "print('F1 score: %f' % f1)"
   ]
  }
 ],
 "metadata": {
  "accelerator": "GPU",
  "colab": {
   "collapsed_sections": [],
   "name": "LSTM+atten+Keras_test.ipynb",
   "provenance": []
  },
  "kernelspec": {
   "display_name": "Python 3",
   "language": "python",
   "name": "python3"
  },
  "language_info": {
   "codemirror_mode": {
    "name": "ipython",
    "version": 3
   },
   "file_extension": ".py",
   "mimetype": "text/x-python",
   "name": "python",
   "nbconvert_exporter": "python",
   "pygments_lexer": "ipython3",
   "version": "3.6.9"
  }
 },
 "nbformat": 4,
 "nbformat_minor": 1
}
