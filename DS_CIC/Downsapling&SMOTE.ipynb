{
  "nbformat": 4,
  "nbformat_minor": 0,
  "metadata": {
    "colab": {
      "name": "Downsapling&SMOTE.ipynb",
      "provenance": [],
      "collapsed_sections": [],
      "authorship_tag": "ABX9TyM95sbUa1rfT3N+KigKx866",
      "include_colab_link": true
    },
    "kernelspec": {
      "name": "python3",
      "display_name": "Python 3"
    }
  },
  "cells": [
    {
      "cell_type": "markdown",
      "metadata": {
        "id": "view-in-github",
        "colab_type": "text"
      },
      "source": [
        "<a href=\"https://colab.research.google.com/github/julialejah/DS_CIC/blob/main/Downsapling%26SMOTE.ipynb\" target=\"_parent\"><img src=\"https://colab.research.google.com/assets/colab-badge.svg\" alt=\"Open In Colab\"/></a>"
      ]
    },
    {
      "cell_type": "markdown",
      "metadata": {
        "id": "1yvh0_OPRdiB"
      },
      "source": [
        "#Importa  librerias y datos (selecciona una muestra)"
      ]
    },
    {
      "cell_type": "code",
      "metadata": {
        "id": "yTM0dKmvp1sY",
        "colab": {
          "base_uri": "https://localhost:8080/"
        },
        "outputId": "1310c629-2df1-4715-c440-c1c855055854"
      },
      "source": [
        "import pandas as pd\n",
        "from google.colab import drive\n",
        "from csv import reader\n",
        "drive.mount('/content/gdrive')\n",
        "pd.set_option('display.max_columns', 50)\n",
        "import numpy as np\n",
        "from imblearn.over_sampling import SMOTE\n",
        "\n",
        "\n",
        "categ_list = ['Benign', 'Infilteration', 'DDOS attack-LOIC-UDP', 'DDOS attack-HOIC', 'FTP-BruteForce', 'SSH-Bruteforce', 'Brute Force -Web', 'Brute Force -XSS', 'SQL Injection', 'DoS attacks-GoldenEye', 'DoS attacks-Slowloris', 'DoS attacks-SlowHTTPTest', 'DoS attacks-Hulk', 'Bot', 'DDoS attacks-LOIC-HTTP']\n",
        "cont_cat=[13484708, 161934, 1730, 686012, 193360, 187589, 611, 230, 87, 41508, 10990, 139890, 461912, 286191, 576191]\n",
        "proporcion_categ = [30,3,1,14,4,4,1,1,1,1,2,2,9,6,11] \n",
        " \n",
        "#154997\t1861\t20\t7885\t2223\t2156\t7\t3\t1\t477\t126\t1608\t5309\t3290\t6623\n",
        "proporcion_cont = [1] * 15\n",
        "muestraDF = pd.DataFrame (columns=['Dst Port',' Protocol',' Timestamp',' Flow Duration',' Tot Fwd Pkts',' Tot Bwd Pkts',' TotLen Fwd Pkts',' TotLen Bwd Pkts',' Fwd Pkt Len Max',' Fwd Pkt Len Min',' Fwd Pkt Len Mean',' Fwd Pkt Len Std',' Bwd Pkt Len Max',' Bwd Pkt Len Min',' Bwd Pkt Len Mean',' Bwd Pkt Len Std',' Flow Byts/s',' Flow Pkts/s',' Flow IAT Mean',' Flow IAT Std',' Flow IAT Max',' Flow IAT Min',' Fwd IAT Tot',' Fwd IAT Mean',' Fwd IAT Std',' Fwd IAT Max',' Fwd IAT Min',' Bwd IAT Tot',' Bwd IAT Mean',' Bwd IAT Std',' Bwd IAT Max',' Bwd IAT Min',' Fwd PSH Flags',' Bwd PSH Flags',' Fwd URG Flags',' Bwd URG Flags',' Fwd Header Len',' Bwd Header Len',' Fwd Pkts/s',' Bwd Pkts/s',' Pkt Len Min',' Pkt Len Max',' Pkt Len Mean',' Pkt Len Std',' Pkt Len Var',' FIN Flag Cnt',' SYN Flag Cnt',' RST Flag Cnt',' PSH Flag Cnt',' ACK Flag Cnt',' URG Flag Cnt',' CWE Flag Count',' ECE Flag Cnt',' Down/Up Ratio',' Pkt Size Avg',' Fwd Seg Size Avg',' Bwd Seg Size Avg',' Fwd Byts/b Avg',' Fwd Pkts/b Avg', 'Fwd Blk Rate Avg', 'Bwd Byts/b Avg',' Bwd Pkts/b Avg', 'Bwd Blk Rate Avg', 'Subflow Fwd Pkts', 'Subflow Fwd Byts',' Subflow Bwd Pkts', 'Subflow Bwd Byts', 'Init Fwd Win Byts', 'Init Bwd Win Byts', 'Fwd Act Data Pkts', 'Fwd Seg Size Min', 'Active Mean', 'Active Std', 'Active Max',' Active Min', 'Idle Mean', 'Idle Std', 'Idle Max', 'Idle Min', 'Label']);\n",
        "muestra = []\n",
        "#print(muestra.shape)\n",
        "print(muestra)\n",
        "#file_list = ['Thursday-01-03-2018_TrafficForML_CICFlowMeter','Wednesday-28-02-2018_TrafficForML_CICFlowMeter']\n",
        "\n",
        "file_list = ['Friday-02-03-2018_TrafficForML_CICFlowMeter','Friday-16-02-2018_TrafficForML_CICFlowMeter',\n",
        "             'Friday-23-02-2018_TrafficForML_CICFlowMeter','Thursday-15-02-2018_TrafficForML_CICFlowMeter','Thursday-22-02-2018_TrafficForML_CICFlowMeter',\n",
        "             'Wednesday-14-02-2018_TrafficForML_CICFlowMeter','Wednesday-21-02-2018_TrafficForML_CICFlowMeter','Wednesday-28-02-2018_TrafficForML_CICFlowMeter',\n",
        "             'Thursday-01-03-2018_TrafficForML_CICFlowMeter','Tuesday-20-02-2018_TrafficForML_CICFlowMeter']\n",
        "\n",
        "for i in file_list:\n",
        "    print(\"file: \"+i)\n",
        "    with open('gdrive/My Drive/Doctorado/IDS data/'+i+'.csv', 'r') as read_obj: \n",
        "        csv_reader = reader(read_obj)\n",
        "        header = next(csv_reader)\n",
        "        if header != None:\n",
        "            # Iterate over each row after the header in the csv\n",
        "            for row in csv_reader:\n",
        "                if row [-1] == 'SQL Injection' or row [-1] == 'Brute Force -Web' or row [-1] == 'Brute Force -XSS' :\n",
        "                    muestra.append(row)\n",
        "                elif row [-1] != 'Label' and proporcion_cont[categ_list.index(row [-1])] == 1:\n",
        "                    if i == 'Tuesday-20-02-2018_TrafficForML_CICFlowMeter':\n",
        "                        muestra.append(row[4:84])\n",
        "                    else:\n",
        "                        muestra.append(row)\n",
        "                    proporcion_cont[categ_list.index(row [-1])] = proporcion_categ[categ_list.index(row [-1])]+1\n",
        "                elif row [-1] != 'Label':\n",
        "                    proporcion_cont[categ_list.index(row [-1])] = proporcion_cont[categ_list.index(row [-1])]-1;  \n",
        "\n",
        "\n",
        "muestraDF = pd.DataFrame (data=muestra,columns=['Dst Port',' Protocol',' Timestamp',' Flow Duration',' Tot Fwd Pkts',' Tot Bwd Pkts',' TotLen Fwd Pkts',' TotLen Bwd Pkts',' Fwd Pkt Len Max',' Fwd Pkt Len Min',' Fwd Pkt Len Mean',' Fwd Pkt Len Std',' Bwd Pkt Len Max',' Bwd Pkt Len Min',' Bwd Pkt Len Mean',' Bwd Pkt Len Std',' Flow Byts/s',' Flow Pkts/s',' Flow IAT Mean',' Flow IAT Std',' Flow IAT Max',' Flow IAT Min',' Fwd IAT Tot',' Fwd IAT Mean',' Fwd IAT Std',' Fwd IAT Max',' Fwd IAT Min',' Bwd IAT Tot',' Bwd IAT Mean',' Bwd IAT Std',' Bwd IAT Max',' Bwd IAT Min',' Fwd PSH Flags',' Bwd PSH Flags',' Fwd URG Flags',' Bwd URG Flags',' Fwd Header Len',' Bwd Header Len',' Fwd Pkts/s',' Bwd Pkts/s',' Pkt Len Min',' Pkt Len Max',' Pkt Len Mean',' Pkt Len Std',' Pkt Len Var',' FIN Flag Cnt',' SYN Flag Cnt',' RST Flag Cnt',' PSH Flag Cnt',' ACK Flag Cnt',' URG Flag Cnt',' CWE Flag Count',' ECE Flag Cnt',' Down/Up Ratio',' Pkt Size Avg',' Fwd Seg Size Avg',' Bwd Seg Size Avg',' Fwd Byts/b Avg',' Fwd Pkts/b Avg', 'Fwd Blk Rate Avg', 'Bwd Byts/b Avg',' Bwd Pkts/b Avg', 'Bwd Blk Rate Avg', 'Subflow Fwd Pkts', 'Subflow Fwd Byts',' Subflow Bwd Pkts', 'Subflow Bwd Byts', 'Init Fwd Win Byts', 'Init Bwd Win Byts', 'Fwd Act Data Pkts', 'Fwd Seg Size Min', 'Active Mean', 'Active Std', 'Active Max',' Active Min', 'Idle Mean', 'Idle Std', 'Idle Max', 'Idle Min', 'Label']);\n",
        "print(muestraDF.shape)\n"
      ],
      "execution_count": null,
      "outputs": [
        {
          "output_type": "stream",
          "text": [
            "Mounted at /content/gdrive\n"
          ],
          "name": "stdout"
        },
        {
          "output_type": "stream",
          "text": [
            "/usr/local/lib/python3.7/dist-packages/sklearn/externals/six.py:31: FutureWarning: The module is deprecated in version 0.21 and will be removed in version 0.23 since we've dropped support for Python 2.7. Please rely on the official version of six (https://pypi.org/project/six/).\n",
            "  \"(https://pypi.org/project/six/).\", FutureWarning)\n",
            "/usr/local/lib/python3.7/dist-packages/sklearn/utils/deprecation.py:144: FutureWarning: The sklearn.neighbors.base module is  deprecated in version 0.22 and will be removed in version 0.24. The corresponding classes / functions should instead be imported from sklearn.neighbors. Anything that cannot be imported from sklearn.neighbors is now part of the private API.\n",
            "  warnings.warn(message, FutureWarning)\n"
          ],
          "name": "stderr"
        },
        {
          "output_type": "stream",
          "text": [
            "[]\n",
            "file: Friday-02-03-2018_TrafficForML_CICFlowMeter\n",
            "file: Friday-16-02-2018_TrafficForML_CICFlowMeter\n",
            "file: Friday-23-02-2018_TrafficForML_CICFlowMeter\n",
            "file: Thursday-15-02-2018_TrafficForML_CICFlowMeter\n",
            "file: Thursday-22-02-2018_TrafficForML_CICFlowMeter\n",
            "file: Wednesday-14-02-2018_TrafficForML_CICFlowMeter\n",
            "file: Wednesday-21-02-2018_TrafficForML_CICFlowMeter\n",
            "file: Wednesday-28-02-2018_TrafficForML_CICFlowMeter\n",
            "file: Thursday-01-03-2018_TrafficForML_CICFlowMeter\n",
            "file: Tuesday-20-02-2018_TrafficForML_CICFlowMeter\n",
            "(805334, 80)\n"
          ],
          "name": "stdout"
        }
      ]
    },
    {
      "cell_type": "markdown",
      "metadata": {
        "id": "VQ8YsqWpyi-O"
      },
      "source": [
        "#Adapta los datos"
      ]
    },
    {
      "cell_type": "code",
      "metadata": {
        "id": "zRBZ4SajRZsp",
        "colab": {
          "base_uri": "https://localhost:8080/"
        },
        "outputId": "193e6f7f-5f80-41b2-f28b-e056e13d2bd8"
      },
      "source": [
        "muestraDF=muestraDF.drop(columns=[' Timestamp'])\n",
        "nom_cols=['Dst Port',' Protocol',' Flow Duration',' Tot Fwd Pkts',' Tot Bwd Pkts',' TotLen Fwd Pkts',' TotLen Bwd Pkts',' Fwd Pkt Len Max',' Fwd Pkt Len Min',' Fwd Pkt Len Mean',' Fwd Pkt Len Std',' Bwd Pkt Len Max',' Bwd Pkt Len Min',' Bwd Pkt Len Mean',' Bwd Pkt Len Std',' Flow Byts/s',' Flow Pkts/s',' Flow IAT Mean',' Flow IAT Std',' Flow IAT Max',' Flow IAT Min',' Fwd IAT Tot',' Fwd IAT Mean',' Fwd IAT Std',' Fwd IAT Max',' Fwd IAT Min',' Bwd IAT Tot',' Bwd IAT Mean',' Bwd IAT Std',' Bwd IAT Max',' Bwd IAT Min',' Fwd PSH Flags',' Bwd PSH Flags',' Fwd URG Flags',' Bwd URG Flags',' Fwd Header Len',' Bwd Header Len',' Fwd Pkts/s',' Bwd Pkts/s',' Pkt Len Min',' Pkt Len Max',' Pkt Len Mean',' Pkt Len Std',' Pkt Len Var',' FIN Flag Cnt',' SYN Flag Cnt',' RST Flag Cnt',' PSH Flag Cnt',' ACK Flag Cnt',' URG Flag Cnt',' CWE Flag Count',' ECE Flag Cnt',' Down/Up Ratio',' Pkt Size Avg',' Fwd Seg Size Avg',' Bwd Seg Size Avg',' Fwd Byts/b Avg',' Fwd Pkts/b Avg', 'Fwd Blk Rate Avg', 'Bwd Byts/b Avg',' Bwd Pkts/b Avg', 'Bwd Blk Rate Avg', 'Subflow Fwd Pkts', 'Subflow Fwd Byts',' Subflow Bwd Pkts', 'Subflow Bwd Byts', 'Init Fwd Win Byts', 'Init Bwd Win Byts', 'Fwd Act Data Pkts', 'Fwd Seg Size Min', 'Active Mean', 'Active Std', 'Active Max',' Active Min', 'Idle Mean', 'Idle Std', 'Idle Max', 'Idle Min']\n",
        "y=muestraDF.iloc[:,-1]\n",
        "X=muestraDF.iloc[:,0:78]\n",
        "\n",
        "print(X.isna().values.any())\n"
      ],
      "execution_count": null,
      "outputs": [
        {
          "output_type": "stream",
          "text": [
            "False\n"
          ],
          "name": "stdout"
        }
      ]
    },
    {
      "cell_type": "code",
      "metadata": {
        "id": "E3exwQGaLgGU",
        "colab": {
          "base_uri": "https://localhost:8080/",
          "height": 420
        },
        "outputId": "497d4134-c438-4c54-e572-5a5fb6e1d322"
      },
      "source": [
        "print(X.shape)\n",
        "plot = muestraDF['Label'].value_counts().plot(kind='bar',\n",
        "                                            title='Clases de ataques')\n"
      ],
      "execution_count": null,
      "outputs": [
        {
          "output_type": "stream",
          "text": [
            "(805334, 78)\n"
          ],
          "name": "stdout"
        },
        {
          "output_type": "display_data",
          "data": {
            "image/png": "[encoded data removed]",
            "text/plain": [
              "<Figure size 432x288 with 1 Axes>"
            ]
          },
          "metadata": {
            "tags": [],
            "needs_background": "light"
          }
        }
      ]
    },
    {
      "cell_type": "code",
      "metadata": {
        "colab": {
          "base_uri": "https://localhost:8080/",
          "height": 329
        },
        "id": "Snei3CaHxOhr",
        "outputId": "81375260-202d-4750-d878-edec0e39f67b"
      },
      "source": [
        "y=y.replace (['DDOS attack-LOIC-UDP', 'DDOS attack-HOIC','DDoS attacks-LOIC-HTTP'],'DDoS')\n",
        "y=y.replace (['Brute Force -Web', 'Brute Force -XSS', 'SQL Injection'],'Web_attack')\n",
        "y=y.replace (['FTP-BruteForce', 'SSH-Bruteforce'],'Bruteforce')\n",
        "y=y.replace (['DoS attacks-GoldenEye', 'DoS attacks-Slowloris', 'DoS attacks-SlowHTTPTest', 'DoS attacks-Hulk'],'DoS')\n",
        "\n",
        "plot = y.value_counts().plot(kind='bar',\n",
        "                                            title='Clases de ataques')\n"
      ],
      "execution_count": null,
      "outputs": [
        {
          "output_type": "display_data",
          "data": {
            "image/png": "[encoded data removed]",
            "text/plain": [
              "<Figure size 432x288 with 1 Axes>"
            ]
          },
          "metadata": {
            "tags": [],
            "needs_background": "light"
          }
        }
      ]
    },
    {
      "cell_type": "code",
      "metadata": {
        "id": "E1_x5wU3p0Yp",
        "colab": {
          "base_uri": "https://localhost:8080/"
        },
        "outputId": "7546d466-8ff6-4f0b-e188-0b9ed2211867"
      },
      "source": [
        "print(X.isna().values.any())"
      ],
      "execution_count": null,
      "outputs": [
        {
          "output_type": "stream",
          "text": [
            "False\n"
          ],
          "name": "stdout"
        }
      ]
    },
    {
      "cell_type": "code",
      "metadata": {
        "id": "j19w2xduLqnu",
        "colab": {
          "base_uri": "https://localhost:8080/"
        },
        "outputId": "06f9149a-c8e0-46a9-9cae-3719703a19ee"
      },
      "source": [
        "X = X.replace([np.inf, -np.inf], np.nan)\n",
        "print(X.isna().values.any())\n",
        "\n",
        "for i in nom_cols:\n",
        "    X[i]=pd.to_numeric(X[i], errors='coerce')\n",
        "\n",
        "print(X.isna().values.any())\n"
      ],
      "execution_count": null,
      "outputs": [
        {
          "output_type": "stream",
          "text": [
            "False\n",
            "True\n"
          ],
          "name": "stdout"
        }
      ]
    },
    {
      "cell_type": "code",
      "metadata": {
        "id": "zGLuSrtUHZf6",
        "colab": {
          "base_uri": "https://localhost:8080/"
        },
        "outputId": "24784f74-4aca-4bae-e270-4134ec926512"
      },
      "source": [
        "X = X.replace([np.inf, -np.inf], np.nan)\n",
        "print(X.isna().values.any())\n",
        "print(X.isnull().values.any())\n"
      ],
      "execution_count": null,
      "outputs": [
        {
          "output_type": "stream",
          "text": [
            "True\n",
            "True\n"
          ],
          "name": "stdout"
        }
      ]
    },
    {
      "cell_type": "code",
      "metadata": {
        "id": "SQlkrJ05Hicv",
        "colab": {
          "base_uri": "https://localhost:8080/"
        },
        "outputId": "65b118a4-5f1e-455c-8856-68e6157785ea"
      },
      "source": [
        "\n",
        "for i in nom_cols:\n",
        "    X[i]=pd.to_numeric(X[i], errors='coerce')\n",
        "    X[i]=pd.DataFrame(X[i]).fillna(X[i].mean())\n",
        "\n",
        "print(X.isna().values.any())\n",
        "\n",
        "from collections import Counter\n",
        "counter = Counter(y)\n",
        "print(counter)\n",
        "print(counter['Web_attack'])\n",
        "counter['Web_attack']=16000\n",
        "print(counter['Web_attack'])"
      ],
      "execution_count": null,
      "outputs": [
        {
          "output_type": "stream",
          "text": [
            "False\n",
            "Counter({'Benign': 434991, 'DoS': 117240, 'DDoS': 94616, 'Bruteforce': 76190, 'Bot': 40885, 'Infilteration': 40484, 'Web_attack': 928})\n",
            "928\n",
            "16000\n"
          ],
          "name": "stdout"
        }
      ]
    },
    {
      "cell_type": "markdown",
      "metadata": {
        "id": "navsV294Rbuz"
      },
      "source": [
        "#SMOTE"
      ]
    },
    {
      "cell_type": "code",
      "metadata": {
        "id": "w9r2YBroHkPv",
        "colab": {
          "base_uri": "https://localhost:8080/",
          "height": 442
        },
        "outputId": "4b82dea3-afe4-4da2-92cb-e9ddcaafe946"
      },
      "source": [
        "sm = SMOTE(sampling_strategy = {'Web_attack':16000})\n",
        "X_smote, y_smote = sm.fit_resample(X, y)\n",
        "print(X_smote.shape)\n",
        "plot = pd.DataFrame(data=y_smote).value_counts().plot(kind='bar',\n",
        "                                            title='Clases de ataques')\n",
        "counter = Counter(y_smote)\n",
        "print(counter)"
      ],
      "execution_count": null,
      "outputs": [
        {
          "output_type": "stream",
          "text": [
            "/usr/local/lib/python3.7/dist-packages/sklearn/utils/deprecation.py:87: FutureWarning: Function safe_indexing is deprecated; safe_indexing is deprecated in version 0.22 and will be removed in version 0.24.\n",
            "  warnings.warn(msg, category=FutureWarning)\n"
          ],
          "name": "stderr"
        },
        {
          "output_type": "stream",
          "text": [
            "(820406, 78)\n",
            "Counter({'Benign': 434991, 'DoS': 117240, 'DDoS': 94616, 'Bruteforce': 76190, 'Bot': 40885, 'Infilteration': 40484, 'Web_attack': 16000})\n"
          ],
          "name": "stdout"
        },
        {
          "output_type": "display_data",
          "data": {
            "image/png": "[encoded data removed]",
            "text/plain": [
              "<Figure size 432x288 with 1 Axes>"
            ]
          },
          "metadata": {
            "tags": [],
            "needs_background": "light"
          }
        }
      ]
    },
    {
      "cell_type": "code",
      "metadata": {
        "id": "sqkgn-MbWwZd",
        "colab": {
          "base_uri": "https://localhost:8080/",
          "height": 313
        },
        "outputId": "35fe9b62-f8b3-4adb-8591-7501e7210516"
      },
      "source": [
        "import matplotlib.pylab as plt\n",
        "\n",
        "lists = sorted(counter.items()) # sorted by key, return a list of tuples\n",
        "\n",
        "x_bar, y_bar = zip(*lists) # unpack a list of pairs into two tuples\n",
        "barWidth = 0.7\n",
        "\n",
        "labelsP = y_bar\n",
        "plt.bar(x_bar, y_bar, width = barWidth, color = '#9ECAE1', edgecolor = 'grey', capsize=7, label='Ataques')\n",
        "for i in range(len(y_bar)):\n",
        "    plt.text(x = i-0.2, y = y_bar [i]+10, s = labelsP[i], size = 12, color='dimgrey')\n",
        "\n",
        "plt.xticks(x_bar)\n",
        "plt.xticks(rotation=90)\n",
        "plt.ylabel('Cantidad de registros')\n",
        "plt.legend()\n",
        "\n",
        "plt.gca().spines['top'].set_visible(False)\n",
        "plt.gca().spines['right'].set_visible(False)\n",
        "\n",
        "plt.show()"
      ],
      "execution_count": null,
      "outputs": [
        {
          "output_type": "display_data",
          "data": {
            "image/png": "[encoded data removed]",
            "text/plain": [
              "<Figure size 432x288 with 1 Axes>"
            ]
          },
          "metadata": {
            "tags": [],
            "needs_background": "light"
          }
        }
      ]
    },
    {
      "cell_type": "code",
      "metadata": {
        "id": "tcnT26qpoSN3",
        "colab": {
          "base_uri": "https://localhost:8080/"
        },
        "outputId": "0d0211d1-b3a9-44ca-ffa8-35509b074b10"
      },
      "source": [
        "#tot=np.concatenate((X_smote, y_smote))\n",
        "X_df=pd.DataFrame(data=X_smote)\n",
        "y_df=pd.DataFrame(data=y_smote)\n",
        "\n",
        "tot=pd.concat([X_df,y_df], axis=1)\n",
        "print(X_df.shape)\n",
        "print (pd.unique(y_df.squeeze()))\n",
        "\n"
      ],
      "execution_count": null,
      "outputs": [
        {
          "output_type": "stream",
          "text": [
            "(820406, 78)\n",
            "['Benign' 'Bot' 'DoS' 'Web_attack' 'Bruteforce' 'DDoS' 'Infilteration']\n"
          ],
          "name": "stdout"
        }
      ]
    },
    {
      "cell_type": "code",
      "metadata": {
        "id": "poxp-v15nDPk"
      },
      "source": [
        "tot.to_csv(r'gdrive/My Drive/Doctorado/IDS data/DF_peq_full.csv', index = False)"
      ],
      "execution_count": null,
      "outputs": []
    }
  ]
}
