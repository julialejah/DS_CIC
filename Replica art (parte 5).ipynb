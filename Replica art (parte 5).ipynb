{
 "cells": [
  {
   "cell_type": "markdown",
   "metadata": {},
   "source": [
    "# VALIDATION OF ML MODELS\n"
   ]
  },
  {
   "cell_type": "code",
   "execution_count": 1,
   "metadata": {
    "collapsed": true
   },
   "outputs": [],
   "source": [
    "from sklearn.tree import DecisionTreeClassifier\n",
    "from sklearn.ensemble import RandomForestClassifier\n",
    "from sklearn.neighbors import KNeighborsClassifier\n",
    "from sklearn.naive_bayes import GaussianNB\n",
    "from sklearn.ensemble import AdaBoostClassifier\n",
    "from sklearn import svm\n",
    "from sklearn.metrics import classification_report\n",
    "from sklearn.metrics import (precision_score, recall_score,f1_score, accuracy_score,mean_squared_error,mean_absolute_error)\n",
    "import pandas as pd\n",
    "from csv import reader\n",
    "pd.set_option('display.max_columns', 50)\n",
    "import numpy as np\n",
    "from imblearn.over_sampling import SMOTE\n",
    "from sklearn.model_selection import train_test_split\n",
    "import random\n",
    "from sklearn import metrics\n",
    "\n"
   ]
  },
  {
   "cell_type": "code",
   "execution_count": 2,
   "metadata": {
    "collapsed": true
   },
   "outputs": [],
   "source": [
    "X_smote=pd.read_csv(\"X_smote.csv\",sep=',',dtype=np.float32)\n",
    "y_smote=pd.read_csv(\"y_smote.csv\",sep=',')\n",
    "\n",
    "X_Val=pd.read_csv(\"X_Val.csv\",sep=',',dtype=np.float32)\n",
    "y_Val=pd.read_csv(\"y_Val.csv\",sep=',')\n",
    "\n",
    "X_Test=pd.read_csv(\"X_Test.csv\",sep=',',dtype=np.float32)\n",
    "y_Test=pd.read_csv(\"y_Test.csv\",sep=',')"
   ]
  },
  {
   "cell_type": "code",
   "execution_count": 3,
   "metadata": {
    "collapsed": true
   },
   "outputs": [
    {
     "name": "stdout",
     "output_type": "stream",
     "text": [
      "['Benign' 'Bot' 'DDOS attack-HOIC' 'DoS attacks-SlowHTTPTest'\n",
      " 'DoS attacks-Hulk' 'DDoS attacks-LOIC-HTTP' 'SSH-Bruteforce'\n",
      " 'Infilteration' 'FTP-BruteForce' 'DoS attacks-Slowloris'\n",
      " 'DoS attacks-GoldenEye' 'DDOS attack-LOIC-UDP' 'Brute Force -XSS'\n",
      " 'SQL Injection' 'Brute Force -Web' 'Label']\n",
      "Int64Index([], dtype='int64')\n",
      "False\n",
      "(4900912, 78)\n"
     ]
    }
   ],
   "source": [
    "print (pd.unique(y_smote.iloc[:,-1].squeeze()))\n",
    "print(X_smote.index[np.isinf(X_smote).any(1)])\n",
    "print(X_smote.isna().values.any())\n",
    "print (X_smote.shape)"
   ]
  },
  {
   "cell_type": "code",
   "execution_count": null,
   "metadata": {
    "collapsed": true
   },
   "outputs": [
    {
     "name": "stderr",
     "output_type": "stream",
     "text": [
      "/usr/local/lib/python3.6/dist-packages/sklearn/utils/validation.py:63: DataConversionWarning: A column-vector y was passed when a 1d array was expected. Please change the shape of y to (n_samples, ), for example using ravel().\n",
      "  return f(*args, **kwargs)\n"
     ]
    },
    {
     "name": "stdout",
     "output_type": "stream",
     "text": [
      "[LibSVM]"
     ]
    }
   ],
   "source": [
    "from sklearn.svm import SVC\n",
    "model6 = SVC(verbose=True)\n",
    "model6.fit(X_smote, y_smote)\n",
    "# make predictions\n",
    "predicted = model6.predict(X_Val)\n",
    "expected = y_Val\n",
    "# summarize the fit of the model\n",
    "print(\"**********************---VALIDATION---************************\")\n",
    "print(\"********************SUPPORT VECTOR MACHINE*******************\")\n",
    "print(classification_report(expected,predicted))\n",
    "print(metrics.accuracy_score(expected,predicted))\n",
    "original_stdout = sys.stdout # Save a reference to the original standard output\n",
    "\n",
    "with open('resultadoVAL_SVC.txt', 'w') as f:\n",
    "    sys.stdout = f # Change the standard output to the file we created.\n",
    "    print(classification_report(expected,predicted))\n",
    "    sys.stdout = original_stdout # Reset the standard output to its original value\n",
    "\n"
   ]
  },
  {
   "cell_type": "code",
   "execution_count": null,
   "metadata": {
    "collapsed": true
   },
   "outputs": [],
   "source": [
    "# make predictions\n",
    "predicted = model6.predict(X_Test)\n",
    "expected = y_Test\n",
    "# summarize the fit of the model\n",
    "print(\"**********************---VALIDATION---************************\")\n",
    "print(\"********************SUPPORT VECTOR MACHINE*******************\")\n",
    "print(classification_report(expected,predicted))\n",
    "print(metrics.accuracy_score(expected,predicted))\n",
    "\n",
    "original_stdout = sys.stdout # Save a reference to the original standard output\n",
    "\n",
    "with open('resultadoTEST_SVC.txt', 'w') as f:\n",
    "    sys.stdout = f # Change the standard output to the file we created.\n",
    "    print(classification_report(expected,predicted))\n",
    "    sys.stdout = original_stdout # Reset the standard output to its original value\n",
    "\n"
   ]
  },
  {
   "cell_type": "code",
   "execution_count": null,
   "metadata": {
    "collapsed": true
   },
   "outputs": [],
   "source": [
    "#esta es una nota\n"
   ]
  }
 ],
 "metadata": {
  "kernelspec": {
   "display_name": "Python 3",
   "language": "python",
   "name": "python3"
  },
  "language_info": {
   "codemirror_mode": {
    "name": "ipython",
    "version": 3
   },
   "file_extension": ".py",
   "mimetype": "text/x-python",
   "name": "python",
   "nbconvert_exporter": "python",
   "pygments_lexer": "ipython3",
   "version": "3.6.9"
  }
 },
 "nbformat": 4,
 "nbformat_minor": 2
}
