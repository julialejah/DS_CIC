{
 "cells": [
  {
   "cell_type": "markdown",
   "metadata": {},
   "source": [
    "#Preprocessing 1\n",
    "In the original dataset, there are some features have little impacts on whether the traffic is abnormal or not, such as timestamps and IP addresses. The timestamp records the time when the anomalous network traffic occurred, which are of little help in training our neural network, so we removed this feature. In addition, as an anomaly detection system, we hope it can classify the network traffics according to their behavioral characteristics, and should not be biased against the IP address, so we also deleted the column of feature.\n",
    "\n",
    "**So we under-sampled the normal traffics and only took 2 million records randomly**\n",
    "\n",
    "\n",
    "---"
   ]
  },
  {
   "cell_type": "code",
   "execution_count": 1,
   "metadata": {},
   "outputs": [],
   "source": [
    "import pandas as pd\n",
    "from csv import reader\n",
    "pd.set_option('display.max_columns', 50)\n",
    "import numpy as np\n",
    "from imblearn.over_sampling import SMOTE\n",
    "from sklearn.model_selection import train_test_split\n",
    "import random"
   ]
  },
  {
   "cell_type": "code",
   "execution_count": 2,
   "metadata": {},
   "outputs": [
    {
     "name": "stderr",
     "output_type": "stream",
     "text": [
      "/usr/local/lib/python3.6/dist-packages/IPython/core/interactiveshell.py:3063: DtypeWarning: Columns (0,1,3,4,5,6,7,8,9,10,11,12,13,14,15,16,17,18,19,20,21,22,23,24,25,26,27,28,29,30,31,32,33,34,35,36,37,38,39,40,41,42,43,44,45,46,47,48,49,50,51,52,53,54,55,56,57,58,59,60,61,62,63,64,65,66,67,68,69,70,71,72,73,74,75,76,77,78) have mixed types.Specify dtype option on import or set low_memory=False.\n",
      "  interactivity=interactivity, compiler=compiler, result=result)\n"
     ]
    },
    {
     "name": "stdout",
     "output_type": "stream",
     "text": [
      "['Benign' 'Bot' 'DoS attacks-SlowHTTPTest' 'DoS attacks-Hulk' 'Label'\n",
      " 'Brute Force -Web' 'Brute Force -XSS' 'SQL Injection'\n",
      " 'DoS attacks-GoldenEye' 'DoS attacks-Slowloris' 'FTP-BruteForce'\n",
      " 'SSH-Bruteforce' 'DDOS attack-LOIC-UDP' 'DDOS attack-HOIC'\n",
      " 'Infilteration' 'DDoS attacks-LOIC-HTTP']\n"
     ]
    }
   ],
   "source": [
    "#muestraDF.to_csv('DF_undersample.csv', index = False)\n",
    "\n",
    "\n",
    "muestraDF=pd.read_csv(\"DF_undersample.csv\",sep=',')\n",
    "print (pd.unique(muestraDF.iloc[:,-1].squeeze()))"
   ]
  },
  {
   "cell_type": "code",
   "execution_count": 3,
   "metadata": {},
   "outputs": [
    {
     "name": "stdout",
     "output_type": "stream",
     "text": [
      "Dst Port          object\n",
      " Protocol         object\n",
      " Timestamp        object\n",
      " Flow Duration    object\n",
      " Tot Fwd Pkts     object\n",
      "                   ...  \n",
      "Idle Mean         object\n",
      "Idle Std          object\n",
      "Idle Max          object\n",
      "Idle Min          object\n",
      "Label             object\n",
      "Length: 80, dtype: object\n"
     ]
    }
   ],
   "source": [
    "print(muestraDF.dtypes)"
   ]
  },
  {
   "cell_type": "markdown",
   "metadata": {},
   "source": [
    "#Preprocessing 2\n",
    "\n",
    "After completing the above works, we divide the dataset into training set, test set and validation set, which are 90%, 9% and 1% of the original data respectively. The training set is used for training, the validation set is used for rapid evaluation of the model during training, and the test set is used for final evaluation of the model. In addition, we noticed that there are too many normal network traffic samples in the dataset, which can easily affect the classification preference of the model. **So we under-sampled the normal traffics and only took 2 million records randomly**. "
   ]
  },
  {
   "cell_type": "code",
   "execution_count": 4,
   "metadata": {},
   "outputs": [
    {
     "name": "stdout",
     "output_type": "stream",
     "text": [
      "(4096753, 80)\n",
      "True\n",
      "(4096753, 79)\n"
     ]
    }
   ],
   "source": [
    "print(muestraDF.shape)\n",
    "print(muestraDF.isna().values.any())\n",
    "muestraDF=muestraDF.drop(columns=[' Timestamp'],axis=1)\n",
    "print(muestraDF.shape)"
   ]
  },
  {
   "cell_type": "code",
   "execution_count": 5,
   "metadata": {},
   "outputs": [
    {
     "name": "stdout",
     "output_type": "stream",
     "text": [
      "['Benign' 'Bot' 'DoS attacks-SlowHTTPTest' 'DoS attacks-Hulk' 'Label'\n",
      " 'Brute Force -Web' 'Brute Force -XSS' 'SQL Injection'\n",
      " 'DoS attacks-GoldenEye' 'DoS attacks-Slowloris' 'FTP-BruteForce'\n",
      " 'SSH-Bruteforce' 'DDOS attack-LOIC-UDP' 'DDOS attack-HOIC'\n",
      " 'Infilteration' 'DDoS attacks-LOIC-HTTP']\n"
     ]
    }
   ],
   "source": [
    "y=muestraDF.iloc[:,-1]\n",
    "print (pd.unique(y.squeeze()))"
   ]
  },
  {
   "cell_type": "code",
   "execution_count": 6,
   "metadata": {},
   "outputs": [
    {
     "name": "stdout",
     "output_type": "stream",
     "text": [
      "False\n",
      "Dst Port          float64\n",
      " Protocol         float64\n",
      " Flow Duration    float64\n",
      " Tot Fwd Pkts     float64\n",
      " Tot Bwd Pkts     float64\n",
      "                   ...   \n",
      " Active Min       float64\n",
      "Idle Mean         float64\n",
      "Idle Std          float64\n",
      "Idle Max          float64\n",
      "Idle Min          float64\n",
      "Length: 78, dtype: object\n"
     ]
    },
    {
     "data": {
      "text/plain": [
       "Int64Index([     66,     105,     110,     116,   32494,   32513,   43093,\n",
       "              43128,   43137,   43138,\n",
       "            ...\n",
       "            4085176, 4085198, 4085904, 4087502, 4087517, 4087536, 4087881,\n",
       "            4089289, 4089296, 4089457],\n",
       "           dtype='int64', length=10620)"
      ]
     },
     "execution_count": 6,
     "metadata": {},
     "output_type": "execute_result"
    }
   ],
   "source": [
    "X=muestraDF.iloc[:,0:78]\n",
    "X = X.replace([np.inf, -np.inf], np.nan)\n",
    "nom_cols=['Dst Port',' Protocol',' Flow Duration',' Tot Fwd Pkts',' Tot Bwd Pkts',' TotLen Fwd Pkts',' TotLen Bwd Pkts',' Fwd Pkt Len Max',' Fwd Pkt Len Min',' Fwd Pkt Len Mean',' Fwd Pkt Len Std',' Bwd Pkt Len Max',' Bwd Pkt Len Min',' Bwd Pkt Len Mean',' Bwd Pkt Len Std',' Flow Byts/s',' Flow Pkts/s',' Flow IAT Mean',' Flow IAT Std',' Flow IAT Max',' Flow IAT Min',' Fwd IAT Tot',' Fwd IAT Mean',' Fwd IAT Std',' Fwd IAT Max',' Fwd IAT Min',' Bwd IAT Tot',' Bwd IAT Mean',' Bwd IAT Std',' Bwd IAT Max',' Bwd IAT Min',' Fwd PSH Flags',' Bwd PSH Flags',' Fwd URG Flags',' Bwd URG Flags',' Fwd Header Len',' Bwd Header Len',' Fwd Pkts/s',' Bwd Pkts/s',' Pkt Len Min',' Pkt Len Max',' Pkt Len Mean',' Pkt Len Std',' Pkt Len Var',' FIN Flag Cnt',' SYN Flag Cnt',' RST Flag Cnt',' PSH Flag Cnt',' ACK Flag Cnt',' URG Flag Cnt',' CWE Flag Count',' ECE Flag Cnt',' Down/Up Ratio',' Pkt Size Avg',' Fwd Seg Size Avg',' Bwd Seg Size Avg',' Fwd Byts/b Avg',' Fwd Pkts/b Avg', 'Fwd Blk Rate Avg', 'Bwd Byts/b Avg',' Bwd Pkts/b Avg', 'Bwd Blk Rate Avg', 'Subflow Fwd Pkts', 'Subflow Fwd Byts',' Subflow Bwd Pkts', 'Subflow Bwd Byts', 'Init Fwd Win Byts', 'Init Bwd Win Byts', 'Fwd Act Data Pkts', 'Fwd Seg Size Min', 'Active Mean', 'Active Std', 'Active Max',' Active Min', 'Idle Mean', 'Idle Std', 'Idle Max','Idle Min']\n",
    "for i in nom_cols:\n",
    "    X[i]=pd.to_numeric(X[i], errors='coerce')\n",
    "    X[i] = X[i].fillna(X[i].mean())\n",
    "print(X.isna().values.any())\n",
    "print(X.dtypes)\n",
    "X.index[np.isinf(X).any(1)]"
   ]
  },
  {
   "cell_type": "code",
   "execution_count": 7,
   "metadata": {},
   "outputs": [
    {
     "name": "stdout",
     "output_type": "stream",
     "text": [
      "False\n"
     ]
    }
   ],
   "source": [
    "X = X.replace([np.inf, -np.inf], np.nan)\n",
    "for i in nom_cols:\n",
    "    X[i]=pd.to_numeric(X[i], errors='coerce')\n",
    "    X[i] = X[i].fillna(X[i].mean())\n",
    "\n",
    "X.index[np.isinf(X).any(1)]\n",
    "print(X.isna().values.any())"
   ]
  },
  {
   "cell_type": "code",
   "execution_count": 8,
   "metadata": {},
   "outputs": [
    {
     "data": {
      "text/plain": [
       "Int64Index([], dtype='int64')"
      ]
     },
     "execution_count": 8,
     "metadata": {},
     "output_type": "execute_result"
    }
   ],
   "source": [
    "X.index[np.isinf(X).any(1)]\n",
    "\n"
   ]
  },
  {
   "cell_type": "code",
   "execution_count": 9,
   "metadata": {},
   "outputs": [],
   "source": [
    "y=y.replace (['DDOS attack-LOIC-UDP', 'DDOS attack-HOIC','DDoS attacks-LOIC-HTTP'],'DDoS')\n",
    "y=y.replace (['Brute Force -Web', 'Brute Force -XSS', 'SQL Injection'],'Web_attack')\n",
    "y=y.replace (['FTP-BruteForce', 'SSH-Bruteforce'],'Bruteforce')\n",
    "y=y.replace (['DoS attacks-GoldenEye', 'DoS attacks-Slowloris', 'DoS attacks-SlowHTTPTest', 'DoS attacks-Hulk'],'DoS')\n",
    "\n",
    "#DDoS\t(DDOS attack-LOIC-UDP', DDOS attack-HOIC',DDoS attacks-LOIC-HTTP)\n",
    "#BOT\t(Bot)\n",
    "#Inf\t(Infilteration)\n",
    "#Web attack\t(Brute Force -Web', Brute Force -XSS', SQL Injection')\n",
    "#BF\t(FTP-BruteForce', SSH-Bruteforce')\n",
    "#DoS (DoS attacks-GoldenEye', DoS attacks-Slowloris', DoS attacks-SlowHTTPTest', DoS attacks-Hulk')"
   ]
  },
  {
   "cell_type": "code",
   "execution_count": 10,
   "metadata": {},
   "outputs": [
    {
     "name": "stdout",
     "output_type": "stream",
     "text": [
      "False\n",
      "['Benign' 'Bot' 'DoS' 'Label' 'Web_attack' 'Bruteforce' 'DDoS'\n",
      " 'Infilteration']\n",
      "False\n",
      "False\n",
      "False\n"
     ]
    }
   ],
   "source": [
    "print(X.isna().values.any())\n",
    "print (pd.unique(y.squeeze()))\n",
    "\n",
    "X_Train, X_2, y_Train, y_2= train_test_split(X, y, test_size=0.1, random_state=1)\n",
    "X_Test, X_Val, y_Test, y_Val = train_test_split(X_Train, y_Train, test_size=0.1, random_state=1) \n",
    "\n",
    "print(X_Train.isna().values.any())\n",
    "print(X_Val.isna().values.any())\n",
    "print(X_Test.isna().values.any())\n",
    "\n",
    "\n",
    "\n",
    "X_Val.to_csv('X_Val.csv', index = False)\n",
    "y_Val.to_csv('y_Val.csv', index = False)\n",
    "\n",
    "X_Test.to_csv('X_Test.csv', index = False)\n",
    "y_Test.to_csv('y_Test.csv', index = False)"
   ]
  },
  {
   "cell_type": "code",
   "execution_count": 11,
   "metadata": {},
   "outputs": [
    {
     "data": {
      "text/plain": [
       "Int64Index([], dtype='int64')"
      ]
     },
     "execution_count": 11,
     "metadata": {},
     "output_type": "execute_result"
    }
   ],
   "source": [
    "X_Train.index[np.isinf(X_Train).any(1)]"
   ]
  },
  {
   "cell_type": "raw",
   "metadata": {},
   "source": [
    "#Preprocessing 3\n",
    "Furthermore, we over-sampled the samples of Web attack and Infiltration attack by using SMOTE algorithm. Oversampling is only implemented in training set. After dividing the dataset, we shuffle the training set to ensure the loss value change smoothly during training."
   ]
  },
  {
   "cell_type": "code",
   "execution_count": 12,
   "metadata": {},
   "outputs": [
    {
     "name": "stdout",
     "output_type": "stream",
     "text": [
      "False\n",
      "['Benign' 'Bot' 'DDoS' 'DoS' 'Bruteforce' 'Infilteration' 'Web_attack'\n",
      " 'Label']\n",
      "['Benign' 'Bot' 'DDoS' 'DoS' 'Bruteforce' 'Infilteration' 'Web_attack'\n",
      " 'Label']\n",
      "<class 'imblearn.over_sampling._smote.base.SMOTE'>\n",
      "(4900912, 78)\n"
     ]
    }
   ],
   "source": [
    "from imblearn.over_sampling import SMOTE\n",
    "\n",
    "oversample = SMOTE(sampling_strategy='minority')\n",
    "print(X_Train.isna().values.any())\n",
    "print (pd.unique(y_Train.squeeze()))\n",
    "X_smote, y_smote = oversample.fit_resample(X_Train, y_Train)\n",
    "print (pd.unique(y_smote.squeeze()))\n",
    "print(type(oversample))\n",
    "print (X_smote.shape)\n",
    "X_smote.to_csv('X_smote.csv', index = False)\n",
    "y_smote.to_csv('y_smote.csv', index = False)"
   ]
  },
  {
   "cell_type": "code",
   "execution_count": null,
   "metadata": {},
   "outputs": [],
   "source": []
  }
 ],
 "metadata": {
  "kernelspec": {
   "display_name": "Python 3",
   "language": "python",
   "name": "python3"
  },
  "language_info": {
   "codemirror_mode": {
    "name": "ipython",
    "version": 3
   },
   "file_extension": ".py",
   "mimetype": "text/x-python",
   "name": "python",
   "nbconvert_exporter": "python",
   "pygments_lexer": "ipython3",
   "version": "3.6.9"
  }
 },
 "nbformat": 4,
 "nbformat_minor": 2
}
